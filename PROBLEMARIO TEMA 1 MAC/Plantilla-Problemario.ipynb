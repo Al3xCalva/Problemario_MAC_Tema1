{
  "cells": [
    {
      "cell_type": "markdown",
      "metadata": {
        "id": "8gMgzgfJq1iY"
      },
      "source": [
        "<img src=\"https://github.com/Al3xCalva/Problemario_MAC_Tema1/blob/main/PROBLEMARIO%20TEMA%201%20MAC/itsoeh.png?raw=1\" width=\"300\" align=\"center\">\n"
      ]
    },
    {
      "cell_type": "markdown",
      "metadata": {
        "id": "JqnySKNyq1iZ"
      },
      "source": [
        "# Problemario"
      ]
    },
    {
      "cell_type": "markdown",
      "metadata": {
        "id": "hld_cy_9q1iZ"
      },
      "source": [
        "Nombre del alumno: R. Alexander Calva Obregon"
      ]
    },
    {
      "cell_type": "markdown",
      "metadata": {
        "id": "vWYLwYvGq1iZ"
      },
      "source": [
        "Asignatura: Matematicas aplicadas a comunicaciones"
      ]
    },
    {
      "cell_type": "markdown",
      "metadata": {
        "id": "oFbHwOymq1iZ"
      },
      "source": [
        "Fecha de entrega: 19 de Septiembre de 2025"
      ]
    },
    {
      "cell_type": "markdown",
      "metadata": {
        "id": "5OVCu837q1iZ"
      },
      "source": [
        "Tema: ECUACIONES DIFERENCIALES"
      ]
    },
    {
      "cell_type": "markdown",
      "metadata": {
        "id": "RY7dldMsq1iZ"
      },
      "source": [
        "Tema: 1"
      ]
    },
    {
      "cell_type": "markdown",
      "metadata": {
        "id": "ybNcdobGq1ia"
      },
      "source": [
        "**Sección I**:"
      ]
    },
    {
      "cell_type": "markdown",
      "metadata": {
        "id": "Cc0gDVeOq1ia"
      },
      "source": [
        "*Instrucciones*\n",
        "\n",
        "Resuelva las siguientes ecuaciones diferenciales empleando alguno de los método revisados en clase:\n",
        "* Separación de varibles\n",
        "* Factor Integrante\n",
        "\n"
      ]
    },
    {
      "cell_type": "markdown",
      "metadata": {
        "id": "gmm7FImqq1ia"
      },
      "source": [
        "Evidencia de firma para validar sección:"
      ]
    },
    {
      "cell_type": "markdown",
      "metadata": {
        "id": "JraH8efGq1ia"
      },
      "source": [
        "# Actividad 1: Nombrar ecuaciones diferenciales"
      ]
    },
    {
      "cell_type": "code",
      "execution_count": 6,
      "metadata": {
        "id": "xyp48PZFq1ia"
      },
      "outputs": [],
      "source": [
        "import matplotlib.pyplot as plt\n",
        "import sympy as sp\n",
        "sp.init_printing(use_latex='mathjax')\n",
        "from tabulate import tabulate\n"
      ]
    },
    {
      "cell_type": "markdown",
      "metadata": {
        "id": "WfTTIiepq1ib"
      },
      "source": [
        "<p align=\"center\">\n",
        "  <img src=\"https://github.com/Al3xCalva/Problemario_MAC_Tema1/blob/main/PROBLEMARIO%20TEMA%201%20MAC/Problemario%20Saul%202/JPEG%20image-82AA85A88DC9-1.jpeg?raw=1\" width=\"500\">\n",
        "</p>\n"
      ]
    },
    {
      "cell_type": "markdown",
      "metadata": {
        "id": "3dSbfSR1q1ib"
      },
      "source": [
        "<p align=\"center\">\n",
        "  <img src=\"\" width=\"300\">\n",
        "</p>\n"
      ]
    },
    {
      "cell_type": "markdown",
      "metadata": {
        "id": "RR0__S-eq1ib"
      },
      "source": [
        "$$\n",
        "x^2 \\left( \\frac{d^3y}{dx^3} \\right) + x \\left( \\frac{dy}{dx} \\right) - 5y = e^x\n",
        "$$"
      ]
    },
    {
      "cell_type": "code",
      "execution_count": 7,
      "metadata": {
        "id": "dvnEVw8Cq1ib",
        "outputId": "7c1863a4-3dc8-46ae-d2c9-1da4aefb2dc7",
        "colab": {
          "base_uri": "https://localhost:8080/"
        }
      },
      "outputs": [
        {
          "output_type": "stream",
          "name": "stdout",
          "text": [
            "+------------------------+---------------+\n",
            "| Característica         | Descripción   |\n",
            "+========================+===============+\n",
            "| Ecuación Diferencial   | Sí            |\n",
            "+------------------------+---------------+\n",
            "| Orden                  | Tercer orden  |\n",
            "+------------------------+---------------+\n",
            "| Grado                  | Primer grado  |\n",
            "+------------------------+---------------+\n",
            "| Variables (indep, dep) | x, y          |\n",
            "+------------------------+---------------+\n",
            "| Tipo                   | Ordinaria     |\n",
            "+------------------------+---------------+\n",
            "| Lineal                 | No            |\n",
            "+------------------------+---------------+\n",
            "| Homogénea              | No            |\n",
            "+------------------------+---------------+\n"
          ]
        }
      ],
      "source": [
        "datos_1 = {\n",
        "    'Característica': ['Ecuación Diferencial', 'Orden', 'Grado', 'Variables (indep, dep)', 'Tipo', 'Lineal', 'Homogénea'],\n",
        "    'Descripción': ['Sí', 'Tercer orden', 'Primer grado', 'x, y', 'Ordinaria', 'No', 'No']\n",
        "}\n",
        "print(tabulate(datos_1, headers='keys', tablefmt='grid'))"
      ]
    },
    {
      "cell_type": "markdown",
      "metadata": {
        "id": "L1FfL6lyq1ib"
      },
      "source": [
        "Nombre:Ecuación diferencial ordinaria de tercer orden, de primer grado, lineal y no homogénea."
      ]
    },
    {
      "cell_type": "markdown",
      "metadata": {
        "id": "OKGGFiNdq1ic"
      },
      "source": [
        "$$\n",
        "y^2 \\left( \\frac{d^3y}{dx^3} \\right) + x \\frac{dy}{dx} - 5y^2 = e^y\n",
        "$$"
      ]
    },
    {
      "cell_type": "code",
      "execution_count": 8,
      "metadata": {
        "id": "E_2jd3Paq1ic",
        "outputId": "51e9da69-d710-497e-e292-95d4fe78cc46",
        "colab": {
          "base_uri": "https://localhost:8080/"
        }
      },
      "outputs": [
        {
          "output_type": "stream",
          "name": "stdout",
          "text": [
            "+------------------------+---------------+\n",
            "| Característica         | Descripción   |\n",
            "+========================+===============+\n",
            "| Ecuación Diferencial   | Sí            |\n",
            "+------------------------+---------------+\n",
            "| Orden                  | Primer orden  |\n",
            "+------------------------+---------------+\n",
            "| Grado                  | Primer grado  |\n",
            "+------------------------+---------------+\n",
            "| Variables (indep, dep) | x, y          |\n",
            "+------------------------+---------------+\n",
            "| Tipo                   | Ordinaria     |\n",
            "+------------------------+---------------+\n",
            "| Lineal                 | No            |\n",
            "+------------------------+---------------+\n",
            "| Homogénea              | No            |\n",
            "+------------------------+---------------+\n"
          ]
        }
      ],
      "source": [
        "datos_2 = {\n",
        "    'Característica': ['Ecuación Diferencial', 'Orden', 'Grado', 'Variables (indep, dep)', 'Tipo', 'Lineal', 'Homogénea'],\n",
        "    'Descripción': ['Sí', 'Primer orden', 'Primer grado', 'x, y', 'Ordinaria', 'No', 'No']\n",
        "}\n",
        "print(tabulate(datos_2, headers='keys', tablefmt='grid'))\n"
      ]
    },
    {
      "cell_type": "markdown",
      "metadata": {
        "id": "0QGO82V0q1ic"
      },
      "source": [
        "Nombre: Ecuación diferencial ordinaria de tercer orden, de primer grado, lineal y no homogénea."
      ]
    },
    {
      "cell_type": "markdown",
      "metadata": {
        "id": "u_73PcQ5q1ic"
      },
      "source": [
        "$$\n",
        "(1-y)y + 2y' = e^x\n",
        "$$"
      ]
    },
    {
      "cell_type": "code",
      "execution_count": 9,
      "metadata": {
        "id": "Zmywrvdsq1ic",
        "outputId": "f51f4045-d37f-4c14-f825-5bd215d74cbc",
        "colab": {
          "base_uri": "https://localhost:8080/"
        }
      },
      "outputs": [
        {
          "output_type": "stream",
          "name": "stdout",
          "text": [
            "+------------------------+---------------+\n",
            "| Característica         | Descripción   |\n",
            "+========================+===============+\n",
            "| Ecuación Diferencial   | Sí            |\n",
            "+------------------------+---------------+\n",
            "| Orden                  | Segundo orden |\n",
            "+------------------------+---------------+\n",
            "| Grado                  | Primer grado  |\n",
            "+------------------------+---------------+\n",
            "| Variables (indep, dep) | x, y          |\n",
            "+------------------------+---------------+\n",
            "| Tipo                   | Ordinaria     |\n",
            "+------------------------+---------------+\n",
            "| Lineal                 | No            |\n",
            "+------------------------+---------------+\n",
            "| Homogénea              | No            |\n",
            "+------------------------+---------------+\n"
          ]
        }
      ],
      "source": [
        "datos_3 = {\n",
        "    'Característica': ['Ecuación Diferencial', 'Orden', 'Grado', 'Variables (indep, dep)', 'Tipo', 'Lineal', 'Homogénea'],\n",
        "    'Descripción': ['Sí', 'Segundo orden', 'Primer grado', 'x, y', 'Ordinaria', 'No', 'No']\n",
        "}\n",
        "\n",
        "print(tabulate(datos_3, headers='keys', tablefmt='grid'))"
      ]
    },
    {
      "cell_type": "markdown",
      "metadata": {
        "id": "HBbo-toVq1ic"
      },
      "source": [
        "Nombre: Ecuación diferencial ordinaria de segundo orden, de primer grado, no lineal y no homogénea."
      ]
    },
    {
      "cell_type": "markdown",
      "metadata": {
        "id": "hQimafrVq1id"
      },
      "source": [
        "<p align=\"center\">\n",
        "  <img src=\"https://github.com/Al3xCalva/Problemario_MAC_Tema1/blob/main/PROBLEMARIO%20TEMA%201%20MAC/Problemario%20Saul%202/JPEG%20image-82AA85A88DC9-2.jpeg?raw=1\" width=\"500\">\n",
        "</p>\n"
      ]
    },
    {
      "cell_type": "markdown",
      "metadata": {
        "id": "fZxZHiWzq1id"
      },
      "source": [
        "$$\n",
        "\\left( \\frac{d^2y}{dx^2} \\right) + \\sin(y) = \\cos(x)\n",
        "$$"
      ]
    },
    {
      "cell_type": "code",
      "execution_count": 10,
      "metadata": {
        "id": "kB5_vMTMq1id",
        "outputId": "517b5a9d-e9c9-4cfa-b99b-9f60e3ce729b",
        "colab": {
          "base_uri": "https://localhost:8080/"
        }
      },
      "outputs": [
        {
          "output_type": "stream",
          "name": "stdout",
          "text": [
            "+----------------------+---------------+\n",
            "| Característica       | Descripción   |\n",
            "+======================+===============+\n",
            "| Ecuación Diferencial | si            |\n",
            "+----------------------+---------------+\n",
            "| Orden                | Tercer        |\n",
            "+----------------------+---------------+\n",
            "| Grado                | Primer        |\n",
            "+----------------------+---------------+\n",
            "| Variables            | x, y          |\n",
            "+----------------------+---------------+\n",
            "| Tipo                 | Ordinaria     |\n",
            "+----------------------+---------------+\n",
            "| Lineal               | Si            |\n",
            "+----------------------+---------------+\n",
            "| Homogénea            | No            |\n",
            "+----------------------+---------------+\n"
          ]
        }
      ],
      "source": [
        "datos = {\n",
        "    'Característica': [\n",
        "    'Ecuación Diferencial', 'Orden', 'Grado', 'Variables', 'Tipo', 'Lineal', 'Homogénea'],\n",
        "    'Descripción': ['si', 'Tercer', 'Primer', 'x, y', 'Ordinaria', 'Si', 'No']}\n",
        "print(tabulate(datos, headers='keys', tablefmt='grid'))"
      ]
    },
    {
      "cell_type": "markdown",
      "metadata": {
        "id": "9CqRI0sGq1id"
      },
      "source": [
        "Nombre: Ecuación diferencial ordinaria de tercer orden, de primer grado, lineal y no homogénea.\n",
        "\n"
      ]
    },
    {
      "cell_type": "markdown",
      "metadata": {
        "id": "-afC66w5q1id"
      },
      "source": [
        "# Actividad 2: Nombrar ecuaciones diferenciales"
      ]
    },
    {
      "cell_type": "markdown",
      "metadata": {
        "id": "SW2Y20rxq1id"
      },
      "source": [
        "<p align=\"center\">\n",
        "  <img src=\"https://github.com/Al3xCalva/Problemario_MAC_Tema1/blob/main/PROBLEMARIO%20TEMA%201%20MAC/Problemario%20Saul%202/JPEG%20image-82AA85A88DC9-3.jpeg?raw=1\" width=\"500\">\n",
        "</p>\n"
      ]
    },
    {
      "cell_type": "markdown",
      "metadata": {
        "id": "MlzgM0S9q1id"
      },
      "source": [
        "$$ \\frac{d^2y}{dt^2} + 5\\frac{dy}{dt} + y = -3t^2 $$"
      ]
    },
    {
      "cell_type": "code",
      "execution_count": 11,
      "metadata": {
        "id": "OitKSvcdq1id",
        "outputId": "c6529926-03fd-4564-a102-cb8e64973593",
        "colab": {
          "base_uri": "https://localhost:8080/"
        }
      },
      "outputs": [
        {
          "output_type": "stream",
          "name": "stdout",
          "text": [
            "+------------------------+---------------+\n",
            "| Característica         | Descripción   |\n",
            "+========================+===============+\n",
            "| Ecuación Diferencial   | Sí            |\n",
            "+------------------------+---------------+\n",
            "| Orden                  | Segundo orden |\n",
            "+------------------------+---------------+\n",
            "| Grado                  | Primer grado  |\n",
            "+------------------------+---------------+\n",
            "| Variables (indep, dep) | t, y          |\n",
            "+------------------------+---------------+\n",
            "| Tipo                   | Ordinaria     |\n",
            "+------------------------+---------------+\n",
            "| Lineal                 | Sí            |\n",
            "+------------------------+---------------+\n",
            "| Homogénea              | No            |\n",
            "+------------------------+---------------+\n"
          ]
        }
      ],
      "source": [
        "datos = {\n",
        "    'Característica': [\n",
        "        'Ecuación Diferencial', 'Orden', 'Grado', 'Variables (indep, dep)',\n",
        "        'Tipo', 'Lineal', 'Homogénea'],\n",
        "    'Descripción': [\n",
        "        'Sí', 'Segundo orden', 'Primer grado', 't, y',\n",
        "        'Ordinaria', 'Sí', 'No']\n",
        "}\n",
        "\n",
        "print(tabulate(datos, headers='keys', tablefmt='grid'))"
      ]
    },
    {
      "cell_type": "markdown",
      "metadata": {
        "id": "n4R3Rvlnq1id"
      },
      "source": [
        "Nombre: Ecuación diferencial ordinaria de segundo orden, de primer grado, lineal y no homogénea."
      ]
    },
    {
      "cell_type": "markdown",
      "metadata": {
        "id": "vG8s7RiGq1id"
      },
      "source": [
        "$$ \\frac{d^4m}{ds^4} - 3\\left(\\frac{d^3m}{ds^3}\\right)^2 + \\frac{dm}{ds} = e^{-2s} $$"
      ]
    },
    {
      "cell_type": "code",
      "execution_count": 12,
      "metadata": {
        "id": "P30OLCbaq1id",
        "outputId": "dd202bad-3670-4384-d270-579e71b3c61f",
        "colab": {
          "base_uri": "https://localhost:8080/"
        }
      },
      "outputs": [
        {
          "output_type": "stream",
          "name": "stdout",
          "text": [
            "+------------------------+---------------+\n",
            "| Característica         | Descripción   |\n",
            "+========================+===============+\n",
            "| Ecuación Diferencial   | Sí            |\n",
            "+------------------------+---------------+\n",
            "| Orden                  | Cuarto orden  |\n",
            "+------------------------+---------------+\n",
            "| Grado                  | Primer grado  |\n",
            "+------------------------+---------------+\n",
            "| Variables (indep, dep) | s, m          |\n",
            "+------------------------+---------------+\n",
            "| Tipo                   | Ordinaria     |\n",
            "+------------------------+---------------+\n",
            "| Lineal                 | No            |\n",
            "+------------------------+---------------+\n",
            "| Homogénea              | No            |\n",
            "+------------------------+---------------+\n"
          ]
        }
      ],
      "source": [
        "datos = {\n",
        "    'Característica': [\n",
        "        'Ecuación Diferencial', 'Orden', 'Grado', 'Variables (indep, dep)',\n",
        "        'Tipo', 'Lineal', 'Homogénea'],\n",
        "    'Descripción': [\n",
        "        'Sí', 'Cuarto orden', 'Primer grado', 's, m',\n",
        "        'Ordinaria', 'No', 'No']\n",
        "}\n",
        "\n",
        "print(tabulate(datos, headers='keys', tablefmt='grid'))"
      ]
    },
    {
      "cell_type": "markdown",
      "metadata": {
        "id": "OCoJd9GWq1ie"
      },
      "source": [
        "Nombre: Ecuación diferencial ordinaria de cuarto orden, de primer grado, no lineal y no homogénea."
      ]
    },
    {
      "cell_type": "markdown",
      "metadata": {
        "id": "tVVrrPwzq1ie"
      },
      "source": [
        "$$ \\frac{\\partial^3 v}{\\partial u^3} - 3\\frac{\\partial^2 u}{\\partial r^2} - 5\\frac{\\partial u}{\\partial k} = 0 $$"
      ]
    },
    {
      "cell_type": "code",
      "execution_count": 13,
      "metadata": {
        "id": "O9LAMkkhq1ie",
        "outputId": "4d696f8e-a1f4-4d14-a7f8-ce0e442e89d2",
        "colab": {
          "base_uri": "https://localhost:8080/"
        }
      },
      "outputs": [
        {
          "output_type": "stream",
          "name": "stdout",
          "text": [
            "+------------------------+---------------+\n",
            "| Característica         | Descripción   |\n",
            "+========================+===============+\n",
            "| Ecuación Diferencial   | Sí            |\n",
            "+------------------------+---------------+\n",
            "| Orden                  | Tercer orden  |\n",
            "+------------------------+---------------+\n",
            "| Grado                  | Primer grado  |\n",
            "+------------------------+---------------+\n",
            "| Variables (indep; dep) | u, r, k; v, u |\n",
            "+------------------------+---------------+\n",
            "| Tipo                   | Parcial       |\n",
            "+------------------------+---------------+\n",
            "| Lineal                 | Sí            |\n",
            "+------------------------+---------------+\n",
            "| Homogénea              | Sí            |\n",
            "+------------------------+---------------+\n"
          ]
        }
      ],
      "source": [
        "datos = {\n",
        "    'Característica': [\n",
        "        'Ecuación Diferencial', 'Orden', 'Grado', 'Variables (indep; dep)',\n",
        "        'Tipo', 'Lineal', 'Homogénea'],\n",
        "    'Descripción': [\n",
        "        'Sí', 'Tercer orden', 'Primer grado', 'u, r, k; v, u',\n",
        "        'Parcial', 'Sí', 'Sí']\n",
        "}\n",
        "\n",
        "print(tabulate(datos, headers='keys', tablefmt='grid'))"
      ]
    },
    {
      "cell_type": "markdown",
      "metadata": {
        "id": "x9PpGZ2oq1ie"
      },
      "source": [
        "Nombre: Ecuación diferencial parcial de tercer orden, de primer grado, lineal y homogénea."
      ]
    },
    {
      "cell_type": "markdown",
      "metadata": {
        "id": "asbXqhuyq1ie"
      },
      "source": [
        "<p align=\"center\">\n",
        "  <img src=\"https://github.com/Al3xCalva/Problemario_MAC_Tema1/blob/main/PROBLEMARIO%20TEMA%201%20MAC/Problemario%20Saul%202/JPEG%20image-82AA85A88DC9-4.jpeg?raw=1\" width=\"500\">\n",
        "</p>\n"
      ]
    },
    {
      "cell_type": "markdown",
      "metadata": {
        "id": "vF01EEEVq1ie"
      },
      "source": [
        "$$ 3t\\frac{d^2z}{dt^2} - 3\\left(\\frac{dz}{dt}\\right)^3 + 5z = 2t\\sin(t) $$"
      ]
    },
    {
      "cell_type": "code",
      "execution_count": 14,
      "metadata": {
        "id": "bEG_F2KBq1ie",
        "outputId": "d9a0278d-a750-4945-a786-5c8b584e6d58",
        "colab": {
          "base_uri": "https://localhost:8080/"
        }
      },
      "outputs": [
        {
          "output_type": "stream",
          "name": "stdout",
          "text": [
            "+------------------------+---------------+\n",
            "| Característica         | Descripción   |\n",
            "+========================+===============+\n",
            "| Ecuación Diferencial   | Sí            |\n",
            "+------------------------+---------------+\n",
            "| Orden                  | Segundo orden |\n",
            "+------------------------+---------------+\n",
            "| Grado                  | Primer grado  |\n",
            "+------------------------+---------------+\n",
            "| Variables (indep, dep) | t, z          |\n",
            "+------------------------+---------------+\n",
            "| Tipo                   | Ordinaria     |\n",
            "+------------------------+---------------+\n",
            "| Lineal                 | No            |\n",
            "+------------------------+---------------+\n",
            "| Homogénea              | No            |\n",
            "+------------------------+---------------+\n"
          ]
        }
      ],
      "source": [
        "datos = {\n",
        "    'Característica': [\n",
        "        'Ecuación Diferencial', 'Orden', 'Grado', 'Variables (indep, dep)',\n",
        "        'Tipo', 'Lineal', 'Homogénea'],\n",
        "    'Descripción': [\n",
        "        'Sí', 'Segundo orden', 'Primer grado', 't, z',\n",
        "        'Ordinaria', 'No', 'No']\n",
        "}\n",
        "\n",
        "print(tabulate(datos, headers='keys', tablefmt='grid'))"
      ]
    },
    {
      "cell_type": "markdown",
      "metadata": {
        "id": "LzHVaAKiq1ie"
      },
      "source": [
        "Nombre: Ecuación diferencial ordinaria de segundo orden, de primer grado, no lineal y no homogénea.\n",
        "\n"
      ]
    },
    {
      "cell_type": "markdown",
      "metadata": {
        "id": "6HfLFsuqq1ie"
      },
      "source": [
        "$$ \\sqrt{\\frac{d^3y}{dm^3}} = \\sqrt[3]{1 - \\frac{dy}{dm}} $$"
      ]
    },
    {
      "cell_type": "code",
      "execution_count": 15,
      "metadata": {
        "id": "LyUS939Aq1ie",
        "outputId": "9cc3b5e4-96b3-4d06-af36-088e4451fa9f",
        "colab": {
          "base_uri": "https://localhost:8080/"
        }
      },
      "outputs": [
        {
          "output_type": "stream",
          "name": "stdout",
          "text": [
            "+------------------------+---------------+\n",
            "| Característica         | Descripción   |\n",
            "+========================+===============+\n",
            "| Ecuación Diferencial   | Sí            |\n",
            "+------------------------+---------------+\n",
            "| Orden                  | Tercer orden  |\n",
            "+------------------------+---------------+\n",
            "| Grado                  | Tercer grado  |\n",
            "+------------------------+---------------+\n",
            "| Variables (indep, dep) | m, y          |\n",
            "+------------------------+---------------+\n",
            "| Tipo                   | Ordinaria     |\n",
            "+------------------------+---------------+\n",
            "| Lineal                 | No            |\n",
            "+------------------------+---------------+\n",
            "| Homogénea              | No            |\n",
            "+------------------------+---------------+\n"
          ]
        }
      ],
      "source": [
        "datos = {\n",
        "    'Característica': [\n",
        "        'Ecuación Diferencial', 'Orden', 'Grado', 'Variables (indep, dep)',\n",
        "        'Tipo', 'Lineal', 'Homogénea'],\n",
        "    'Descripción': [\n",
        "        'Sí', 'Tercer orden', 'Tercer grado', 'm, y',\n",
        "        'Ordinaria', 'No', 'No']\n",
        "}\n",
        "\n",
        "print(tabulate(datos, headers='keys', tablefmt='grid'))"
      ]
    },
    {
      "cell_type": "markdown",
      "metadata": {
        "id": "4yBhvXNCq1ie"
      },
      "source": [
        "Nombre: Ecuacion Diferencial ordinaria de 3er orden 3er grado no lineal no homogenea"
      ]
    },
    {
      "cell_type": "markdown",
      "metadata": {
        "id": "JrMwxERnq1ie"
      },
      "source": [
        "<p align=\"center\">\n",
        "  <img src=\"https://github.com/Al3xCalva/Problemario_MAC_Tema1/blob/main/PROBLEMARIO%20TEMA%201%20MAC/Problemario%20Saul%202/JPEG%20image-82AA85A88DC9-5.jpeg?raw=1\" width=\"500\">\n",
        "</p>\n"
      ]
    },
    {
      "cell_type": "markdown",
      "metadata": {
        "id": "3mX5UzJpq1if"
      },
      "source": [
        "$$ x\\mu - 3\\mu^3(xyz) + 5xy\\mu = \\frac{2x}{z^2y} $$"
      ]
    },
    {
      "cell_type": "code",
      "execution_count": 16,
      "metadata": {
        "id": "367xIB0bq1if",
        "outputId": "015a9563-d8d2-4cfa-fad5-2202bc37aa25",
        "colab": {
          "base_uri": "https://localhost:8080/"
        }
      },
      "outputs": [
        {
          "output_type": "stream",
          "name": "stdout",
          "text": [
            "+----------------------+---------------+\n",
            "| Característica       | Descripción   |\n",
            "+======================+===============+\n",
            "| Ecuación Diferencial | Si            |\n",
            "+----------------------+---------------+\n",
            "| Orden                | No aplica     |\n",
            "+----------------------+---------------+\n",
            "| Grado                | No aplica     |\n",
            "+----------------------+---------------+\n",
            "| Tipo                 | Parcial       |\n",
            "+----------------------+---------------+\n",
            "| Lineal               | No aplica     |\n",
            "+----------------------+---------------+\n",
            "| Homogénea            | No aplica     |\n",
            "+----------------------+---------------+\n"
          ]
        }
      ],
      "source": [
        "datos  = {\n",
        "    'Característica': [\n",
        "        'Ecuación Diferencial', 'Orden', 'Grado', 'Tipo',\n",
        "        'Lineal', 'Homogénea'],\n",
        "    'Descripción': [\n",
        "        'Si', 'No aplica', 'No aplica', 'Parcial',\n",
        "        'No aplica', 'No aplica']\n",
        "}\n",
        "\n",
        "print(tabulate(datos, headers='keys', tablefmt='grid'))"
      ]
    },
    {
      "cell_type": "markdown",
      "metadata": {
        "id": "Wg2NlTqiq1if"
      },
      "source": [
        "# Actividad 3: Separacion de Variables"
      ]
    },
    {
      "cell_type": "markdown",
      "metadata": {
        "id": "He5XVkF1q1if"
      },
      "source": [
        "<p align=\"center\">\n",
        "  <img src=\"https://github.com/Al3xCalva/Problemario_MAC_Tema1/blob/main/PROBLEMARIO%20TEMA%201%20MAC/Problemario%20Saul%202/JPEG%20image-82AA85A88DC9-6.jpeg?raw=1\" width=\"500\">\n",
        "</p>\n"
      ]
    },
    {
      "cell_type": "code",
      "execution_count": 17,
      "metadata": {
        "id": "AaiN2Lwkq1if",
        "outputId": "e49049a1-8d31-4ad7-fb32-ac4c7481872c",
        "colab": {
          "base_uri": "https://localhost:8080/",
          "height": 68
        }
      },
      "outputs": [
        {
          "output_type": "display_data",
          "data": {
            "text/plain": [
              "                 2       \n",
              "d             - x  + y(x)\n",
              "──(y(x)) = x⋅ℯ           \n",
              "dx                       "
            ],
            "text/latex": "$\\displaystyle \\frac{d}{d x} y{\\left(x \\right)} = x e^{- x^{2} + y{\\left(x \\right)}}$"
          },
          "metadata": {}
        }
      ],
      "source": [
        "\n",
        "x = sp.Symbol('x')\n",
        "y = sp.Function('y')(x)\n",
        "\n",
        "ode1 = sp.Eq(sp.Derivative(y, x), x*sp.exp(y - x**2))\n",
        "display(ode1)\n"
      ]
    },
    {
      "cell_type": "code",
      "execution_count": 18,
      "metadata": {
        "id": "vOX9iuulq1if",
        "outputId": "0427505f-8c61-47cf-8b50-4af22a35ca19",
        "colab": {
          "base_uri": "https://localhost:8080/",
          "height": 86
        }
      },
      "outputs": [
        {
          "output_type": "display_data",
          "data": {
            "text/plain": [
              "          ⎛    ⎛ 2⎞    ⎞         \n",
              "          ⎜    ⎝x ⎠    ⎟         \n",
              "          ⎜  -ℯ        ⎟         \n",
              "y(x) = log⎜────────────⎟ + log(2)\n",
              "          ⎜    ⎛ 2⎞    ⎟         \n",
              "          ⎜    ⎝x ⎠    ⎟         \n",
              "          ⎝C₁⋅ℯ     - 1⎠         "
            ],
            "text/latex": "$\\displaystyle y{\\left(x \\right)} = \\log{\\left(- \\frac{e^{x^{2}}}{C_{1} e^{x^{2}} - 1} \\right)} + \\log{\\left(2 \\right)}$"
          },
          "metadata": {}
        }
      ],
      "source": [
        "sol1 = sp.dsolve(ode1)\n",
        "display(sol1)\n",
        "\n"
      ]
    },
    {
      "cell_type": "code",
      "execution_count": 19,
      "metadata": {
        "id": "RXKrC2Svq1if",
        "outputId": "159e5909-413f-4eb9-c580-371fded9eca0",
        "colab": {
          "base_uri": "https://localhost:8080/",
          "height": 68
        }
      },
      "outputs": [
        {
          "output_type": "display_data",
          "data": {
            "text/plain": [
              "d            cos(x)       \n",
              "──(y(x)) = -ℯ      ⋅sin(x)\n",
              "dx                        "
            ],
            "text/latex": "$\\displaystyle \\frac{d}{d x} y{\\left(x \\right)} = - e^{\\cos{\\left(x \\right)}} \\sin{\\left(x \\right)}$"
          },
          "metadata": {}
        }
      ],
      "source": [
        "\n",
        "x = sp.Symbol('x')\n",
        "y = sp.Function('y')(x)\n",
        "\n",
        "ode2 = sp.Eq(sp.Derivative(y, x), -sp.sin(x)*sp.exp(sp.cos(x)))\n",
        "display(ode2)\n"
      ]
    },
    {
      "cell_type": "code",
      "execution_count": 20,
      "metadata": {
        "id": "huMNItTYq1if",
        "outputId": "3706b633-4620-476d-fc20-4084dc8829ee",
        "colab": {
          "base_uri": "https://localhost:8080/",
          "height": 40
        }
      },
      "outputs": [
        {
          "output_type": "display_data",
          "data": {
            "text/plain": [
              "             cos(x)\n",
              "y(x) = C₁ + ℯ      "
            ],
            "text/latex": "$\\displaystyle y{\\left(x \\right)} = C_{1} + e^{\\cos{\\left(x \\right)}}$"
          },
          "metadata": {}
        }
      ],
      "source": [
        "sol2 = sp.dsolve(ode2)\n",
        "display(sol2)\n",
        "\n"
      ]
    },
    {
      "cell_type": "code",
      "execution_count": 21,
      "metadata": {
        "id": "C9OBmdD7q1if",
        "outputId": "0d807957-15b2-427e-df79-ca064d7ad26e",
        "colab": {
          "base_uri": "https://localhost:8080/",
          "height": 68
        }
      },
      "outputs": [
        {
          "output_type": "display_data",
          "data": {
            "text/plain": [
              "d                               \n",
              "──(y(x)) = x⋅y(x) + x + y(x) + 1\n",
              "dx                              "
            ],
            "text/latex": "$\\displaystyle \\frac{d}{d x} y{\\left(x \\right)} = x y{\\left(x \\right)} + x + y{\\left(x \\right)} + 1$"
          },
          "metadata": {}
        }
      ],
      "source": [
        "\n",
        "x = sp.Symbol('x')\n",
        "y = sp.Function('y')(x)\n",
        "\n",
        "ode3 = sp.Eq(sp.Derivative(y, x), 1 + x + y + x*y)\n",
        "display(ode3)\n"
      ]
    },
    {
      "cell_type": "code",
      "execution_count": 22,
      "metadata": {
        "id": "gfi8_q47q1if",
        "outputId": "d7f0be39-5191-42b7-ab33-fb4c9a3af523",
        "colab": {
          "base_uri": "https://localhost:8080/",
          "height": 44
        }
      },
      "outputs": [
        {
          "output_type": "display_data",
          "data": {
            "text/plain": [
              "             ⎛x    ⎞    \n",
              "           x⋅⎜─ + 1⎟    \n",
              "             ⎝2    ⎠    \n",
              "y(x) = C₁⋅ℯ          - 1"
            ],
            "text/latex": "$\\displaystyle y{\\left(x \\right)} = C_{1} e^{x \\left(\\frac{x}{2} + 1\\right)} - 1$"
          },
          "metadata": {}
        }
      ],
      "source": [
        "\n",
        "sol3 = sp.dsolve(ode3)\n",
        "display(sol3)\n",
        "\n",
        "\n"
      ]
    },
    {
      "cell_type": "code",
      "execution_count": 23,
      "metadata": {
        "id": "nWOIVNyGq1if",
        "outputId": "a58c592e-c223-4a17-ff7b-a5fc2d34ddad",
        "colab": {
          "base_uri": "https://localhost:8080/",
          "height": 68
        }
      },
      "outputs": [
        {
          "output_type": "display_data",
          "data": {
            "text/plain": [
              "d           2       \n",
              "──(y(x)) = y (x) - 4\n",
              "dx                  "
            ],
            "text/latex": "$\\displaystyle \\frac{d}{d x} y{\\left(x \\right)} = y^{2}{\\left(x \\right)} - 4$"
          },
          "metadata": {}
        }
      ],
      "source": [
        "x = sp.Symbol('x')\n",
        "y = sp.Function('y')(x)\n",
        "\n",
        "ode4 = sp.Eq(sp.Derivative(y, x), y**2 - 4)\n",
        "display(ode4)\n",
        "\n"
      ]
    },
    {
      "cell_type": "code",
      "execution_count": 24,
      "metadata": {
        "id": "7D7UZotFq1if",
        "outputId": "4915f3da-49a7-4cdd-deea-a86976b26573",
        "colab": {
          "base_uri": "https://localhost:8080/",
          "height": 74
        }
      },
      "outputs": [
        {
          "output_type": "display_data",
          "data": {
            "text/plain": [
              "             2       \n",
              "y(x) = ──────────────\n",
              "       tanh(C₁ - 2⋅x)"
            ],
            "text/latex": "$\\displaystyle y{\\left(x \\right)} = \\frac{2}{\\tanh{\\left(C_{1} - 2 x \\right)}}$"
          },
          "metadata": {}
        }
      ],
      "source": [
        "sol4 = sp.dsolve(ode4)\n",
        "display(sol4)\n",
        "\n"
      ]
    },
    {
      "cell_type": "markdown",
      "metadata": {
        "id": "zI9pegFEq1if"
      },
      "source": [
        "<p align=\"center\">\n",
        "  <img src=\"https://github.com/Al3xCalva/Problemario_MAC_Tema1/blob/main/PROBLEMARIO%20TEMA%201%20MAC/Problemario%20Saul%202/JPEG%20image-82AA85A88DC9-7.jpeg?raw=1\" width=\"500\">\n",
        "  \n",
        "</p>\n"
      ]
    },
    {
      "cell_type": "code",
      "execution_count": 25,
      "metadata": {
        "id": "NvTX1Ds5q1ig",
        "outputId": "868513cf-bf59-4967-e7fc-db8d510c0562",
        "colab": {
          "base_uri": "https://localhost:8080/",
          "height": 68
        }
      },
      "outputs": [
        {
          "output_type": "display_data",
          "data": {
            "text/plain": [
              "d              ______\n",
              "──(y(x)) = x⋅╲╱ y(x) \n",
              "dx                   "
            ],
            "text/latex": "$\\displaystyle \\frac{d}{d x} y{\\left(x \\right)} = x \\sqrt{y{\\left(x \\right)}}$"
          },
          "metadata": {}
        }
      ],
      "source": [
        "# Problema de Valor Inicial\n",
        "x = sp.Symbol('x')\n",
        "y = sp.Function('y')(x)\n",
        "\n",
        "ode_pvi = sp.Eq(sp.Derivative(y, x), x*sp.sqrt(y))\n",
        "display(ode_pvi)\n"
      ]
    },
    {
      "cell_type": "code",
      "execution_count": 26,
      "metadata": {
        "id": "xOhZXIL7q1ig",
        "outputId": "57a4cd3a-abfc-4a4b-8ec0-4917730cd196",
        "colab": {
          "base_uri": "https://localhost:8080/",
          "height": 70
        }
      },
      "outputs": [
        {
          "output_type": "display_data",
          "data": {
            "text/plain": [
              "        4\n",
              "       x \n",
              "y(x) = ──\n",
              "       16"
            ],
            "text/latex": "$\\displaystyle y{\\left(x \\right)} = \\frac{x^{4}}{16}$"
          },
          "metadata": {}
        }
      ],
      "source": [
        "sol_pvi = sp.dsolve(ode_pvi, ics={y.subs(x, 0): 0})\n",
        "display(sol_pvi)\n",
        "\n"
      ]
    },
    {
      "cell_type": "markdown",
      "metadata": {
        "id": "nihwzqZb-86i"
      },
      "source": [
        "<p align=\"center\">\n",
        "  <img src=\"https://github.com/Al3xCalva/Problemario_MAC_Tema1/blob/main/PROBLEMARIO%20TEMA%201%20MAC/Problemario%20Saul%202/JPEG%20image-4AC2-9217-71-0.jpeg?raw=1\" width=\"500\">\n",
        "  \n",
        "</p>\n"
      ]
    },
    {
      "cell_type": "code",
      "execution_count": 27,
      "metadata": {
        "id": "vr_Ngt--r4PJ",
        "outputId": "af522c0a-3722-4626-cb9b-029396cb6c55",
        "colab": {
          "base_uri": "https://localhost:8080/",
          "height": 68
        }
      },
      "outputs": [
        {
          "output_type": "display_data",
          "data": {
            "text/plain": [
              "d              \n",
              "──(y(x)) = g(x)\n",
              "dx             "
            ],
            "text/latex": "$\\displaystyle \\frac{d}{d x} y{\\left(x \\right)} = g{\\left(x \\right)}$"
          },
          "metadata": {}
        }
      ],
      "source": [
        "x = sp.Symbol('x')\n",
        "y = sp.Function('y')(x)\n",
        "g = sp.Function('g')(x)\n",
        "odeA = sp.Eq(sp.Derivative(y, x), g)\n",
        "display(odeA)\n"
      ]
    },
    {
      "cell_type": "code",
      "execution_count": 28,
      "metadata": {
        "id": "M7ws_uZHr38X",
        "outputId": "3ab8269e-f6d1-40b3-c37b-3fc259075267",
        "colab": {
          "base_uri": "https://localhost:8080/",
          "height": 56
        }
      },
      "outputs": [
        {
          "output_type": "display_data",
          "data": {
            "text/plain": [
              "            ⌠        \n",
              "y(x) = C₁ + ⎮ g(x) dx\n",
              "            ⌡        "
            ],
            "text/latex": "$\\displaystyle y{\\left(x \\right)} = C_{1} + \\int g{\\left(x \\right)}\\, dx$"
          },
          "metadata": {}
        }
      ],
      "source": [
        "solA = sp.dsolve(odeA)          # y(x) = ∫ g(x) dx + C\n",
        "display(solA)\n",
        "\n"
      ]
    },
    {
      "cell_type": "code",
      "execution_count": 29,
      "metadata": {
        "id": "oTvMIeUL-86i",
        "outputId": "85ac19ce-7d0a-4ccd-cc08-66862ba6fac1",
        "colab": {
          "base_uri": "https://localhost:8080/",
          "height": 68
        }
      },
      "outputs": [
        {
          "output_type": "display_data",
          "data": {
            "text/plain": [
              "d           2⋅x    \n",
              "──(y(x)) = ℯ    + 1\n",
              "dx                 "
            ],
            "text/latex": "$\\displaystyle \\frac{d}{d x} y{\\left(x \\right)} = e^{2 x} + 1$"
          },
          "metadata": {}
        }
      ],
      "source": [
        "x = sp.Symbol('x')\n",
        "y = sp.Function('y')(x)\n",
        "odeB = sp.Eq(sp.Derivative(y, x), 1 + sp.exp(2*x))\n",
        "display(odeB)\n"
      ]
    },
    {
      "cell_type": "code",
      "execution_count": 30,
      "metadata": {
        "id": "cPkMn0Av-86i",
        "outputId": "f17555a5-2d63-4a8a-9a62-f2ad517602e9",
        "colab": {
          "base_uri": "https://localhost:8080/",
          "height": 70
        }
      },
      "outputs": [
        {
          "output_type": "display_data",
          "data": {
            "text/plain": [
              "                 2⋅x\n",
              "                ℯ   \n",
              "y(x) = C₁ + x + ────\n",
              "                 2  "
            ],
            "text/latex": "$\\displaystyle y{\\left(x \\right)} = C_{1} + x + \\frac{e^{2 x}}{2}$"
          },
          "metadata": {}
        }
      ],
      "source": [
        "solB = sp.dsolve(odeB)          # y = x + (1/2)e^{2x} + C\n",
        "display(solB)\n"
      ]
    },
    {
      "cell_type": "code",
      "execution_count": 31,
      "metadata": {
        "id": "J6tums89-86i",
        "outputId": "9b74eecc-c5d6-40aa-de79-dda92f24fdc1",
        "colab": {
          "base_uri": "https://localhost:8080/",
          "height": 70
        }
      },
      "outputs": [
        {
          "output_type": "display_data",
          "data": {
            "text/plain": [
              "d          y(x) \n",
              "──(y(x)) = ─────\n",
              "dx         x + 1"
            ],
            "text/latex": "$\\displaystyle \\frac{d}{d x} y{\\left(x \\right)} = \\frac{y{\\left(x \\right)}}{x + 1}$"
          },
          "metadata": {}
        }
      ],
      "source": [
        "x = sp.Symbol('x')\n",
        "y = sp.Function('y')(x)\n",
        "odeC = sp.Eq(sp.Derivative(y, x), y/(1+x))\n",
        "display(odeC)\n",
        "\n"
      ]
    },
    {
      "cell_type": "code",
      "execution_count": 32,
      "metadata": {
        "id": "oZNbDZUm-86i",
        "outputId": "7bf31a46-bb90-4374-d392-7d90e5a60ee8",
        "colab": {
          "base_uri": "https://localhost:8080/",
          "height": 40
        }
      },
      "outputs": [
        {
          "output_type": "display_data",
          "data": {
            "text/plain": [
              "y(x) = C₁⋅(x + 1)"
            ],
            "text/latex": "$\\displaystyle y{\\left(x \\right)} = C_{1} \\left(x + 1\\right)$"
          },
          "metadata": {}
        }
      ],
      "source": [
        "solC = sp.dsolve(odeC)          # y = C(1+x)\n",
        "display(solC)\n"
      ]
    },
    {
      "cell_type": "markdown",
      "metadata": {
        "id": "awVaUH5M-86i"
      },
      "source": [
        "<p align=\"center\">\n",
        "  <img src=\"https://github.com/Al3xCalva/Problemario_MAC_Tema1/blob/main/PROBLEMARIO%20TEMA%201%20MAC/Problemario%20Saul%202/JPEG%20image-4AC2-9217-71-1.jpeg?raw=1\" width=\"500\">\n",
        "  \n",
        "</p>\n"
      ]
    },
    {
      "cell_type": "code",
      "execution_count": 33,
      "metadata": {
        "id": "bVHjs8Ha-86i",
        "outputId": "19bf04f1-44ae-4a2b-e0f6-966708616dc0",
        "colab": {
          "base_uri": "https://localhost:8080/",
          "height": 68
        }
      },
      "outputs": [
        {
          "output_type": "display_data",
          "data": {
            "text/plain": [
              "d                            \n",
              "──(y(x)) = (x + 1)⋅(y(x) + 1)\n",
              "dx                           "
            ],
            "text/latex": "$\\displaystyle \\frac{d}{d x} y{\\left(x \\right)} = \\left(x + 1\\right) \\left(y{\\left(x \\right)} + 1\\right)$"
          },
          "metadata": {}
        }
      ],
      "source": [
        "x = sp.Symbol('x')\n",
        "y = sp.Function('y')(x)\n",
        "odeD = sp.Eq(sp.Derivative(y, x), (1+x)*(1+y))\n",
        "display(odeD)\n"
      ]
    },
    {
      "cell_type": "code",
      "execution_count": 34,
      "metadata": {
        "id": "V_v1fiE4-86i",
        "outputId": "d72eab1b-ec39-4081-b992-32b68a98ef93",
        "colab": {
          "base_uri": "https://localhost:8080/",
          "height": 44
        }
      },
      "outputs": [
        {
          "output_type": "display_data",
          "data": {
            "text/plain": [
              "             ⎛x    ⎞    \n",
              "           x⋅⎜─ + 1⎟    \n",
              "             ⎝2    ⎠    \n",
              "y(x) = C₁⋅ℯ          - 1"
            ],
            "text/latex": "$\\displaystyle y{\\left(x \\right)} = C_{1} e^{x \\left(\\frac{x}{2} + 1\\right)} - 1$"
          },
          "metadata": {}
        }
      ],
      "source": [
        "solD = sp.dsolve(odeD)          # ln(1+y) = x + x^2/2 + C  → y = C e^{x+x^2/2}-1\n",
        "display(solD)\n",
        "\n"
      ]
    },
    {
      "cell_type": "code",
      "execution_count": 35,
      "metadata": {
        "id": "C2AKEywC-86i",
        "outputId": "9337cfe2-117b-4347-a6bf-b99afe42d53c",
        "colab": {
          "base_uri": "https://localhost:8080/",
          "height": 68
        }
      },
      "outputs": [
        {
          "output_type": "display_data",
          "data": {
            "text/plain": [
              "  d                  2  2   \n",
              "x⋅──(y(x)) + y(x) = x ⋅y (x)\n",
              "  dx                        "
            ],
            "text/latex": "$\\displaystyle x \\frac{d}{d x} y{\\left(x \\right)} + y{\\left(x \\right)} = x^{2} y^{2}{\\left(x \\right)}$"
          },
          "metadata": {}
        }
      ],
      "source": [
        "x = sp.Symbol('x')\n",
        "y = sp.Function('y')(x)\n",
        "odeE = sp.Eq(x*sp.Derivative(y, x) + y, x**2*y**2)\n",
        "display(odeE)\n"
      ]
    },
    {
      "cell_type": "code",
      "execution_count": 36,
      "metadata": {
        "id": "hvsoNElu-86i",
        "outputId": "5ef0608f-bc36-4585-8cbd-c5fe7000782f",
        "colab": {
          "base_uri": "https://localhost:8080/",
          "height": 68
        }
      },
      "outputs": [
        {
          "output_type": "display_data",
          "data": {
            "text/plain": [
              "          1    \n",
              "y(x) = ────────\n",
              "              2\n",
              "       C⋅x - x "
            ],
            "text/latex": "$\\displaystyle y{\\left(x \\right)} = \\frac{1}{C x - x^{2}}$"
          },
          "metadata": {}
        }
      ],
      "source": [
        "C = sp.Symbol('C')\n",
        "yE = 1/(C*x - x**2)\n",
        "display(sp.Eq(y, yE))\n"
      ]
    },
    {
      "cell_type": "markdown",
      "metadata": {
        "id": "k8bNZGYH-86i"
      },
      "source": [
        "<p align=\"center\">\n",
        "  <img src=\"https://github.com/Al3xCalva/Problemario_MAC_Tema1/blob/main/PROBLEMARIO%20TEMA%201%20MAC/Problemario%20Saul%202/JPEG%20image-4AC2-9217-71-2.jpeg?raw=1\" width=\"500\">\n",
        "  \n",
        "</p>\n"
      ]
    },
    {
      "cell_type": "code",
      "execution_count": 37,
      "metadata": {
        "id": "IdewDVKk-86j",
        "outputId": "dd40b8df-b07e-46a0-8cbf-83897ae5178e",
        "colab": {
          "base_uri": "https://localhost:8080/",
          "height": 72
        }
      },
      "outputs": [
        {
          "output_type": "display_data",
          "data": {
            "text/plain": [
              "d          -x  \n",
              "──(y(x)) = ────\n",
              "dx         y(x)"
            ],
            "text/latex": "$\\displaystyle \\frac{d}{d x} y{\\left(x \\right)} = - \\frac{x}{y{\\left(x \\right)}}$"
          },
          "metadata": {}
        }
      ],
      "source": [
        "x = sp.Symbol('x')\n",
        "y = sp.Function('y')(x)\n",
        "odeF = sp.Eq(sp.Derivative(y, x), -x/y)\n",
        "display(odeF)\n"
      ]
    },
    {
      "cell_type": "code",
      "execution_count": 38,
      "metadata": {
        "id": "NlCSvhkL-86j",
        "outputId": "1c031562-7ce3-4b2c-a7b2-61eae87bebf2",
        "colab": {
          "base_uri": "https://localhost:8080/",
          "height": 46
        }
      },
      "outputs": [
        {
          "output_type": "display_data",
          "data": {
            "text/plain": [
              "           _________\n",
              "          ╱       2 \n",
              "y(x) = -╲╱  25 - x  "
            ],
            "text/latex": "$\\displaystyle y{\\left(x \\right)} = - \\sqrt{25 - x^{2}}$"
          },
          "metadata": {}
        }
      ],
      "source": [
        "solF = sp.dsolve(odeF, ics={y.subs(x, 4): -3})   # y^2 = x^2 + C  con CI\n",
        "display(solF)\n"
      ]
    },
    {
      "cell_type": "code",
      "execution_count": 39,
      "metadata": {
        "id": "4LYQNTxd-86j",
        "outputId": "3d3dd4c0-eaa1-41bc-a834-96b21602aad3",
        "colab": {
          "base_uri": "https://localhost:8080/",
          "height": 68
        }
      },
      "outputs": [
        {
          "output_type": "display_data",
          "data": {
            "text/plain": [
              "                 2       \n",
              "d             - x  + y(x)\n",
              "──(y(x)) = x⋅ℯ           \n",
              "dx                       "
            ],
            "text/latex": "$\\displaystyle \\frac{d}{d x} y{\\left(x \\right)} = x e^{- x^{2} + y{\\left(x \\right)}}$"
          },
          "metadata": {}
        }
      ],
      "source": [
        "x = sp.Symbol('x')\n",
        "y = sp.Function('y')(x)\n",
        "odeG = sp.Eq(sp.Derivative(y, x), x*sp.exp(y - x**2))\n",
        "display(odeG)\n"
      ]
    },
    {
      "cell_type": "code",
      "execution_count": 40,
      "metadata": {
        "id": "2KDhftfN-86j",
        "outputId": "1e93fbfe-be3e-44a1-be4f-da3ea0fa3bb1",
        "colab": {
          "base_uri": "https://localhost:8080/",
          "height": 86
        }
      },
      "outputs": [
        {
          "output_type": "display_data",
          "data": {
            "text/plain": [
              "          ⎛    ⎛ 2⎞    ⎞         \n",
              "          ⎜    ⎝x ⎠    ⎟         \n",
              "          ⎜  -ℯ        ⎟         \n",
              "y(x) = log⎜────────────⎟ + log(2)\n",
              "          ⎜    ⎛ 2⎞    ⎟         \n",
              "          ⎜    ⎝x ⎠    ⎟         \n",
              "          ⎝C₁⋅ℯ     - 1⎠         "
            ],
            "text/latex": "$\\displaystyle y{\\left(x \\right)} = \\log{\\left(- \\frac{e^{x^{2}}}{C_{1} e^{x^{2}} - 1} \\right)} + \\log{\\left(2 \\right)}$"
          },
          "metadata": {}
        }
      ],
      "source": [
        "solG = sp.dsolve(odeG)          # e^{-y} = C + (1/2) e^{-x^2}\n",
        "display(solG)\n"
      ]
    },
    {
      "cell_type": "markdown",
      "metadata": {
        "id": "GstRWo6C-86j"
      },
      "source": [
        "<p align=\"center\">\n",
        "  <img src=\"https://github.com/Al3xCalva/Problemario_MAC_Tema1/blob/main/PROBLEMARIO%20TEMA%201%20MAC/Problemario%20Saul%202/JPEG%20image-4AC2-9217-71-3.jpeg?raw=1\" width=\"500\">\n",
        "  \n",
        "</p>\n"
      ]
    },
    {
      "cell_type": "code",
      "execution_count": 41,
      "metadata": {
        "id": "xqy8eT4J-86j",
        "outputId": "9e4e8bbe-ed1d-48df-9ada-d207035b92b1",
        "colab": {
          "base_uri": "https://localhost:8080/",
          "height": 80
        }
      },
      "outputs": [
        {
          "output_type": "display_data",
          "data": {
            "text/plain": [
              "                      d           \n",
              "                      ──(y(x))    \n",
              "      cos(x)          dx          \n",
              "y(x)⋅ℯ      ⋅sin(x) + ──────── = 0\n",
              "                        y(x)      "
            ],
            "text/latex": "$\\displaystyle y{\\left(x \\right)} e^{\\cos{\\left(x \\right)}} \\sin{\\left(x \\right)} + \\frac{\\frac{d}{d x} y{\\left(x \\right)}}{y{\\left(x \\right)}} = 0$"
          },
          "metadata": {}
        }
      ],
      "source": [
        "x = sp.Symbol('x')\n",
        "y = sp.Function('y')(x)\n",
        "odeH = sp.Eq(y**(-1)*sp.Derivative(y, x) + y*sp.sin(x)*sp.exp(sp.cos(x)), 0)\n",
        "display(odeH)\n"
      ]
    },
    {
      "cell_type": "code",
      "execution_count": 42,
      "metadata": {
        "id": "I5LrZcQu-86j",
        "outputId": "3b754670-4a08-4756-c6ea-e2fc9ac928d3",
        "colab": {
          "base_uri": "https://localhost:8080/",
          "height": 40
        }
      },
      "outputs": [
        {
          "output_type": "display_data",
          "data": {
            "text/plain": [
              "y(x) = 2⋅K + x"
            ],
            "text/latex": "$\\displaystyle y{\\left(x \\right)} = 2 K + x$"
          },
          "metadata": {}
        }
      ],
      "source": [
        "\n",
        "\n",
        "K = sp.Symbol('K')\n",
        "yI = (x*2/4 + K)*2\n",
        "display(sp.Eq(y, yI))\n",
        "\n"
      ]
    },
    {
      "cell_type": "code",
      "execution_count": 43,
      "metadata": {
        "id": "2E1ynhjy-86j",
        "outputId": "1f28693b-9fc0-44e5-ee84-7a74f4145d10",
        "colab": {
          "base_uri": "https://localhost:8080/",
          "height": 68
        }
      },
      "outputs": [
        {
          "output_type": "display_data",
          "data": {
            "text/plain": [
              "d              ______\n",
              "──(y(x)) = x⋅╲╱ y(x) \n",
              "dx                   "
            ],
            "text/latex": "$\\displaystyle \\frac{d}{d x} y{\\left(x \\right)} = x \\sqrt{y{\\left(x \\right)}}$"
          },
          "metadata": {}
        }
      ],
      "source": [
        "x = sp.Symbol('x')\n",
        "y = sp.Function('y')(x)\n",
        "\n",
        "ode = sp.Eq(sp.Derivative(y, x), x*sp.sqrt(y))\n",
        "display(ode)\n"
      ]
    },
    {
      "cell_type": "code",
      "execution_count": 44,
      "metadata": {
        "id": "70gpuB8X-86j",
        "outputId": "a66360e1-5c44-48a0-b54e-8f52ad4191db",
        "colab": {
          "base_uri": "https://localhost:8080/",
          "height": 70
        }
      },
      "outputs": [
        {
          "output_type": "display_data",
          "data": {
            "text/plain": [
              "         2       2    4\n",
              "       C₁    C₁⋅x    x \n",
              "y(x) = ─── + ───── + ──\n",
              "        4      4     16"
            ],
            "text/latex": "$\\displaystyle y{\\left(x \\right)} = \\frac{C_{1}^{2}}{4} + \\frac{C_{1} x^{2}}{4} + \\frac{x^{4}}{16}$"
          },
          "metadata": {}
        }
      ],
      "source": [
        "sol = sp.dsolve(ode)\n",
        "display(sol)\n",
        "\n"
      ]
    },
    {
      "cell_type": "markdown",
      "metadata": {
        "id": "9BqZvf_5-86j"
      },
      "source": [
        "<p align=\"center\">\n",
        "  <img src=\"https://github.com/Al3xCalva/Problemario_MAC_Tema1/blob/main/PROBLEMARIO%20TEMA%201%20MAC/Problemario%20Saul%202/JPEG%20image-4AC2-9217-71-4.jpeg?raw=1\" width=\"500\">\n",
        "  \n",
        "</p>\n"
      ]
    },
    {
      "cell_type": "code",
      "execution_count": 45,
      "metadata": {
        "id": "Lrx_XW3l-86j",
        "outputId": "126c1789-e25b-4175-b53d-b48cc6576b36",
        "colab": {
          "base_uri": "https://localhost:8080/",
          "height": 68
        }
      },
      "outputs": [
        {
          "output_type": "display_data",
          "data": {
            "text/plain": [
              "              d                  \n",
              "y(x)⋅tan(x) + ──(y(x)) = 2⋅cos(x)\n",
              "              dx                 "
            ],
            "text/latex": "$\\displaystyle y{\\left(x \\right)} \\tan{\\left(x \\right)} + \\frac{d}{d x} y{\\left(x \\right)} = 2 \\cos{\\left(x \\right)}$"
          },
          "metadata": {}
        }
      ],
      "source": [
        "from sympy import symbols, Function, Eq, Derivative, tan, cos, dsolve\n",
        "from IPython.display import display\n",
        "\n",
        "x = symbols('x')\n",
        "y = Function('y')(x)\n",
        "\n",
        "ode = Eq(Derivative(y, x) + tan(x)*y, cos(x)*2)  # y' + tan(x)*y = cos(x)^2\n",
        "display(ode)\n",
        "\n"
      ]
    },
    {
      "cell_type": "code",
      "execution_count": 46,
      "metadata": {
        "id": "aE-CmC4g-86j",
        "outputId": "e43d8a99-78c1-487e-d0dd-50627a9e584a",
        "colab": {
          "base_uri": "https://localhost:8080/",
          "height": 40
        }
      },
      "outputs": [
        {
          "output_type": "display_data",
          "data": {
            "text/plain": [
              "y(x) = (2⋅x + 2)⋅cos(x)"
            ],
            "text/latex": "$\\displaystyle y{\\left(x \\right)} = \\left(2 x + 2\\right) \\cos{\\left(x \\right)}$"
          },
          "metadata": {}
        }
      ],
      "source": [
        "sol = dsolve(ode, ics={y.subs(x, 0): 2})\n",
        "display(sol)"
      ]
    },
    {
      "cell_type": "code",
      "execution_count": 47,
      "metadata": {
        "id": "n5QzkM1D-86j",
        "outputId": "330ca15e-6ce7-4fa0-ed47-8fcfadfbd567",
        "colab": {
          "base_uri": "https://localhost:8080/",
          "height": 68
        }
      },
      "outputs": [
        {
          "output_type": "display_data",
          "data": {
            "text/plain": [
              "  d                  y(x)\n",
              "x⋅──(y(x)) + y(x) = ℯ    \n",
              "  dx                     "
            ],
            "text/latex": "$\\displaystyle x \\frac{d}{d x} y{\\left(x \\right)} + y{\\left(x \\right)} = e^{y{\\left(x \\right)}}$"
          },
          "metadata": {}
        }
      ],
      "source": [
        "x = sp.Symbol('x')\n",
        "y = sp.Function('y')(x)\n",
        "odeK = sp.Eq(x*sp.Derivative(y, x) + y, sp.exp(y))\n",
        "display(odeK)\n"
      ]
    },
    {
      "cell_type": "code",
      "execution_count": 48,
      "metadata": {
        "id": "ulwi89kp-86j",
        "outputId": "d1b123c3-1963-4596-8a8c-4c662bfc78ad",
        "colab": {
          "base_uri": "https://localhost:8080/",
          "height": 116
        }
      },
      "outputs": [
        {
          "output_type": "display_data",
          "data": {
            "text/plain": [
              " y(x)                   \n",
              "  ⌠                     \n",
              "  ⎮     1               \n",
              "- ⎮   ────── dt = log(x)\n",
              "  ⎮        t            \n",
              "  ⎮   t - ℯ             \n",
              "  ⌡                     \n",
              "  2                     "
            ],
            "text/latex": "$\\displaystyle - \\int\\limits_{2}^{y{\\left(x \\right)}} \\frac{1}{t - e^{t}}\\, dt = \\log{\\left(x \\right)}$"
          },
          "metadata": {}
        }
      ],
      "source": [
        "# Separando:  dy/(e^y - y) = dx/x.  Con CI: ∫_{2}^{y} dt/(e^t - t) = ln x\n",
        "t = sp.Symbol('t')\n",
        "C = sp.Symbol('C')\n",
        "implK = sp.Eq(sp.integrate(1/(sp.exp(t)-t), (t, 2, y)), sp.log(x))  # CI y(1)=2 incorporada\n",
        "display(implK)\n",
        "\n"
      ]
    },
    {
      "cell_type": "markdown",
      "source": [
        "<p align=\"center\">\n",
        "  <img src=\"https://github.com/Al3xCalva/Problemario_MAC_Tema1/blob/main/PROBLEMARIO%20TEMA%201%20MAC/notas.jpg?raw=1\" width=\"500\">\n",
        "  \n",
        "</p>\n"
      ],
      "metadata": {
        "id": "LIDOG5_M_Rkj"
      }
    },
    {
      "cell_type": "code",
      "execution_count": null,
      "metadata": {
        "id": "MyutZYB1q1ig"
      },
      "outputs": [],
      "source": [
        "# === SETUP (una sola vez) ===\n",
        "import sympy as sp\n",
        "sp.init_printing(use_latex='mathjax')\n",
        "\n",
        "\n",
        "def resolver_ED_en_x(rhs, ics=None):\n",
        "    \"\"\"\n",
        "    Resuelve y'(x) = rhs(x,y) con SymPy.\n",
        "    - rhs: expresión de SymPy en x,y\n",
        "    - ics: diccionario con condición inicial, ej: {y.subs(x, x0): y0}\n",
        "    \"\"\"\n",
        "    x = sp.Symbol('x')\n",
        "    y = sp.Function('y')(x)\n",
        "    ode = sp.Eq(sp.diff(y, x), rhs)\n",
        "    sol = sp.dsolve(ode, ics=ics)\n",
        "    return ode, sol\n",
        "\n",
        "def de_forma_diferencial_a_dydx(M, N):\n",
        "    \"\"\"\n",
        "    Convierte M(x,y) dx + N(x,y) dy = 0  -->  y' = -M/N\n",
        "    \"\"\"\n",
        "    x, y = sp.symbols('x y')\n",
        "    return sp.simplify(-M/N)\n"
      ]
    },
    {
      "cell_type": "markdown",
      "metadata": {
        "id": "k9DpszIDq1ig"
      },
      "source": [
        "# Seccion 1: Separacion de variables\n"
      ]
    },
    {
      "cell_type": "markdown",
      "metadata": {
        "id": "Kv7oqvG9q1ig"
      },
      "source": [
        "<p align=\"center\">\n",
        "  <img src=\"https://github.com/Al3xCalva/Problemario_MAC_Tema1/blob/main/PROBLEMARIO%20TEMA%201%20MAC/Problemario%20Saul%202/JPEG%20image-82AA85A88DC9-8.jpeg?raw=1\" width=\"500\">\n",
        "</p>\n"
      ]
    },
    {
      "cell_type": "code",
      "execution_count": null,
      "metadata": {
        "id": "QaCiAmdSq1ig"
      },
      "outputs": [],
      "source": [
        "#1\n",
        "x = sp.Symbol('x')\n",
        "y = sp.Function('y')(x)\n",
        "ode1 = sp.Eq(sp.diff(y, x), sp.sin(5*x))\n",
        "display(sp.Eq(sp.Derivative(y, x), sp.sin(5*x)))"
      ]
    },
    {
      "cell_type": "code",
      "execution_count": null,
      "metadata": {
        "id": "vkper7_nq1ig"
      },
      "outputs": [],
      "source": [
        "sol1 = sp.dsolve(ode1)\n",
        "display(sol1)\n"
      ]
    },
    {
      "cell_type": "code",
      "execution_count": null,
      "metadata": {
        "id": "4IZbeOyAq1ig"
      },
      "outputs": [],
      "source": [
        "#2\n",
        "x = sp.Symbol('x')\n",
        "y = sp.Function('y')(x)\n",
        "ode2 = sp.Eq(sp.diff(y, x), (x+1)**2)\n",
        "display(sp.Eq(sp.Derivative(y, x), (x+1)**2))\n",
        "\n"
      ]
    },
    {
      "cell_type": "code",
      "execution_count": null,
      "metadata": {
        "id": "yx0ZAK7sq1ig"
      },
      "outputs": [],
      "source": [
        "sol2 = sp.dsolve(ode2); sol2"
      ]
    },
    {
      "cell_type": "code",
      "execution_count": null,
      "metadata": {
        "id": "pnkTPwKhq1ig"
      },
      "outputs": [],
      "source": [
        "#3\n",
        "x = sp.Symbol('x')\n",
        "y = sp.Function('y')(x)\n",
        "ode3 = sp.Eq(sp.diff(y, x), -sp.exp(-3*x))\n",
        "display(sp.Eq(sp.Derivative(y, x), -sp.exp(-3*x)))\n",
        "\n"
      ]
    },
    {
      "cell_type": "code",
      "execution_count": null,
      "metadata": {
        "id": "CJC2X4MTq1ig"
      },
      "outputs": [],
      "source": [
        "sol3 = sp.dsolve(ode3)\n",
        "display(sol3)"
      ]
    },
    {
      "cell_type": "markdown",
      "metadata": {
        "id": "A6cVBuBYq1ig"
      },
      "source": [
        "<p align=\"center\">\n",
        "  <img src=\"https://github.com/Al3xCalva/Problemario_MAC_Tema1/blob/main/PROBLEMARIO%20TEMA%201%20MAC/Problemario%20Saul%202/JPEG%20image-82AA85A88DC9-9.jpeg?raw=1\" width=\"500\">\n",
        "</p>\n"
      ]
    },
    {
      "cell_type": "code",
      "execution_count": null,
      "metadata": {
        "id": "BXzyAZQ1q1ig"
      },
      "outputs": [],
      "source": [
        "#4\n",
        "x = sp.Symbol('x')\n",
        "y = sp.Function('y')(x)\n",
        "ode4 = sp.Eq(sp.diff(y, x), (y-1)**2)\n",
        "display(sp.Eq(sp.Derivative(y, x), (y-1)**2))\n",
        "\n"
      ]
    },
    {
      "cell_type": "code",
      "execution_count": null,
      "metadata": {
        "id": "Jc7Lz9a7q1ig"
      },
      "outputs": [],
      "source": [
        "sol4 = sp.dsolve(ode4)\n",
        "display(sol4)"
      ]
    },
    {
      "cell_type": "code",
      "execution_count": null,
      "metadata": {
        "id": "4siTvhn9q1ih"
      },
      "outputs": [],
      "source": [
        "#5\n",
        "x = sp.Symbol('x')\n",
        "y = sp.Function('y')(x)\n",
        "ode5 = sp.Eq(sp.diff(y, x), 4*y/x)\n",
        "display(sp.Eq(sp.Derivative(y, x), 4*y/x))\n",
        "\n"
      ]
    },
    {
      "cell_type": "code",
      "execution_count": null,
      "metadata": {
        "id": "qP_vQWeSq1ih"
      },
      "outputs": [],
      "source": [
        "sol5 = sp.dsolve(ode5)\n",
        "display(sol5)"
      ]
    },
    {
      "cell_type": "markdown",
      "metadata": {
        "id": "CWeB1B3zq1ih"
      },
      "source": [
        "<p align=\"center\">\n",
        "  <img src=\"https://github.com/Al3xCalva/Problemario_MAC_Tema1/blob/main/PROBLEMARIO%20TEMA%201%20MAC/Problemario%20Saul%202/JPEG%20image-82AA85A88DC9-10.jpeg?raw=1\" width=\"500\">\n",
        "</p>\n"
      ]
    },
    {
      "cell_type": "code",
      "execution_count": null,
      "metadata": {
        "id": "MT5Z8VACq1ih"
      },
      "outputs": [],
      "source": [
        "#6\n",
        "x = sp.Symbol('x')\n",
        "y = sp.Function('y')(x)\n",
        "ode6 = sp.Eq(sp.diff(y, x) + 2*x*y, 0)\n",
        "display(sp.Eq(sp.Derivative(y, x) + 2*x*y, 0))\n",
        "\n"
      ]
    },
    {
      "cell_type": "code",
      "execution_count": null,
      "metadata": {
        "id": "wMhbqzuDq1ih"
      },
      "outputs": [],
      "source": [
        "sol6 = sp.dsolve(ode6)\n",
        "display(sol6)"
      ]
    },
    {
      "cell_type": "code",
      "execution_count": null,
      "metadata": {
        "id": "V2OdOErRq1ih"
      },
      "outputs": [],
      "source": [
        "#7\n",
        "x = sp.Symbol('x')\n",
        "y = sp.Function('y')(x)\n",
        "\n",
        "ode7 = sp.Eq(sp.Derivative(y, x), sp.exp(3*x + 2*y))\n",
        "display(ode7)"
      ]
    },
    {
      "cell_type": "code",
      "execution_count": null,
      "metadata": {
        "id": "l4qSxON5q1ih"
      },
      "outputs": [],
      "source": [
        "sol7 = sp.dsolve(ode7)\n",
        "display(sol7)"
      ]
    },
    {
      "cell_type": "markdown",
      "metadata": {
        "id": "4tpN1ymXq1ih"
      },
      "source": [
        "<p align=\"center\">\n",
        "  <img src=\"https://github.com/Al3xCalva/Problemario_MAC_Tema1/blob/main/PROBLEMARIO%20TEMA%201%20MAC/Problemario%20Saul%202/JPEG%20image-82AA85A88DC9-11.jpeg?raw=1\" width=\"500\">\n",
        "</p>\n"
      ]
    },
    {
      "cell_type": "code",
      "execution_count": null,
      "metadata": {
        "id": "hnr3264Sq1ih"
      },
      "outputs": [],
      "source": [
        "\n",
        "#8\n",
        "x = sp.Symbol('x')\n",
        "Y = sp.Function('y')(x)\n",
        "y_sym = sp.Symbol('y')\n",
        "\n",
        "display(sp.Eq(sp.exp(x)*y_sym*sp.Derivative(Y, x), sp.exp(-y_sym) + sp.exp(-2*x - y_sym)))\n"
      ]
    },
    {
      "cell_type": "code",
      "execution_count": null,
      "metadata": {
        "id": "wDz3TSdWq1ih"
      },
      "outputs": [],
      "source": [
        "\n",
        "ode = sp.Eq(sp.exp(x)*Y*sp.Derivative(Y, x), sp.exp(-Y) + sp.exp(-2*x - Y))\n",
        "sol = sp.dsolve(ode)\n",
        "display(sol)\n"
      ]
    },
    {
      "cell_type": "code",
      "execution_count": null,
      "metadata": {
        "id": "SUqwyU1vq1ih"
      },
      "outputs": [],
      "source": [
        "#9\n",
        "y = sp.Symbol('y')\n",
        "x = sp.Function('x')(y)\n",
        "\n",
        "ode9 = sp.Eq(y*sp.log(x)*sp.Derivative(x, y), ((y+1)/x)**2)\n",
        "display(ode9)\n"
      ]
    },
    {
      "cell_type": "code",
      "execution_count": null,
      "metadata": {
        "id": "tvo4V-bYq1ii"
      },
      "outputs": [],
      "source": [
        "sol9 = sp.dsolve(ode9)\n",
        "display(sol9)\n"
      ]
    },
    {
      "cell_type": "markdown",
      "metadata": {
        "id": "jsWCEaZoq1ii"
      },
      "source": [
        "<p align=\"center\">\n",
        "  <img src=\"https://github.com/Al3xCalva/Problemario_MAC_Tema1/blob/main/PROBLEMARIO%20TEMA%201%20MAC/Problemario%20Saul%202/JPEG%20image-82AA85A88DC9-12.jpeg?raw=1\" width=\"500\">\n",
        "</p>\n"
      ]
    },
    {
      "cell_type": "code",
      "execution_count": null,
      "metadata": {
        "id": "RrCbNeuKq1ii"
      },
      "outputs": [],
      "source": [
        "# 10\n",
        "x = sp.Symbol('x'); y = sp.Function('y')(x)\n",
        "ode10 = sp.Eq(sp.Derivative(y, x), ((2*y+3)/(4*x+5))**2)\n",
        "display(ode10)\n"
      ]
    },
    {
      "cell_type": "code",
      "execution_count": null,
      "metadata": {
        "id": "GdYWRvbDq1ii"
      },
      "outputs": [],
      "source": [
        "#\n",
        "x = sp.Symbol('x'); y = sp.Function('y')(x)\n",
        "ode10 = sp.Eq(sp.Derivative(y, x), ((2*y+3)/(4*x+5))**2); display(ode10)\n",
        "display(sp.dsolve(ode10))\n"
      ]
    },
    {
      "cell_type": "code",
      "execution_count": null,
      "metadata": {
        "id": "xKbDMNVKq1ii"
      },
      "outputs": [],
      "source": [
        "#11\n",
        "x = sp.Symbol('x')\n",
        "y = sp.Function('y')(x)\n",
        "\n",
        "ode11 = sp.Eq((1/sp.cos(x))**2*sp.Derivative(y, x) + 1/sp.sin(y), 0)\n",
        "display(ode11)"
      ]
    },
    {
      "cell_type": "code",
      "execution_count": null,
      "metadata": {
        "id": "Z7MNlX--q1ii"
      },
      "outputs": [],
      "source": [
        "sol11 = sp.dsolve(ode11)\n",
        "display(sol11)\n"
      ]
    },
    {
      "cell_type": "markdown",
      "metadata": {
        "id": "dkMBaSytq1ii"
      },
      "source": [
        "<p align=\"center\">\n",
        "  <img src=\"https://github.com/Al3xCalva/Problemario_MAC_Tema1/blob/main/PROBLEMARIO%20TEMA%201%20MAC/Problemario%20Saul%202/JPEG%20image-82AA85A88DC9-13.jpeg?raw=1\" width=\"500\">\n",
        "</p>\n"
      ]
    },
    {
      "cell_type": "code",
      "execution_count": null,
      "metadata": {
        "id": "YVsAtcDDq1ii"
      },
      "outputs": [],
      "source": [
        "#12\n",
        "x = sp.Symbol('x'); y = sp.Function('y')(x)\n",
        "ode12 = sp.Eq(sp.sin(3*x) + 2*y*sp.cos(3*x)**3*sp.Derivative(y, x), 0)\n",
        "display(ode12)\n"
      ]
    },
    {
      "cell_type": "code",
      "execution_count": null,
      "metadata": {
        "id": "M1fcIRamq1ii"
      },
      "outputs": [],
      "source": [
        "display(sp.dsolve(ode12))"
      ]
    },
    {
      "cell_type": "code",
      "execution_count": null,
      "metadata": {
        "id": "ZQA1kMLaq1ii"
      },
      "outputs": [],
      "source": [
        "\n",
        "#13\n",
        "x = sp.Symbol('x')\n",
        "Y = sp.Function('y')(x)\n",
        "y_sym = sp.Symbol('y')\n",
        "\n",
        "ode13_orig = sp.Eq((sp.exp(y_sym)+1)**2*sp.exp(-y_sym)\n",
        "                   + (sp.exp(x)+1)**3*sp.exp(-x)*sp.Derivative(Y, x), 0)\n",
        "display(ode13_orig)\n"
      ]
    },
    {
      "cell_type": "code",
      "execution_count": null,
      "metadata": {
        "id": "Y0amr1koq1ii"
      },
      "outputs": [],
      "source": [
        "ode13 = sp.Eq(sp.Derivative(Y, x),\n",
        "              - (sp.exp(Y)+1)**2*sp.exp(-Y) / ((sp.exp(x)+1)**3*sp.exp(-x)))\n",
        "sol13 = sp.dsolve(ode13)\n",
        "display(sol13)\n",
        "\n",
        "\n",
        "C = sp.Symbol('C')\n",
        "rel13 = sp.Eq(-1/(sp.exp(Y)+1), 1/(2*(sp.exp(x)+1)**2) + C)\n",
        "display(rel13)\n"
      ]
    },
    {
      "cell_type": "markdown",
      "metadata": {
        "id": "xwXAHiJhq1ii"
      },
      "source": [
        "<p align=\"center\">\n",
        "  <img src=\"https://github.com/Al3xCalva/Problemario_MAC_Tema1/blob/main/PROBLEMARIO%20TEMA%201%20MAC/Problemario%20Saul%202/JPEG%20image-82AA85A88DC9-14.jpeg?raw=1\" width=\"500\">\n",
        "</p>\n"
      ]
    },
    {
      "cell_type": "code",
      "execution_count": null,
      "metadata": {
        "id": "Xl45dq3Yq1ii"
      },
      "outputs": [],
      "source": [
        "# 14\n",
        "x = sp.Symbol('x'); y = sp.Function('y')(x)\n",
        "ode14 = sp.Eq(y*sp.Derivative(y, x), x*(1+x**2)**(-sp.Rational(1,2))*(1+y**2)**(sp.Rational(1,2)))\n",
        "display(ode14)\n"
      ]
    },
    {
      "cell_type": "code",
      "execution_count": null,
      "metadata": {
        "id": "GhRfcR77q1ii"
      },
      "outputs": [],
      "source": [
        "display(sp.dsolve(ode14))"
      ]
    },
    {
      "cell_type": "code",
      "execution_count": null,
      "metadata": {
        "id": "KxdMQNYNq1ii"
      },
      "outputs": [],
      "source": [
        "# 15\n",
        "r, k = sp.symbols('r k'); S = sp.Function('S')(r)\n",
        "ode15 = sp.Eq(sp.Derivative(S, r), k*S)\n",
        "display(ode15)\n"
      ]
    },
    {
      "cell_type": "code",
      "execution_count": null,
      "metadata": {
        "id": "cb9jKEP0q1ii"
      },
      "outputs": [],
      "source": [
        "display(sp.dsolve(ode15))"
      ]
    },
    {
      "cell_type": "markdown",
      "metadata": {
        "id": "B4UvCMJBq1ij"
      },
      "source": [
        "<p align=\"center\">\n",
        "  <img src=\"https://github.com/Al3xCalva/Problemario_MAC_Tema1/blob/main/PROBLEMARIO%20TEMA%201%20MAC/Problemario%20Saul%202/JPEG%20image-82AA85A88DC9-15.jpeg?raw=1\" width=\"500\">\n",
        "</p>\n"
      ]
    },
    {
      "cell_type": "code",
      "execution_count": null,
      "metadata": {
        "id": "y2Tzvviiq1ij"
      },
      "outputs": [],
      "source": [
        "# 16\n",
        "t, k = sp.symbols('t k'); Q = sp.Function('Q')(t)\n",
        "ode16 = sp.Eq(sp.Derivative(Q, t), k*(Q-70))\n",
        "display(ode16)\n"
      ]
    },
    {
      "cell_type": "code",
      "execution_count": null,
      "metadata": {
        "id": "SZNDYpDqq1ij"
      },
      "outputs": [],
      "source": [
        "display(sp.dsolve(ode16))"
      ]
    },
    {
      "cell_type": "code",
      "execution_count": null,
      "metadata": {
        "id": "rRc65BQOq1ij"
      },
      "outputs": [],
      "source": [
        "# 17\n",
        "t = sp.Symbol('t'); P = sp.Function('P')(t)\n",
        "ode17 = sp.Eq(sp.Derivative(P, t), P - P**2)\n",
        "display(ode17)\n"
      ]
    },
    {
      "cell_type": "code",
      "execution_count": null,
      "metadata": {
        "id": "sb7uVJVEq1ij"
      },
      "outputs": [],
      "source": [
        "display(sp.dsolve(ode17))"
      ]
    },
    {
      "cell_type": "markdown",
      "metadata": {
        "id": "p-1Hnmv-q1ij"
      },
      "source": [
        "<p align=\"center\">\n",
        "  <img src=\"https://github.com/Al3xCalva/Problemario_MAC_Tema1/blob/main/PROBLEMARIO%20TEMA%201%20MAC/Problemario%20Saul%202/JPEG%20image-82AA85A88DC9-16.jpeg?raw=1\" width=\"500\">\n",
        "</p>\n"
      ]
    },
    {
      "cell_type": "code",
      "execution_count": null,
      "metadata": {
        "id": "DqBipQIOq1ij"
      },
      "outputs": [],
      "source": [
        "# 18\n",
        "t = sp.Symbol('t'); N = sp.Function('N')(t)\n",
        "ode18 = sp.Eq(sp.Derivative(N, t) + N, N*t*sp.exp(t**2))\n",
        "display(ode18)\n"
      ]
    },
    {
      "cell_type": "code",
      "execution_count": null,
      "metadata": {
        "id": "upzKZ5qvq1ij"
      },
      "outputs": [],
      "source": [
        "display(sp.dsolve(ode18))"
      ]
    },
    {
      "cell_type": "code",
      "execution_count": null,
      "metadata": {
        "id": "YMyiDHBmq1ij"
      },
      "outputs": [],
      "source": [
        "#19\n",
        "x = sp.Symbol('x')\n",
        "y = sp.Function('y')(x)\n",
        "\n",
        "ode19 = sp.Eq(sp.Derivative(y, x), (x*y + 3*x - y - 3)/(x*y - 2*x + 4*y - 8))\n",
        "display(ode19)"
      ]
    },
    {
      "cell_type": "code",
      "execution_count": null,
      "metadata": {
        "id": "idkrS11xq1ij"
      },
      "outputs": [],
      "source": [
        "C = sp.Symbol('C')\n",
        "sol19_impl = sp.Eq(y - 5*sp.log(sp.Abs(y + 3)), x - 5*sp.log(sp.Abs(x + 4)) + C)\n",
        "display(sol19_impl)"
      ]
    },
    {
      "cell_type": "markdown",
      "metadata": {
        "id": "bbjOHpFLq1ij"
      },
      "source": [
        "<p align=\"center\">\n",
        "  <img src=\"https://github.com/Al3xCalva/Problemario_MAC_Tema1/blob/main/PROBLEMARIO%20TEMA%201%20MAC/Problemario%20Saul%202/JPEG%20image-82AA85A88DC9-17.jpeg?raw=1\" width=\"500\">\n",
        "</p>\n"
      ]
    },
    {
      "cell_type": "code",
      "execution_count": null,
      "metadata": {
        "id": "jRqXHnYBq1ij"
      },
      "outputs": [],
      "source": [
        "#20\n",
        "x = sp.Symbol('x')\n",
        "y = sp.Function('y')(x)\n",
        "\n",
        "ode20 = sp.Eq(sp.Derivative(y, x), (x*y + 2*y - x - 2)/(x*y - 3*y + x - 3))\n",
        "display(ode20)"
      ]
    },
    {
      "cell_type": "code",
      "execution_count": null,
      "metadata": {
        "id": "9_llsglIq1ij"
      },
      "outputs": [],
      "source": [
        "C = sp.Symbol('C')\n",
        "sol20_impl = sp.Eq(y + 2*sp.log(sp.Abs(y - 1)), x + 5*sp.log(sp.Abs(x - 3)) + C)\n",
        "display(sol20_impl)\n"
      ]
    },
    {
      "cell_type": "code",
      "execution_count": null,
      "metadata": {
        "id": "Wdy8jc9pq1ij"
      },
      "outputs": [],
      "source": [
        "# 21\n",
        "x = sp.Symbol('x'); y = sp.Function('y')(x)\n",
        "ode21 = sp.Eq(sp.Derivative(y, x), x*sp.sqrt(1 - y**2))\n",
        "display(ode21)\n"
      ]
    },
    {
      "cell_type": "code",
      "execution_count": null,
      "metadata": {
        "id": "3ewxPYwmq1ij"
      },
      "outputs": [],
      "source": [
        "display(sp.dsolve(ode21))"
      ]
    },
    {
      "cell_type": "markdown",
      "metadata": {
        "id": "bCWQOLTxq1ij"
      },
      "source": [
        "<p align=\"center\">\n",
        "  <img src=\"https://github.com/Al3xCalva/Problemario_MAC_Tema1/blob/main/PROBLEMARIO%20TEMA%201%20MAC/Problemario%20Saul%202/JPEG%20image-82AA85A88DC9-18.jpeg?raw=1\" width=\"500\">\n",
        "</p>\n"
      ]
    },
    {
      "cell_type": "code",
      "execution_count": null,
      "metadata": {
        "id": "yGYTDYXVq1ij"
      },
      "outputs": [],
      "source": [
        "# 22\n",
        "x = sp.Symbol('x'); y = sp.Function('y')(x)\n",
        "ode22 = sp.Eq((sp.exp(x) + sp.exp(-x))*sp.Derivative(y, x), y**2)\n",
        "display(ode22)\n"
      ]
    },
    {
      "cell_type": "code",
      "execution_count": null,
      "metadata": {
        "id": "rMeqUe7Kq1ik"
      },
      "outputs": [],
      "source": [
        "display(sp.dsolve(ode22))"
      ]
    },
    {
      "cell_type": "markdown",
      "metadata": {
        "id": "HAa2q7jRq1ik"
      },
      "source": [
        "# Seccion 2 : Problemas de valor inicial"
      ]
    },
    {
      "cell_type": "markdown",
      "metadata": {
        "id": "SN4wMRQPq1ik"
      },
      "source": [
        "<p align=\"center\">\n",
        "  <img src=\"https://github.com/Al3xCalva/Problemario_MAC_Tema1/blob/main/PROBLEMARIO%20TEMA%201%20MAC/Problemario%20Saul%202/JPEG%20image-82AA85A88DC9-19.jpeg?raw=1\" width=\"500\">\n",
        "</p>\n"
      ]
    },
    {
      "cell_type": "code",
      "execution_count": null,
      "metadata": {
        "id": "eUaJYXhUq1ik"
      },
      "outputs": [],
      "source": [
        "#23\n",
        "t = sp.Symbol('t'); x = sp.Function('x')(t)\n",
        "ode23 = sp.Eq(sp.Derivative(x, t), 4*(x**2 + 1))\n",
        "display(ode23)\n"
      ]
    },
    {
      "cell_type": "code",
      "execution_count": null,
      "metadata": {
        "id": "feD8Bycuq1ik"
      },
      "outputs": [],
      "source": [
        "display(sp.dsolve(ode23, ics={x.subs(t, sp.pi/4): 1}))"
      ]
    },
    {
      "cell_type": "code",
      "execution_count": null,
      "metadata": {
        "id": "T02aKKgmq1ik"
      },
      "outputs": [],
      "source": [
        "#24\n",
        "x = sp.Symbol('x'); y = sp.Function('y')(x)\n",
        "ode24 = sp.Eq(sp.Derivative(y, x), (y**2 - 1)/(x**2 - 1))\n",
        "display(ode24)\n"
      ]
    },
    {
      "cell_type": "code",
      "execution_count": null,
      "metadata": {
        "id": "IFgUh8kLq1ik"
      },
      "outputs": [],
      "source": [
        "display(sp.dsolve(ode24, ics={y.subs(x, 2): 2}))"
      ]
    },
    {
      "cell_type": "markdown",
      "metadata": {
        "id": "rcmLM3iUq1ik"
      },
      "source": [
        "<p align=\"center\">\n",
        "  <img src=\"https://github.com/Al3xCalva/Problemario_MAC_Tema1/blob/main/PROBLEMARIO%20TEMA%201%20MAC/Problemario%20Saul%202/JPEG%20image-82AA85A88DC9-20.jpeg?raw=1\" width=\"500\">\n",
        "</p>\n"
      ]
    },
    {
      "cell_type": "code",
      "execution_count": null,
      "metadata": {
        "id": "HGczAqvLq1ik"
      },
      "outputs": [],
      "source": [
        "#25\n",
        "x = sp.Symbol('x'); y = sp.Function('y')(x)\n",
        "ode25 = sp.Eq(x**2*sp.Derivative(y, x), y - x*y)\n",
        "display(ode25)\n"
      ]
    },
    {
      "cell_type": "code",
      "execution_count": null,
      "metadata": {
        "id": "20okWU23q1ik"
      },
      "outputs": [],
      "source": [
        "display(sp.dsolve(ode25, ics={y.subs(x, -1): -1}))"
      ]
    },
    {
      "cell_type": "code",
      "execution_count": null,
      "metadata": {
        "id": "_ckBVgaIq1ik"
      },
      "outputs": [],
      "source": [
        "#26\n",
        "t = sp.Symbol('t'); y = sp.Function('y')(t)\n",
        "ode26 = sp.Eq(sp.Derivative(y, t) + 2*y, 1)\n",
        "display(ode26)\n"
      ]
    },
    {
      "cell_type": "code",
      "execution_count": null,
      "metadata": {
        "id": "-reqywNdq1ik"
      },
      "outputs": [],
      "source": [
        "display(sp.dsolve(ode26, ics={y.subs(t, 0): sp.Rational(5,7)}))"
      ]
    },
    {
      "cell_type": "markdown",
      "metadata": {
        "id": "AdfflunOq6Uz"
      },
      "source": [
        "### Referencias Bibliograficas\n",
        "\n",
        "\n",
        "[1] W. E. Boyce y R. C. DiPrima, Ecuaciones diferenciales y problemas en la frontera, 4ª ed. México: Ed. Limusa, 2013.\n",
        "\n",
        "[2] D. G. Zill, Ecuaciones diferenciales con aplicaciones de modelado, 7ª ed. Boston: Ed. Thomson Learning, 2016.\n",
        "\n",
        "[3] M. Aldeatdo, \"Clasificación de las ecuaciones diferenciales,\" [En línea]. Disponible en: https://mialdeatdo.com/topic1-2-clasificacion-de-las-ecuaciones-diferenciales/. [Accedido: 19-sep-2025].\n",
        "\n",
        "[4] Differential Equations. (n.d.). Lamar.edu. Retrieved September 19, 2025, from https://tutorial.math.lamar.edu/classes/de/de.aspx\n",
        "\n",
        "[5] 1.2. CLASIFICACIÓN DE LAS ECUACIONES DIFERENCIALES. (n.d.). Mialdeatdo.com. Retrieved September 12,\n",
        "2025, from https://mialdeatdo.com/topic/1-2-clasificacion-de-las-ecuaciones-diferenciales/\n"
      ]
    }
  ],
  "metadata": {
    "colab": {
      "provenance": []
    },
    "kernelspec": {
      "display_name": "Python 3",
      "language": "python",
      "name": "python3"
    },
    "language_info": {
      "codemirror_mode": {
        "name": "ipython",
        "version": 3
      },
      "file_extension": ".py",
      "mimetype": "text/x-python",
      "name": "python",
      "nbconvert_exporter": "python",
      "pygments_lexer": "ipython3",
      "version": "3.12.8"
    }
  },
  "nbformat": 4,
  "nbformat_minor": 0
}