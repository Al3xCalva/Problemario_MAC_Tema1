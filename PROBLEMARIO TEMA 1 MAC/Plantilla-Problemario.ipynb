{
  "cells": [
    {
      "cell_type": "markdown",
      "metadata": {
        "id": "8gMgzgfJq1iY"
      },
      "source": [
        "<img src=\"https://github.com/Al3xCalva/Problemario_MAC_Tema1/blob/main/PROBLEMARIO%20TEMA%201%20MAC/itsoeh.png?raw=1\" width=\"300\" align=\"center\">\n"
      ]
    },
    {
      "cell_type": "markdown",
      "metadata": {
        "id": "JqnySKNyq1iZ"
      },
      "source": [
        "# Problemario"
      ]
    },
    {
      "cell_type": "markdown",
      "metadata": {
        "id": "hld_cy_9q1iZ"
      },
      "source": [
        "Nombre del alumno: R. Alexander Calva Obregon"
      ]
    },
    {
      "cell_type": "markdown",
      "metadata": {
        "id": "vWYLwYvGq1iZ"
      },
      "source": [
        "Asignatura: Matematicas aplicadas a comunicaciones"
      ]
    },
    {
      "cell_type": "markdown",
      "metadata": {
        "id": "oFbHwOymq1iZ"
      },
      "source": [
        "Fecha de entrega: 19 de Septiembre de 2025"
      ]
    },
    {
      "cell_type": "markdown",
      "metadata": {
        "id": "5OVCu837q1iZ"
      },
      "source": [
        "Tema: ECUACIONES DIFERENCIALES"
      ]
    },
    {
      "cell_type": "markdown",
      "metadata": {
        "id": "RY7dldMsq1iZ"
      },
      "source": [
        "Tema: 1"
      ]
    },
    {
      "cell_type": "markdown",
      "metadata": {
        "id": "ybNcdobGq1ia"
      },
      "source": [
        "**Sección I**:"
      ]
    },
    {
      "cell_type": "markdown",
      "metadata": {
        "id": "Cc0gDVeOq1ia"
      },
      "source": [
        "*Instrucciones*\n",
        "\n",
        "Resuelva las siguientes ecuaciones diferenciales empleando alguno de los método revisados en clase:\n",
        "* Separación de varibles\n",
        "* Factor Integrante\n",
        "\n"
      ]
    },
    {
      "cell_type": "markdown",
      "metadata": {
        "id": "gmm7FImqq1ia"
      },
      "source": [
        "Evidencia de firma para validar sección:"
      ]
    },
    {
      "cell_type": "markdown",
      "metadata": {
        "id": "JraH8efGq1ia"
      },
      "source": [
        "# Actividad 1: Nombrar ecuaciones diferenciales"
      ]
    },
    {
      "cell_type": "code",
      "execution_count": 2,
      "metadata": {
        "id": "xyp48PZFq1ia"
      },
      "outputs": [],
      "source": [
        "import matplotlib.pyplot as plt\n",
        "import sympy as sp\n",
        "sp.init_printing(use_latex='mathjax')\n"
      ]
    },
    {
      "cell_type": "markdown",
      "metadata": {
        "id": "WfTTIiepq1ib"
      },
      "source": [
        "<p align=\"center\">\n",
        "  <img src=\"https://github.com/Al3xCalva/Problemario_MAC_Tema1/blob/main/PROBLEMARIO%20TEMA%201%20MAC/Problemario%20Saul%202/JPEG%20image-82AA85A88DC9-1.jpeg?raw=1\" width=\"500\">\n",
        "</p>\n"
      ]
    },
    {
      "cell_type": "markdown",
      "metadata": {
        "id": "3dSbfSR1q1ib"
      },
      "source": [
        "<p align=\"center\">\n",
        "  <img src=\"\" width=\"300\">\n",
        "</p>\n"
      ]
    },
    {
      "cell_type": "markdown",
      "metadata": {
        "id": "RR0__S-eq1ib"
      },
      "source": [
        "$$\n",
        "x^2 \\left( \\frac{d^3y}{dx^3} \\right) + x \\left( \\frac{dy}{dx} \\right) - 5y = e^x\n",
        "$$"
      ]
    },
    {
      "cell_type": "code",
      "execution_count": 3,
      "metadata": {
        "id": "dvnEVw8Cq1ib",
        "outputId": "52aaed5f-45c7-48bd-a677-53ca49614d03"
      },
      "outputs": [
        {
          "ename": "NameError",
          "evalue": "name 'tabulate' is not defined",
          "output_type": "error",
          "traceback": [
            "\u001b[0;31m---------------------------------------------------------------------------\u001b[0m",
            "\u001b[0;31mNameError\u001b[0m                                 Traceback (most recent call last)",
            "Cell \u001b[0;32mIn[3], line 5\u001b[0m\n\u001b[1;32m      1\u001b[0m datos_1 \u001b[38;5;241m=\u001b[39m {\n\u001b[1;32m      2\u001b[0m     \u001b[38;5;124m'\u001b[39m\u001b[38;5;124mCaracterística\u001b[39m\u001b[38;5;124m'\u001b[39m: [\u001b[38;5;124m'\u001b[39m\u001b[38;5;124mEcuación Diferencial\u001b[39m\u001b[38;5;124m'\u001b[39m, \u001b[38;5;124m'\u001b[39m\u001b[38;5;124mOrden\u001b[39m\u001b[38;5;124m'\u001b[39m, \u001b[38;5;124m'\u001b[39m\u001b[38;5;124mGrado\u001b[39m\u001b[38;5;124m'\u001b[39m, \u001b[38;5;124m'\u001b[39m\u001b[38;5;124mVariables (indep, dep)\u001b[39m\u001b[38;5;124m'\u001b[39m, \u001b[38;5;124m'\u001b[39m\u001b[38;5;124mTipo\u001b[39m\u001b[38;5;124m'\u001b[39m, \u001b[38;5;124m'\u001b[39m\u001b[38;5;124mLineal\u001b[39m\u001b[38;5;124m'\u001b[39m, \u001b[38;5;124m'\u001b[39m\u001b[38;5;124mHomogénea\u001b[39m\u001b[38;5;124m'\u001b[39m],\n\u001b[1;32m      3\u001b[0m     \u001b[38;5;124m'\u001b[39m\u001b[38;5;124mDescripción\u001b[39m\u001b[38;5;124m'\u001b[39m: [\u001b[38;5;124m'\u001b[39m\u001b[38;5;124mSí\u001b[39m\u001b[38;5;124m'\u001b[39m, \u001b[38;5;124m'\u001b[39m\u001b[38;5;124mTercer orden\u001b[39m\u001b[38;5;124m'\u001b[39m, \u001b[38;5;124m'\u001b[39m\u001b[38;5;124mPrimer grado\u001b[39m\u001b[38;5;124m'\u001b[39m, \u001b[38;5;124m'\u001b[39m\u001b[38;5;124mx, y\u001b[39m\u001b[38;5;124m'\u001b[39m, \u001b[38;5;124m'\u001b[39m\u001b[38;5;124mOrdinaria\u001b[39m\u001b[38;5;124m'\u001b[39m, \u001b[38;5;124m'\u001b[39m\u001b[38;5;124mNo\u001b[39m\u001b[38;5;124m'\u001b[39m, \u001b[38;5;124m'\u001b[39m\u001b[38;5;124mNo\u001b[39m\u001b[38;5;124m'\u001b[39m]\n\u001b[1;32m      4\u001b[0m }\n\u001b[0;32m----> 5\u001b[0m \u001b[38;5;28mprint\u001b[39m(\u001b[43mtabulate\u001b[49m(datos, headers\u001b[38;5;241m=\u001b[39m\u001b[38;5;124m'\u001b[39m\u001b[38;5;124mkeys\u001b[39m\u001b[38;5;124m'\u001b[39m, tablefmt\u001b[38;5;241m=\u001b[39m\u001b[38;5;124m'\u001b[39m\u001b[38;5;124mgrid\u001b[39m\u001b[38;5;124m'\u001b[39m))\n",
            "\u001b[0;31mNameError\u001b[0m: name 'tabulate' is not defined"
          ]
        }
      ],
      "source": [
        "datos_1 = {\n",
        "    'Característica': ['Ecuación Diferencial', 'Orden', 'Grado', 'Variables (indep, dep)', 'Tipo', 'Lineal', 'Homogénea'],\n",
        "    'Descripción': ['Sí', 'Tercer orden', 'Primer grado', 'x, y', 'Ordinaria', 'No', 'No']\n",
        "}\n",
        "print(tabulate(datos, headers='keys', tablefmt='grid'))"
      ]
    },
    {
      "cell_type": "markdown",
      "metadata": {
        "id": "L1FfL6lyq1ib"
      },
      "source": [
        "Nombre:Ecuación diferencial ordinaria de tercer orden, de primer grado, lineal y no homogénea."
      ]
    },
    {
      "cell_type": "markdown",
      "metadata": {
        "id": "OKGGFiNdq1ic"
      },
      "source": [
        "$$\n",
        "y^2 \\left( \\frac{d^3y}{dx^3} \\right) + x \\frac{dy}{dx} - 5y^2 = e^y\n",
        "$$"
      ]
    },
    {
      "cell_type": "code",
      "execution_count": null,
      "metadata": {
        "id": "E_2jd3Paq1ic",
        "outputId": "eca3cd64-699e-41d2-a644-bbab75596562"
      },
      "outputs": [
        {
          "name": "stdout",
          "output_type": "stream",
          "text": [
            "+----------------------+---------------+\n",
            "| Característica       | Descripción   |\n",
            "+======================+===============+\n",
            "| Ecuación Diferencial | si            |\n",
            "+----------------------+---------------+\n",
            "| Orden                | Tercer        |\n",
            "+----------------------+---------------+\n",
            "| Grado                | Primer        |\n",
            "+----------------------+---------------+\n",
            "| Variables            | x, y          |\n",
            "+----------------------+---------------+\n",
            "| Tipo                 | Ordinaria     |\n",
            "+----------------------+---------------+\n",
            "| Lineal               | Si            |\n",
            "+----------------------+---------------+\n",
            "| Homogénea            | No            |\n",
            "+----------------------+---------------+\n"
          ]
        }
      ],
      "source": [
        "datos_2 = {\n",
        "    'Característica': ['Ecuación Diferencial', 'Orden', 'Grado', 'Variables (indep, dep)', 'Tipo', 'Lineal', 'Homogénea'],\n",
        "    'Descripción': ['Sí', 'Primer orden', 'Primer grado', 'x, y', 'Ordinaria', 'No', 'No']\n",
        "}\n",
        "print(tabulate(datos_2, headers='keys', tablefmt='grid'))\n"
      ]
    },
    {
      "cell_type": "markdown",
      "metadata": {
        "id": "0QGO82V0q1ic"
      },
      "source": [
        "Nombre: Ecuación diferencial ordinaria de tercer orden, de primer grado, lineal y no homogénea."
      ]
    },
    {
      "cell_type": "markdown",
      "metadata": {
        "id": "u_73PcQ5q1ic"
      },
      "source": [
        "$$\n",
        "(1-y)y + 2y' = e^x\n",
        "$$"
      ]
    },
    {
      "cell_type": "code",
      "execution_count": null,
      "metadata": {
        "id": "Zmywrvdsq1ic",
        "outputId": "12f10f65-736d-497c-e34d-56467d3ed238"
      },
      "outputs": [
        {
          "name": "stdout",
          "output_type": "stream",
          "text": [
            "+------------------------+---------------+\n",
            "| Característica         | Descripción   |\n",
            "+========================+===============+\n",
            "| Ecuación Diferencial   | Sí            |\n",
            "+------------------------+---------------+\n",
            "| Orden                  | Segundo orden |\n",
            "+------------------------+---------------+\n",
            "| Grado                  | Primer grado  |\n",
            "+------------------------+---------------+\n",
            "| Variables (indep, dep) | x, y          |\n",
            "+------------------------+---------------+\n",
            "| Tipo                   | Ordinaria     |\n",
            "+------------------------+---------------+\n",
            "| Lineal                 | No            |\n",
            "+------------------------+---------------+\n",
            "| Homogénea              | No            |\n",
            "+------------------------+---------------+\n"
          ]
        }
      ],
      "source": [
        "datos_3 = {\n",
        "    'Característica': ['Ecuación Diferencial', 'Orden', 'Grado', 'Variables (indep, dep)', 'Tipo', 'Lineal', 'Homogénea'],\n",
        "    'Descripción': ['Sí', 'Segundo orden', 'Primer grado', 'x, y', 'Ordinaria', 'No', 'No']\n",
        "}\n",
        "\n",
        "print(tabulate(datos_3, headers='keys', tablefmt='grid'))"
      ]
    },
    {
      "cell_type": "markdown",
      "metadata": {
        "id": "HBbo-toVq1ic"
      },
      "source": [
        "Nombre: Ecuación diferencial ordinaria de segundo orden, de primer grado, no lineal y no homogénea."
      ]
    },
    {
      "cell_type": "markdown",
      "metadata": {
        "id": "hQimafrVq1id"
      },
      "source": [
        "<p align=\"center\">\n",
        "  <img src=\"https://github.com/Al3xCalva/Problemario_MAC_Tema1/blob/main/PROBLEMARIO%20TEMA%201%20MAC/Problemario%20Saul%202/JPEG%20image-82AA85A88DC9-2.jpeg?raw=1\" width=\"500\">\n",
        "</p>\n"
      ]
    },
    {
      "cell_type": "markdown",
      "metadata": {
        "id": "fZxZHiWzq1id"
      },
      "source": [
        "$$\n",
        "\\left( \\frac{d^2y}{dx^2} \\right) + \\sin(y) = \\cos(x)\n",
        "$$"
      ]
    },
    {
      "cell_type": "code",
      "execution_count": null,
      "metadata": {
        "id": "kB5_vMTMq1id",
        "outputId": "3506b075-f23d-4ead-fffe-a77e830fc179"
      },
      "outputs": [
        {
          "name": "stdout",
          "output_type": "stream",
          "text": [
            "+----------------------+---------------+\n",
            "| Característica       | Descripción   |\n",
            "+======================+===============+\n",
            "| Ecuación Diferencial | si            |\n",
            "+----------------------+---------------+\n",
            "| Orden                | Tercer        |\n",
            "+----------------------+---------------+\n",
            "| Grado                | Primer        |\n",
            "+----------------------+---------------+\n",
            "| Variables            | x, y          |\n",
            "+----------------------+---------------+\n",
            "| Tipo                 | Ordinaria     |\n",
            "+----------------------+---------------+\n",
            "| Lineal               | Si            |\n",
            "+----------------------+---------------+\n",
            "| Homogénea            | No            |\n",
            "+----------------------+---------------+\n"
          ]
        }
      ],
      "source": [
        "datos = {\n",
        "    'Característica': [\n",
        "    'Ecuación Diferencial', 'Orden', 'Grado', 'Variables', 'Tipo', 'Lineal', 'Homogénea'],\n",
        "    'Descripción': ['si', 'Tercer', 'Primer', 'x, y', 'Ordinaria', 'Si', 'No']}\n",
        "print(tabulate(datos, headers='keys', tablefmt='grid'))"
      ]
    },
    {
      "cell_type": "markdown",
      "metadata": {
        "id": "9CqRI0sGq1id"
      },
      "source": [
        "Nombre: Ecuación diferencial ordinaria de tercer orden, de primer grado, lineal y no homogénea.\n",
        "\n"
      ]
    },
    {
      "cell_type": "markdown",
      "metadata": {
        "id": "-afC66w5q1id"
      },
      "source": [
        "# Actividad 2: Nombrar ecuaciones diferenciales"
      ]
    },
    {
      "cell_type": "markdown",
      "metadata": {
        "id": "SW2Y20rxq1id"
      },
      "source": [
        "<p align=\"center\">\n",
        "  <img src=\"https://github.com/Al3xCalva/Problemario_MAC_Tema1/blob/main/PROBLEMARIO%20TEMA%201%20MAC/Problemario%20Saul%202/JPEG%20image-82AA85A88DC9-3.jpeg?raw=1\" width=\"500\">\n",
        "</p>\n"
      ]
    },
    {
      "cell_type": "markdown",
      "metadata": {
        "id": "MlzgM0S9q1id"
      },
      "source": [
        "$$ \\frac{d^2y}{dt^2} + 5\\frac{dy}{dt} + y = -3t^2 $$"
      ]
    },
    {
      "cell_type": "code",
      "execution_count": null,
      "metadata": {
        "id": "OitKSvcdq1id",
        "outputId": "5d5916dc-e8af-4aa9-dfbd-c18546508a00"
      },
      "outputs": [
        {
          "name": "stdout",
          "output_type": "stream",
          "text": [
            "+------------------------+---------------+\n",
            "| Característica         | Descripción   |\n",
            "+========================+===============+\n",
            "| Ecuación Diferencial   | Sí            |\n",
            "+------------------------+---------------+\n",
            "| Orden                  | Segundo orden |\n",
            "+------------------------+---------------+\n",
            "| Grado                  | Primer grado  |\n",
            "+------------------------+---------------+\n",
            "| Variables (indep, dep) | t, y          |\n",
            "+------------------------+---------------+\n",
            "| Tipo                   | Ordinaria     |\n",
            "+------------------------+---------------+\n",
            "| Lineal                 | Sí            |\n",
            "+------------------------+---------------+\n",
            "| Homogénea              | No            |\n",
            "+------------------------+---------------+\n"
          ]
        }
      ],
      "source": [
        "datos = {\n",
        "    'Característica': [\n",
        "        'Ecuación Diferencial', 'Orden', 'Grado', 'Variables (indep, dep)',\n",
        "        'Tipo', 'Lineal', 'Homogénea'],\n",
        "    'Descripción': [\n",
        "        'Sí', 'Segundo orden', 'Primer grado', 't, y',\n",
        "        'Ordinaria', 'Sí', 'No']\n",
        "}\n",
        "\n",
        "print(tabulate(datos, headers='keys', tablefmt='grid'))"
      ]
    },
    {
      "cell_type": "markdown",
      "metadata": {
        "id": "n4R3Rvlnq1id"
      },
      "source": [
        "Nombre: Ecuación diferencial ordinaria de segundo orden, de primer grado, lineal y no homogénea."
      ]
    },
    {
      "cell_type": "markdown",
      "metadata": {
        "id": "vG8s7RiGq1id"
      },
      "source": [
        "$$ \\frac{d^4m}{ds^4} - 3\\left(\\frac{d^3m}{ds^3}\\right)^2 + \\frac{dm}{ds} = e^{-2s} $$"
      ]
    },
    {
      "cell_type": "code",
      "execution_count": null,
      "metadata": {
        "id": "P30OLCbaq1id",
        "outputId": "89fadc52-9815-443a-ca85-13ee6aaba1cb"
      },
      "outputs": [
        {
          "name": "stdout",
          "output_type": "stream",
          "text": [
            "+------------------------+---------------+\n",
            "| Característica         | Descripción   |\n",
            "+========================+===============+\n",
            "| Ecuación Diferencial   | Sí            |\n",
            "+------------------------+---------------+\n",
            "| Orden                  | Cuarto orden  |\n",
            "+------------------------+---------------+\n",
            "| Grado                  | Primer grado  |\n",
            "+------------------------+---------------+\n",
            "| Variables (indep, dep) | s, m          |\n",
            "+------------------------+---------------+\n",
            "| Tipo                   | Ordinaria     |\n",
            "+------------------------+---------------+\n",
            "| Lineal                 | No            |\n",
            "+------------------------+---------------+\n",
            "| Homogénea              | No            |\n",
            "+------------------------+---------------+\n"
          ]
        }
      ],
      "source": [
        "datos = {\n",
        "    'Característica': [\n",
        "        'Ecuación Diferencial', 'Orden', 'Grado', 'Variables (indep, dep)',\n",
        "        'Tipo', 'Lineal', 'Homogénea'],\n",
        "    'Descripción': [\n",
        "        'Sí', 'Cuarto orden', 'Primer grado', 's, m',\n",
        "        'Ordinaria', 'No', 'No']\n",
        "}\n",
        "\n",
        "print(tabulate(datos, headers='keys', tablefmt='grid'))"
      ]
    },
    {
      "cell_type": "markdown",
      "metadata": {
        "id": "OCoJd9GWq1ie"
      },
      "source": [
        "Nombre: Ecuación diferencial ordinaria de cuarto orden, de primer grado, no lineal y no homogénea."
      ]
    },
    {
      "cell_type": "markdown",
      "metadata": {
        "id": "tVVrrPwzq1ie"
      },
      "source": [
        "$$ \\frac{\\partial^3 v}{\\partial u^3} - 3\\frac{\\partial^2 u}{\\partial r^2} - 5\\frac{\\partial u}{\\partial k} = 0 $$"
      ]
    },
    {
      "cell_type": "code",
      "execution_count": null,
      "metadata": {
        "id": "O9LAMkkhq1ie",
        "outputId": "f337b804-7188-4425-896a-a4a257bb3d8d"
      },
      "outputs": [
        {
          "name": "stdout",
          "output_type": "stream",
          "text": [
            "+------------------------+---------------+\n",
            "| Característica         | Descripción   |\n",
            "+========================+===============+\n",
            "| Ecuación Diferencial   | Sí            |\n",
            "+------------------------+---------------+\n",
            "| Orden                  | Tercer orden  |\n",
            "+------------------------+---------------+\n",
            "| Grado                  | Primer grado  |\n",
            "+------------------------+---------------+\n",
            "| Variables (indep; dep) | u, r, k; v, u |\n",
            "+------------------------+---------------+\n",
            "| Tipo                   | Parcial       |\n",
            "+------------------------+---------------+\n",
            "| Lineal                 | Sí            |\n",
            "+------------------------+---------------+\n",
            "| Homogénea              | Sí            |\n",
            "+------------------------+---------------+\n"
          ]
        }
      ],
      "source": [
        "datos = {\n",
        "    'Característica': [\n",
        "        'Ecuación Diferencial', 'Orden', 'Grado', 'Variables (indep; dep)',\n",
        "        'Tipo', 'Lineal', 'Homogénea'],\n",
        "    'Descripción': [\n",
        "        'Sí', 'Tercer orden', 'Primer grado', 'u, r, k; v, u',\n",
        "        'Parcial', 'Sí', 'Sí']\n",
        "}\n",
        "\n",
        "print(tabulate(datos, headers='keys', tablefmt='grid'))"
      ]
    },
    {
      "cell_type": "markdown",
      "metadata": {
        "id": "x9PpGZ2oq1ie"
      },
      "source": [
        "Nombre: Ecuación diferencial parcial de tercer orden, de primer grado, lineal y homogénea."
      ]
    },
    {
      "cell_type": "markdown",
      "metadata": {
        "id": "asbXqhuyq1ie"
      },
      "source": [
        "<p align=\"center\">\n",
        "  <img src=\"https://github.com/Al3xCalva/Problemario_MAC_Tema1/blob/main/PROBLEMARIO%20TEMA%201%20MAC/Problemario%20Saul%202/JPEG%20image-82AA85A88DC9-4.jpeg?raw=1\" width=\"500\">\n",
        "</p>\n"
      ]
    },
    {
      "cell_type": "markdown",
      "metadata": {
        "id": "vF01EEEVq1ie"
      },
      "source": [
        "$$ 3t\\frac{d^2z}{dt^2} - 3\\left(\\frac{dz}{dt}\\right)^3 + 5z = 2t\\sin(t) $$"
      ]
    },
    {
      "cell_type": "code",
      "execution_count": null,
      "metadata": {
        "id": "bEG_F2KBq1ie",
        "outputId": "0c7a761e-94ee-48e0-af94-20bed6dfff8e"
      },
      "outputs": [
        {
          "name": "stdout",
          "output_type": "stream",
          "text": [
            "+------------------------+---------------+\n",
            "| Característica         | Descripción   |\n",
            "+========================+===============+\n",
            "| Ecuación Diferencial   | Sí            |\n",
            "+------------------------+---------------+\n",
            "| Orden                  | Segundo orden |\n",
            "+------------------------+---------------+\n",
            "| Grado                  | Primer grado  |\n",
            "+------------------------+---------------+\n",
            "| Variables (indep, dep) | t, z          |\n",
            "+------------------------+---------------+\n",
            "| Tipo                   | Ordinaria     |\n",
            "+------------------------+---------------+\n",
            "| Lineal                 | No            |\n",
            "+------------------------+---------------+\n",
            "| Homogénea              | No            |\n",
            "+------------------------+---------------+\n"
          ]
        }
      ],
      "source": [
        "datos = {\n",
        "    'Característica': [\n",
        "        'Ecuación Diferencial', 'Orden', 'Grado', 'Variables (indep, dep)',\n",
        "        'Tipo', 'Lineal', 'Homogénea'],\n",
        "    'Descripción': [\n",
        "        'Sí', 'Segundo orden', 'Primer grado', 't, z',\n",
        "        'Ordinaria', 'No', 'No']\n",
        "}\n",
        "\n",
        "print(tabulate(datos, headers='keys', tablefmt='grid'))"
      ]
    },
    {
      "cell_type": "markdown",
      "metadata": {
        "id": "LzHVaAKiq1ie"
      },
      "source": [
        "Nombre: Ecuación diferencial ordinaria de segundo orden, de primer grado, no lineal y no homogénea.\n",
        "\n"
      ]
    },
    {
      "cell_type": "markdown",
      "metadata": {
        "id": "6HfLFsuqq1ie"
      },
      "source": [
        "$$ \\sqrt{\\frac{d^3y}{dm^3}} = \\sqrt[3]{1 - \\frac{dy}{dm}} $$"
      ]
    },
    {
      "cell_type": "code",
      "execution_count": null,
      "metadata": {
        "id": "LyUS939Aq1ie",
        "outputId": "4aefa683-fb7e-4791-e73c-513bdc25a2e9"
      },
      "outputs": [
        {
          "name": "stdout",
          "output_type": "stream",
          "text": [
            "+------------------------+---------------+\n",
            "| Característica         | Descripción   |\n",
            "+========================+===============+\n",
            "| Ecuación Diferencial   | Sí            |\n",
            "+------------------------+---------------+\n",
            "| Orden                  | Tercer orden  |\n",
            "+------------------------+---------------+\n",
            "| Grado                  | Tercer grado  |\n",
            "+------------------------+---------------+\n",
            "| Variables (indep, dep) | m, y          |\n",
            "+------------------------+---------------+\n",
            "| Tipo                   | Ordinaria     |\n",
            "+------------------------+---------------+\n",
            "| Lineal                 | No            |\n",
            "+------------------------+---------------+\n",
            "| Homogénea              | No            |\n",
            "+------------------------+---------------+\n"
          ]
        }
      ],
      "source": [
        "datos = {\n",
        "    'Característica': [\n",
        "        'Ecuación Diferencial', 'Orden', 'Grado', 'Variables (indep, dep)',\n",
        "        'Tipo', 'Lineal', 'Homogénea'],\n",
        "    'Descripción': [\n",
        "        'Sí', 'Tercer orden', 'Tercer grado', 'm, y',\n",
        "        'Ordinaria', 'No', 'No']\n",
        "}\n",
        "\n",
        "print(tabulate(datos, headers='keys', tablefmt='grid'))"
      ]
    },
    {
      "cell_type": "markdown",
      "metadata": {
        "id": "4yBhvXNCq1ie"
      },
      "source": [
        "Nombre: Ecuacion Diferencial ordinaria de 3er orden 3er grado no lineal no homogenea"
      ]
    },
    {
      "cell_type": "markdown",
      "metadata": {
        "id": "JrMwxERnq1ie"
      },
      "source": [
        "<p align=\"center\">\n",
        "  <img src=\"https://github.com/Al3xCalva/Problemario_MAC_Tema1/blob/main/PROBLEMARIO%20TEMA%201%20MAC/Problemario%20Saul%202/JPEG%20image-82AA85A88DC9-5.jpeg?raw=1\" width=\"500\">\n",
        "</p>\n"
      ]
    },
    {
      "cell_type": "markdown",
      "metadata": {
        "id": "3mX5UzJpq1if"
      },
      "source": [
        "$$ x\\mu - 3\\mu^3(xyz) + 5xy\\mu = \\frac{2x}{z^2y} $$"
      ]
    },
    {
      "cell_type": "code",
      "execution_count": null,
      "metadata": {
        "id": "367xIB0bq1if",
        "outputId": "f9bf92dd-8582-4859-94db-dfba3dc27fd0"
      },
      "outputs": [
        {
          "name": "stdout",
          "output_type": "stream",
          "text": [
            "+----------------------+---------------+\n",
            "| Característica       | Descripción   |\n",
            "+======================+===============+\n",
            "| Ecuación Diferencial | Si            |\n",
            "+----------------------+---------------+\n",
            "| Orden                | No aplica     |\n",
            "+----------------------+---------------+\n",
            "| Grado                | No aplica     |\n",
            "+----------------------+---------------+\n",
            "| Tipo                 | Parcial       |\n",
            "+----------------------+---------------+\n",
            "| Lineal               | No aplica     |\n",
            "+----------------------+---------------+\n",
            "| Homogénea            | No aplica     |\n",
            "+----------------------+---------------+\n"
          ]
        }
      ],
      "source": [
        "datos  = {\n",
        "    'Característica': [\n",
        "        'Ecuación Diferencial', 'Orden', 'Grado', 'Tipo',\n",
        "        'Lineal', 'Homogénea'],\n",
        "    'Descripción': [\n",
        "        'Si', 'No aplica', 'No aplica', 'Parcial',\n",
        "        'No aplica', 'No aplica']\n",
        "}\n",
        "\n",
        "print(tabulate(datos, headers='keys', tablefmt='grid'))"
      ]
    },
    {
      "cell_type": "markdown",
      "metadata": {
        "id": "Wg2NlTqiq1if"
      },
      "source": [
        "# Actividad 3: Separacion de Variables"
      ]
    },
    {
      "cell_type": "markdown",
      "metadata": {
        "id": "He5XVkF1q1if"
      },
      "source": [
        "<p align=\"center\">\n",
        "  <img src=\"https://github.com/Al3xCalva/Problemario_MAC_Tema1/blob/main/PROBLEMARIO%20TEMA%201%20MAC/Problemario%20Saul%202/JPEG%20image-82AA85A88DC9-6.jpeg?raw=1\" width=\"500\">\n",
        "</p>\n"
      ]
    },
    {
      "cell_type": "code",
      "execution_count": 584,
      "metadata": {
        "id": "AaiN2Lwkq1if",
        "outputId": "86a541da-2670-48ed-8a53-6c35e5a1f06a"
      },
      "outputs": [
        {
          "data": {
            "text/latex": [
              "$\\displaystyle \\frac{d}{d x} y{\\left(x \\right)} = x e^{- x^{2} + y{\\left(x \\right)}}$"
            ],
            "text/plain": [
              "                 2       \n",
              "d             - x  + y(x)\n",
              "──(y(x)) = x⋅ℯ           \n",
              "dx                       "
            ]
          },
          "metadata": {},
          "output_type": "display_data"
        }
      ],
      "source": [
        "\n",
        "x = sp.Symbol('x')\n",
        "y = sp.Function('y')(x)\n",
        "\n",
        "ode1 = sp.Eq(sp.Derivative(y, x), x*sp.exp(y - x**2))\n",
        "display(ode1)\n"
      ]
    },
    {
      "cell_type": "code",
      "execution_count": 585,
      "metadata": {
        "id": "vOX9iuulq1if",
        "outputId": "76d8a915-9921-49aa-d18f-a499b118af04"
      },
      "outputs": [
        {
          "data": {
            "text/latex": [
              "$\\displaystyle y{\\left(x \\right)} = \\log{\\left(- \\frac{e^{x^{2}}}{C_{1} e^{x^{2}} - 1} \\right)} + \\log{\\left(2 \\right)}$"
            ],
            "text/plain": [
              "          ⎛    ⎛ 2⎞    ⎞         \n",
              "          ⎜    ⎝x ⎠    ⎟         \n",
              "          ⎜  -ℯ        ⎟         \n",
              "y(x) = log⎜────────────⎟ + log(2)\n",
              "          ⎜    ⎛ 2⎞    ⎟         \n",
              "          ⎜    ⎝x ⎠    ⎟         \n",
              "          ⎝C₁⋅ℯ     - 1⎠         "
            ]
          },
          "metadata": {},
          "output_type": "display_data"
        }
      ],
      "source": [
        "sol1 = sp.dsolve(ode1)\n",
        "display(sol1)\n",
        "\n"
      ]
    },
    {
      "cell_type": "code",
      "execution_count": 586,
      "metadata": {
        "id": "RXKrC2Svq1if",
        "outputId": "51b15357-4438-4d12-bf1d-7efdce70a130"
      },
      "outputs": [
        {
          "data": {
            "text/latex": [
              "$\\displaystyle \\frac{d}{d x} y{\\left(x \\right)} = - e^{\\cos{\\left(x \\right)}} \\sin{\\left(x \\right)}$"
            ],
            "text/plain": [
              "d            cos(x)       \n",
              "──(y(x)) = -ℯ      ⋅sin(x)\n",
              "dx                        "
            ]
          },
          "metadata": {},
          "output_type": "display_data"
        }
      ],
      "source": [
        "\n",
        "x = sp.Symbol('x')\n",
        "y = sp.Function('y')(x)\n",
        "\n",
        "ode2 = sp.Eq(sp.Derivative(y, x), -sp.sin(x)*sp.exp(sp.cos(x)))\n",
        "display(ode2)\n"
      ]
    },
    {
      "cell_type": "code",
      "execution_count": 587,
      "metadata": {
        "id": "huMNItTYq1if",
        "outputId": "3d12dfa8-6d22-4059-a640-f39c49d8126c"
      },
      "outputs": [
        {
          "data": {
            "text/latex": [
              "$\\displaystyle y{\\left(x \\right)} = C_{1} + e^{\\cos{\\left(x \\right)}}$"
            ],
            "text/plain": [
              "             cos(x)\n",
              "y(x) = C₁ + ℯ      "
            ]
          },
          "metadata": {},
          "output_type": "display_data"
        }
      ],
      "source": [
        "sol2 = sp.dsolve(ode2)\n",
        "display(sol2)\n",
        "\n"
      ]
    },
    {
      "cell_type": "code",
      "execution_count": 588,
      "metadata": {
        "id": "C9OBmdD7q1if",
        "outputId": "de79e6cc-11ea-4eb1-ec66-90a379f333bf"
      },
      "outputs": [
        {
          "data": {
            "text/latex": [
              "$\\displaystyle \\frac{d}{d x} y{\\left(x \\right)} = x y{\\left(x \\right)} + x + y{\\left(x \\right)} + 1$"
            ],
            "text/plain": [
              "d                               \n",
              "──(y(x)) = x⋅y(x) + x + y(x) + 1\n",
              "dx                              "
            ]
          },
          "metadata": {},
          "output_type": "display_data"
        }
      ],
      "source": [
        "\n",
        "x = sp.Symbol('x')\n",
        "y = sp.Function('y')(x)\n",
        "\n",
        "ode3 = sp.Eq(sp.Derivative(y, x), 1 + x + y + x*y)\n",
        "display(ode3)\n"
      ]
    },
    {
      "cell_type": "code",
      "execution_count": 589,
      "metadata": {
        "id": "gfi8_q47q1if",
        "outputId": "4cbd8a98-49b0-4c66-abf7-94178b4f69a3"
      },
      "outputs": [
        {
          "data": {
            "text/latex": [
              "$\\displaystyle y{\\left(x \\right)} = C_{1} e^{x \\left(\\frac{x}{2} + 1\\right)} - 1$"
            ],
            "text/plain": [
              "             ⎛x    ⎞    \n",
              "           x⋅⎜─ + 1⎟    \n",
              "             ⎝2    ⎠    \n",
              "y(x) = C₁⋅ℯ          - 1"
            ]
          },
          "metadata": {},
          "output_type": "display_data"
        }
      ],
      "source": [
        "\n",
        "sol3 = sp.dsolve(ode3)\n",
        "display(sol3)\n",
        "\n",
        "\n"
      ]
    },
    {
      "cell_type": "code",
      "execution_count": 590,
      "metadata": {
        "id": "nWOIVNyGq1if",
        "outputId": "8aa1fb01-6b77-454b-e4e6-136409576a90"
      },
      "outputs": [
        {
          "data": {
            "text/latex": [
              "$\\displaystyle \\frac{d}{d x} y{\\left(x \\right)} = y^{2}{\\left(x \\right)} - 4$"
            ],
            "text/plain": [
              "d           2       \n",
              "──(y(x)) = y (x) - 4\n",
              "dx                  "
            ]
          },
          "metadata": {},
          "output_type": "display_data"
        }
      ],
      "source": [
        "x = sp.Symbol('x')\n",
        "y = sp.Function('y')(x)\n",
        "\n",
        "ode4 = sp.Eq(sp.Derivative(y, x), y**2 - 4)\n",
        "display(ode4)\n",
        "\n"
      ]
    },
    {
      "cell_type": "code",
      "execution_count": 591,
      "metadata": {
        "id": "7D7UZotFq1if",
        "outputId": "06a31289-a4f7-47e3-cec5-03807743b200"
      },
      "outputs": [
        {
          "data": {
            "text/latex": [
              "$\\displaystyle y{\\left(x \\right)} = \\frac{2}{\\tanh{\\left(C_{1} - 2 x \\right)}}$"
            ],
            "text/plain": [
              "             2       \n",
              "y(x) = ──────────────\n",
              "       tanh(C₁ - 2⋅x)"
            ]
          },
          "metadata": {},
          "output_type": "display_data"
        }
      ],
      "source": [
        "sol4 = sp.dsolve(ode4)\n",
        "display(sol4)\n",
        "\n"
      ]
    },
    {
      "cell_type": "markdown",
      "metadata": {
        "id": "zI9pegFEq1if"
      },
      "source": [
        "<p align=\"center\">\n",
        "  <img src=\"https://github.com/Al3xCalva/Problemario_MAC_Tema1/blob/main/PROBLEMARIO%20TEMA%201%20MAC/Problemario%20Saul%202/JPEG%20image-82AA85A88DC9-7.jpeg?raw=1\" width=\"500\">\n",
        "  \n",
        "</p>\n"
      ]
    },
    {
      "cell_type": "code",
      "execution_count": 592,
      "metadata": {
        "id": "NvTX1Ds5q1ig",
        "outputId": "7003a5d8-6ea8-42db-f191-ff2deb26bee7"
      },
      "outputs": [
        {
          "data": {
            "text/latex": [
              "$\\displaystyle \\frac{d}{d x} y{\\left(x \\right)} = x \\sqrt{y{\\left(x \\right)}}$"
            ],
            "text/plain": [
              "d              ______\n",
              "──(y(x)) = x⋅╲╱ y(x) \n",
              "dx                   "
            ]
          },
          "metadata": {},
          "output_type": "display_data"
        }
      ],
      "source": [
        "# Problema de Valor Inicial\n",
        "x = sp.Symbol('x')\n",
        "y = sp.Function('y')(x)\n",
        "\n",
        "ode_pvi = sp.Eq(sp.Derivative(y, x), x*sp.sqrt(y))\n",
        "display(ode_pvi)\n"
      ]
    },
    {
      "cell_type": "code",
      "execution_count": 593,
      "metadata": {
        "id": "xOhZXIL7q1ig",
        "outputId": "8c681ab6-aef8-41ff-d411-6d8adcb9b512"
      },
      "outputs": [
        {
          "data": {
            "text/latex": [
              "$\\displaystyle y{\\left(x \\right)} = \\frac{x^{4}}{16}$"
            ],
            "text/plain": [
              "        4\n",
              "       x \n",
              "y(x) = ──\n",
              "       16"
            ]
          },
          "metadata": {},
          "output_type": "display_data"
        }
      ],
      "source": [
        "sol_pvi = sp.dsolve(ode_pvi, ics={y.subs(x, 0): 0})\n",
        "display(sol_pvi)\n",
        "\n"
      ]
    },
    {
      "cell_type": "markdown",
      "metadata": {},
      "source": [
        "<p align=\"center\">\n",
        "  <img src=\"./Problemario Saul 2/JPEG image-4AC2-9217-71-0.jpeg\" width=\"500\">\n",
        "  \n",
        "</p>\n"
      ]
    },
    {
      "cell_type": "code",
      "execution_count": 594,
      "metadata": {
        "id": "vr_Ngt--r4PJ"
      },
      "outputs": [
        {
          "data": {
            "text/latex": [
              "$\\displaystyle \\frac{d}{d x} y{\\left(x \\right)} = g{\\left(x \\right)}$"
            ],
            "text/plain": [
              "d              \n",
              "──(y(x)) = g(x)\n",
              "dx             "
            ]
          },
          "metadata": {},
          "output_type": "display_data"
        }
      ],
      "source": [
        "x = sp.Symbol('x')\n",
        "y = sp.Function('y')(x)\n",
        "g = sp.Function('g')(x)\n",
        "odeA = sp.Eq(sp.Derivative(y, x), g)\n",
        "display(odeA)\n"
      ]
    },
    {
      "cell_type": "code",
      "execution_count": 595,
      "metadata": {
        "id": "M7ws_uZHr38X"
      },
      "outputs": [
        {
          "data": {
            "text/latex": [
              "$\\displaystyle y{\\left(x \\right)} = C_{1} + \\int g{\\left(x \\right)}\\, dx$"
            ],
            "text/plain": [
              "            ⌠        \n",
              "y(x) = C₁ + ⎮ g(x) dx\n",
              "            ⌡        "
            ]
          },
          "metadata": {},
          "output_type": "display_data"
        }
      ],
      "source": [
        "solA = sp.dsolve(odeA)          # y(x) = ∫ g(x) dx + C\n",
        "display(solA)\n",
        "\n"
      ]
    },
    {
      "cell_type": "code",
      "execution_count": 596,
      "metadata": {},
      "outputs": [
        {
          "data": {
            "text/latex": [
              "$\\displaystyle \\frac{d}{d x} y{\\left(x \\right)} = e^{2 x} + 1$"
            ],
            "text/plain": [
              "d           2⋅x    \n",
              "──(y(x)) = ℯ    + 1\n",
              "dx                 "
            ]
          },
          "metadata": {},
          "output_type": "display_data"
        }
      ],
      "source": [
        "x = sp.Symbol('x')\n",
        "y = sp.Function('y')(x)\n",
        "odeB = sp.Eq(sp.Derivative(y, x), 1 + sp.exp(2*x))\n",
        "display(odeB)\n"
      ]
    },
    {
      "cell_type": "code",
      "execution_count": 597,
      "metadata": {},
      "outputs": [
        {
          "data": {
            "text/latex": [
              "$\\displaystyle y{\\left(x \\right)} = C_{1} + x + \\frac{e^{2 x}}{2}$"
            ],
            "text/plain": [
              "                 2⋅x\n",
              "                ℯ   \n",
              "y(x) = C₁ + x + ────\n",
              "                 2  "
            ]
          },
          "metadata": {},
          "output_type": "display_data"
        }
      ],
      "source": [
        "solB = sp.dsolve(odeB)          # y = x + (1/2)e^{2x} + C\n",
        "display(solB)\n"
      ]
    },
    {
      "cell_type": "code",
      "execution_count": 598,
      "metadata": {},
      "outputs": [
        {
          "data": {
            "text/latex": [
              "$\\displaystyle \\frac{d}{d x} y{\\left(x \\right)} = \\frac{y{\\left(x \\right)}}{x + 1}$"
            ],
            "text/plain": [
              "d          y(x) \n",
              "──(y(x)) = ─────\n",
              "dx         x + 1"
            ]
          },
          "metadata": {},
          "output_type": "display_data"
        }
      ],
      "source": [
        "x = sp.Symbol('x')\n",
        "y = sp.Function('y')(x)\n",
        "odeC = sp.Eq(sp.Derivative(y, x), y/(1+x))\n",
        "display(odeC)\n",
        "\n"
      ]
    },
    {
      "cell_type": "code",
      "execution_count": 599,
      "metadata": {},
      "outputs": [
        {
          "data": {
            "text/latex": [
              "$\\displaystyle y{\\left(x \\right)} = C_{1} \\left(x + 1\\right)$"
            ],
            "text/plain": [
              "y(x) = C₁⋅(x + 1)"
            ]
          },
          "metadata": {},
          "output_type": "display_data"
        }
      ],
      "source": [
        "solC = sp.dsolve(odeC)          # y = C(1+x)\n",
        "display(solC)\n"
      ]
    },
    {
      "cell_type": "markdown",
      "metadata": {},
      "source": [
        "<p align=\"center\">\n",
        "  <img src=\"./Problemario Saul 2/JPEG image-4AC2-9217-71-1.jpeg\" width=\"500\">\n",
        "  \n",
        "</p>\n"
      ]
    },
    {
      "cell_type": "code",
      "execution_count": 600,
      "metadata": {},
      "outputs": [
        {
          "data": {
            "text/latex": [
              "$\\displaystyle \\frac{d}{d x} y{\\left(x \\right)} = \\left(x + 1\\right) \\left(y{\\left(x \\right)} + 1\\right)$"
            ],
            "text/plain": [
              "d                            \n",
              "──(y(x)) = (x + 1)⋅(y(x) + 1)\n",
              "dx                           "
            ]
          },
          "metadata": {},
          "output_type": "display_data"
        }
      ],
      "source": [
        "x = sp.Symbol('x')\n",
        "y = sp.Function('y')(x)\n",
        "odeD = sp.Eq(sp.Derivative(y, x), (1+x)*(1+y))\n",
        "display(odeD)\n"
      ]
    },
    {
      "cell_type": "code",
      "execution_count": 601,
      "metadata": {},
      "outputs": [
        {
          "data": {
            "text/latex": [
              "$\\displaystyle y{\\left(x \\right)} = C_{1} e^{x \\left(\\frac{x}{2} + 1\\right)} - 1$"
            ],
            "text/plain": [
              "             ⎛x    ⎞    \n",
              "           x⋅⎜─ + 1⎟    \n",
              "             ⎝2    ⎠    \n",
              "y(x) = C₁⋅ℯ          - 1"
            ]
          },
          "metadata": {},
          "output_type": "display_data"
        }
      ],
      "source": [
        "solD = sp.dsolve(odeD)          # ln(1+y) = x + x^2/2 + C  → y = C e^{x+x^2/2}-1\n",
        "display(solD)\n",
        "\n"
      ]
    },
    {
      "cell_type": "code",
      "execution_count": 602,
      "metadata": {},
      "outputs": [
        {
          "data": {
            "text/latex": [
              "$\\displaystyle x \\frac{d}{d x} y{\\left(x \\right)} + y{\\left(x \\right)} = x^{2} y^{2}{\\left(x \\right)}$"
            ],
            "text/plain": [
              "  d                  2  2   \n",
              "x⋅──(y(x)) + y(x) = x ⋅y (x)\n",
              "  dx                        "
            ]
          },
          "metadata": {},
          "output_type": "display_data"
        }
      ],
      "source": [
        "x = sp.Symbol('x')\n",
        "y = sp.Function('y')(x)\n",
        "odeE = sp.Eq(x*sp.Derivative(y, x) + y, x**2*y**2)\n",
        "display(odeE)\n"
      ]
    },
    {
      "cell_type": "code",
      "execution_count": 603,
      "metadata": {},
      "outputs": [
        {
          "data": {
            "text/latex": [
              "$\\displaystyle y{\\left(x \\right)} = \\frac{1}{C x - x^{2}}$"
            ],
            "text/plain": [
              "          1    \n",
              "y(x) = ────────\n",
              "              2\n",
              "       C⋅x - x "
            ]
          },
          "metadata": {},
          "output_type": "display_data"
        }
      ],
      "source": [
        "C = sp.Symbol('C')\n",
        "yE = 1/(C*x - x**2)\n",
        "display(sp.Eq(y, yE))\n"
      ]
    },
    {
      "cell_type": "markdown",
      "metadata": {},
      "source": [
        "<p align=\"center\">\n",
        "  <img src=\"./Problemario Saul 2/JPEG image-4AC2-9217-71-2.jpeg\" width=\"500\">\n",
        "  \n",
        "</p>\n"
      ]
    },
    {
      "cell_type": "code",
      "execution_count": 604,
      "metadata": {},
      "outputs": [
        {
          "data": {
            "text/latex": [
              "$\\displaystyle \\frac{d}{d x} y{\\left(x \\right)} = - \\frac{x}{y{\\left(x \\right)}}$"
            ],
            "text/plain": [
              "d          -x  \n",
              "──(y(x)) = ────\n",
              "dx         y(x)"
            ]
          },
          "metadata": {},
          "output_type": "display_data"
        }
      ],
      "source": [
        "x = sp.Symbol('x')\n",
        "y = sp.Function('y')(x)\n",
        "odeF = sp.Eq(sp.Derivative(y, x), -x/y)\n",
        "display(odeF)\n"
      ]
    },
    {
      "cell_type": "code",
      "execution_count": 605,
      "metadata": {},
      "outputs": [
        {
          "data": {
            "text/latex": [
              "$\\displaystyle y{\\left(x \\right)} = - \\sqrt{25 - x^{2}}$"
            ],
            "text/plain": [
              "           _________\n",
              "          ╱       2 \n",
              "y(x) = -╲╱  25 - x  "
            ]
          },
          "metadata": {},
          "output_type": "display_data"
        }
      ],
      "source": [
        "solF = sp.dsolve(odeF, ics={y.subs(x, 4): -3})   # y^2 = x^2 + C  con CI\n",
        "display(solF)\n"
      ]
    },
    {
      "cell_type": "code",
      "execution_count": 606,
      "metadata": {},
      "outputs": [
        {
          "data": {
            "text/latex": [
              "$\\displaystyle \\frac{d}{d x} y{\\left(x \\right)} = x e^{- x^{2} + y{\\left(x \\right)}}$"
            ],
            "text/plain": [
              "                 2       \n",
              "d             - x  + y(x)\n",
              "──(y(x)) = x⋅ℯ           \n",
              "dx                       "
            ]
          },
          "metadata": {},
          "output_type": "display_data"
        }
      ],
      "source": [
        "x = sp.Symbol('x')\n",
        "y = sp.Function('y')(x)\n",
        "odeG = sp.Eq(sp.Derivative(y, x), x*sp.exp(y - x**2))\n",
        "display(odeG)\n"
      ]
    },
    {
      "cell_type": "code",
      "execution_count": 607,
      "metadata": {},
      "outputs": [
        {
          "data": {
            "text/latex": [
              "$\\displaystyle y{\\left(x \\right)} = \\log{\\left(- \\frac{e^{x^{2}}}{C_{1} e^{x^{2}} - 1} \\right)} + \\log{\\left(2 \\right)}$"
            ],
            "text/plain": [
              "          ⎛    ⎛ 2⎞    ⎞         \n",
              "          ⎜    ⎝x ⎠    ⎟         \n",
              "          ⎜  -ℯ        ⎟         \n",
              "y(x) = log⎜────────────⎟ + log(2)\n",
              "          ⎜    ⎛ 2⎞    ⎟         \n",
              "          ⎜    ⎝x ⎠    ⎟         \n",
              "          ⎝C₁⋅ℯ     - 1⎠         "
            ]
          },
          "metadata": {},
          "output_type": "display_data"
        }
      ],
      "source": [
        "solG = sp.dsolve(odeG)          # e^{-y} = C + (1/2) e^{-x^2}\n",
        "display(solG)\n"
      ]
    },
    {
      "cell_type": "markdown",
      "metadata": {},
      "source": [
        "<p align=\"center\">\n",
        "  <img src=\"./Problemario Saul 2/JPEG image-4AC2-9217-71-3.jpeg\" width=\"500\">\n",
        "  \n",
        "</p>\n"
      ]
    },
    {
      "cell_type": "code",
      "execution_count": 608,
      "metadata": {},
      "outputs": [
        {
          "data": {
            "text/latex": [
              "$\\displaystyle y{\\left(x \\right)} e^{\\cos{\\left(x \\right)}} \\sin{\\left(x \\right)} + \\frac{\\frac{d}{d x} y{\\left(x \\right)}}{y{\\left(x \\right)}} = 0$"
            ],
            "text/plain": [
              "                      d           \n",
              "                      ──(y(x))    \n",
              "      cos(x)          dx          \n",
              "y(x)⋅ℯ      ⋅sin(x) + ──────── = 0\n",
              "                        y(x)      "
            ]
          },
          "metadata": {},
          "output_type": "display_data"
        }
      ],
      "source": [
        "x = sp.Symbol('x')\n",
        "y = sp.Function('y')(x)\n",
        "odeH = sp.Eq(y**(-1)*sp.Derivative(y, x) + y*sp.sin(x)*sp.exp(sp.cos(x)), 0)\n",
        "display(odeH)\n"
      ]
    },
    {
      "cell_type": "code",
      "execution_count": 609,
      "metadata": {},
      "outputs": [
        {
          "data": {
            "text/latex": [
              "$\\displaystyle y{\\left(x \\right)} = 2 K + x$"
            ],
            "text/plain": [
              "y(x) = 2⋅K + x"
            ]
          },
          "metadata": {},
          "output_type": "display_data"
        }
      ],
      "source": [
        "\n",
        "\n",
        "K = sp.Symbol('K')\n",
        "yI = (x*2/4 + K)*2\n",
        "display(sp.Eq(y, yI))\n",
        "\n"
      ]
    },
    {
      "cell_type": "code",
      "execution_count": null,
      "metadata": {},
      "outputs": [
        {
          "data": {
            "text/latex": [
              "$\\displaystyle \\frac{d}{d x} y{\\left(x \\right)} = x y{\\left(x \\right)}$"
            ],
            "text/plain": [
              "d                \n",
              "──(y(x)) = x⋅y(x)\n",
              "dx               "
            ]
          },
          "metadata": {},
          "output_type": "display_data"
        }
      ],
      "source": [
        "x = sp.Symbol('x')\n",
        "y = sp.Function('y')(x)\n",
        "\n",
        "ode = sp.Eq(sp.Derivative(y, x), x*sp.sqrt(y))\n",
        "display(ode)\n"
      ]
    },
    {
      "cell_type": "code",
      "execution_count": 677,
      "metadata": {},
      "outputs": [
        {
          "data": {
            "text/latex": [
              "$\\displaystyle y{\\left(x \\right)} = C_{1} e^{\\frac{x^{2}}{2}}$"
            ],
            "text/plain": [
              "            2\n",
              "           x \n",
              "           ──\n",
              "           2 \n",
              "y(x) = C₁⋅ℯ  "
            ]
          },
          "metadata": {},
          "output_type": "display_data"
        }
      ],
      "source": [
        "sol = sp.dsolve(ode)\n",
        "display(sol)\n",
        "\n"
      ]
    },
    {
      "cell_type": "markdown",
      "metadata": {},
      "source": [
        "<p align=\"center\">\n",
        "  <img src=\"./Problemario Saul 2/JPEG image-4AC2-9217-71-4.jpeg\" width=\"500\">\n",
        "  \n",
        "</p>\n"
      ]
    },
    {
      "cell_type": "code",
      "execution_count": 678,
      "metadata": {},
      "outputs": [
        {
          "data": {
            "text/latex": [
              "$\\displaystyle y{\\left(x \\right)} \\tan{\\left(x \\right)} + \\frac{d}{d x} y{\\left(x \\right)} = 2 \\cos{\\left(x \\right)}$"
            ],
            "text/plain": [
              "              d                  \n",
              "y(x)⋅tan(x) + ──(y(x)) = 2⋅cos(x)\n",
              "              dx                 "
            ]
          },
          "metadata": {},
          "output_type": "display_data"
        }
      ],
      "source": [
        "from sympy import symbols, Function, Eq, Derivative, tan, cos, dsolve\n",
        "from IPython.display import display\n",
        "\n",
        "x = symbols('x')\n",
        "y = Function('y')(x)\n",
        "\n",
        "ode = Eq(Derivative(y, x) + tan(x)*y, cos(x)*2)  # y' + tan(x)*y = cos(x)^2\n",
        "display(ode)\n",
        "\n"
      ]
    },
    {
      "cell_type": "code",
      "execution_count": 679,
      "metadata": {},
      "outputs": [
        {
          "data": {
            "text/latex": [
              "$\\displaystyle y{\\left(x \\right)} = \\left(2 x + 2\\right) \\cos{\\left(x \\right)}$"
            ],
            "text/plain": [
              "y(x) = (2⋅x + 2)⋅cos(x)"
            ]
          },
          "metadata": {},
          "output_type": "display_data"
        }
      ],
      "source": [
        "sol = dsolve(ode, ics={y.subs(x, 0): 2})\n",
        "display(sol)"
      ]
    },
    {
      "cell_type": "code",
      "execution_count": 680,
      "metadata": {},
      "outputs": [
        {
          "data": {
            "text/latex": [
              "$\\displaystyle x \\frac{d}{d x} y{\\left(x \\right)} + y{\\left(x \\right)} = e^{y{\\left(x \\right)}}$"
            ],
            "text/plain": [
              "  d                  y(x)\n",
              "x⋅──(y(x)) + y(x) = ℯ    \n",
              "  dx                     "
            ]
          },
          "metadata": {},
          "output_type": "display_data"
        }
      ],
      "source": [
        "x = sp.Symbol('x')\n",
        "y = sp.Function('y')(x)\n",
        "odeK = sp.Eq(x*sp.Derivative(y, x) + y, sp.exp(y))\n",
        "display(odeK)\n"
      ]
    },
    {
      "cell_type": "code",
      "execution_count": 681,
      "metadata": {},
      "outputs": [
        {
          "data": {
            "text/latex": [
              "$\\displaystyle - \\int\\limits_{2}^{y{\\left(x \\right)}} \\frac{1}{t - e^{t}}\\, dt = \\log{\\left(x \\right)}$"
            ],
            "text/plain": [
              " y(x)                   \n",
              "  ⌠                     \n",
              "  ⎮     1               \n",
              "- ⎮   ────── dt = log(x)\n",
              "  ⎮        t            \n",
              "  ⎮   t - ℯ             \n",
              "  ⌡                     \n",
              "  2                     "
            ]
          },
          "metadata": {},
          "output_type": "display_data"
        }
      ],
      "source": [
        "# Separando:  dy/(e^y - y) = dx/x.  Con CI: ∫_{2}^{y} dt/(e^t - t) = ln x\n",
        "t = sp.Symbol('t')\n",
        "C = sp.Symbol('C')\n",
        "implK = sp.Eq(sp.integrate(1/(sp.exp(t)-t), (t, 2, y)), sp.log(x))  # CI y(1)=2 incorporada\n",
        "display(implK)\n",
        "\n"
      ]
    },
    {
      "cell_type": "code",
      "execution_count": 682,
      "metadata": {
        "id": "f1Q-gMdQq1ig",
        "outputId": "673cb6ee-bc68-41b8-ef2f-ec7cfb39580a"
      },
      "outputs": [
        {
          "data": {
            "image/jpeg": "[encoded data removed]",
            "text/plain": [
              "<IPython.core.display.Image object>"
            ]
          },
          "execution_count": 682,
          "metadata": {
            "image/jpeg": {
              "height": 400,
              "width": 400
            }
          },
          "output_type": "execute_result"
        }
      ],
      "source": [
        "from IPython.display import Image\n",
        "Image(filename=\"notas.jpg\", width=400, height=400)"
      ]
    },
    {
      "cell_type": "code",
      "execution_count": 683,
      "metadata": {
        "id": "MyutZYB1q1ig"
      },
      "outputs": [],
      "source": [
        "# === SETUP (una sola vez) ===\n",
        "import sympy as sp\n",
        "sp.init_printing(use_latex='mathjax')\n",
        "\n",
        "\n",
        "def resolver_ED_en_x(rhs, ics=None):\n",
        "    \"\"\"\n",
        "    Resuelve y'(x) = rhs(x,y) con SymPy.\n",
        "    - rhs: expresión de SymPy en x,y\n",
        "    - ics: diccionario con condición inicial, ej: {y.subs(x, x0): y0}\n",
        "    \"\"\"\n",
        "    x = sp.Symbol('x')\n",
        "    y = sp.Function('y')(x)\n",
        "    ode = sp.Eq(sp.diff(y, x), rhs)\n",
        "    sol = sp.dsolve(ode, ics=ics)\n",
        "    return ode, sol\n",
        "\n",
        "def de_forma_diferencial_a_dydx(M, N):\n",
        "    \"\"\"\n",
        "    Convierte M(x,y) dx + N(x,y) dy = 0  -->  y' = -M/N\n",
        "    \"\"\"\n",
        "    x, y = sp.symbols('x y')\n",
        "    return sp.simplify(-M/N)\n"
      ]
    },
    {
      "cell_type": "markdown",
      "metadata": {
        "id": "k9DpszIDq1ig"
      },
      "source": [
        "# Seccion 1: Separacion de variables\n"
      ]
    },
    {
      "cell_type": "markdown",
      "metadata": {
        "id": "Kv7oqvG9q1ig"
      },
      "source": [
        "<p align=\"center\">\n",
        "  <img src=\"https://github.com/Al3xCalva/Problemario_MAC_Tema1/blob/main/PROBLEMARIO%20TEMA%201%20MAC/Problemario%20Saul%202/JPEG%20image-82AA85A88DC9-8.jpeg?raw=1\" width=\"500\">\n",
        "</p>\n"
      ]
    },
    {
      "cell_type": "code",
      "execution_count": 684,
      "metadata": {
        "id": "QaCiAmdSq1ig",
        "outputId": "bbcd4858-7788-43ac-d574-2ceb7d4fa15e"
      },
      "outputs": [
        {
          "data": {
            "text/latex": [
              "$\\displaystyle \\frac{d}{d x} y{\\left(x \\right)} = \\sin{\\left(5 x \\right)}$"
            ],
            "text/plain": [
              "d                  \n",
              "──(y(x)) = sin(5⋅x)\n",
              "dx                 "
            ]
          },
          "metadata": {},
          "output_type": "display_data"
        }
      ],
      "source": [
        "#1\n",
        "x = sp.Symbol('x')\n",
        "y = sp.Function('y')(x)\n",
        "ode1 = sp.Eq(sp.diff(y, x), sp.sin(5*x))\n",
        "display(sp.Eq(sp.Derivative(y, x), sp.sin(5*x)))"
      ]
    },
    {
      "cell_type": "code",
      "execution_count": 685,
      "metadata": {
        "id": "vkper7_nq1ig",
        "outputId": "4c375507-201c-4214-cfb1-d2207324ea4d"
      },
      "outputs": [
        {
          "data": {
            "text/latex": [
              "$\\displaystyle y{\\left(x \\right)} = C_{1} - \\frac{\\cos{\\left(5 x \\right)}}{5}$"
            ],
            "text/plain": [
              "            cos(5⋅x)\n",
              "y(x) = C₁ - ────────\n",
              "               5    "
            ]
          },
          "metadata": {},
          "output_type": "display_data"
        }
      ],
      "source": [
        "sol1 = sp.dsolve(ode1)\n",
        "display(sol1)\n"
      ]
    },
    {
      "cell_type": "code",
      "execution_count": 686,
      "metadata": {
        "id": "4IZbeOyAq1ig",
        "outputId": "4f9bbf81-2697-4474-c9c3-0fb621078979"
      },
      "outputs": [
        {
          "data": {
            "text/latex": [
              "$\\displaystyle \\frac{d}{d x} y{\\left(x \\right)} = \\left(x + 1\\right)^{2}$"
            ],
            "text/plain": [
              "d                 2\n",
              "──(y(x)) = (x + 1) \n",
              "dx                 "
            ]
          },
          "metadata": {},
          "output_type": "display_data"
        }
      ],
      "source": [
        "#2\n",
        "x = sp.Symbol('x')\n",
        "y = sp.Function('y')(x)\n",
        "ode2 = sp.Eq(sp.diff(y, x), (x+1)**2)\n",
        "display(sp.Eq(sp.Derivative(y, x), (x+1)**2))\n",
        "\n"
      ]
    },
    {
      "cell_type": "code",
      "execution_count": 687,
      "metadata": {
        "id": "yx0ZAK7sq1ig",
        "outputId": "3093c7d6-33d8-45ab-f3ac-e4d8d9360cb3"
      },
      "outputs": [
        {
          "data": {
            "text/latex": [
              "$\\displaystyle y{\\left(x \\right)} = C_{1} + \\frac{x^{3}}{3} + x^{2} + x$"
            ],
            "text/plain": [
              "             3         \n",
              "            x     2    \n",
              "y(x) = C₁ + ── + x  + x\n",
              "            3          "
            ]
          },
          "execution_count": 687,
          "metadata": {},
          "output_type": "execute_result"
        }
      ],
      "source": [
        "sol2 = sp.dsolve(ode2); sol2"
      ]
    },
    {
      "cell_type": "code",
      "execution_count": 688,
      "metadata": {
        "id": "pnkTPwKhq1ig",
        "outputId": "e5a255c5-a365-445c-92c6-f054e2646e1a"
      },
      "outputs": [
        {
          "data": {
            "text/latex": [
              "$\\displaystyle \\frac{d}{d x} y{\\left(x \\right)} = - e^{- 3 x}$"
            ],
            "text/plain": [
              "d            -3⋅x\n",
              "──(y(x)) = -ℯ    \n",
              "dx               "
            ]
          },
          "metadata": {},
          "output_type": "display_data"
        }
      ],
      "source": [
        "#3\n",
        "x = sp.Symbol('x')\n",
        "y = sp.Function('y')(x)\n",
        "ode3 = sp.Eq(sp.diff(y, x), -sp.exp(-3*x))\n",
        "display(sp.Eq(sp.Derivative(y, x), -sp.exp(-3*x)))\n",
        "\n"
      ]
    },
    {
      "cell_type": "code",
      "execution_count": 689,
      "metadata": {
        "id": "CJC2X4MTq1ig",
        "outputId": "6f187a50-fb48-4193-d1a9-712834acb115"
      },
      "outputs": [
        {
          "data": {
            "text/latex": [
              "$\\displaystyle y{\\left(x \\right)} = C_{1} + \\frac{e^{- 3 x}}{3}$"
            ],
            "text/plain": [
              "             -3⋅x\n",
              "            ℯ    \n",
              "y(x) = C₁ + ─────\n",
              "              3  "
            ]
          },
          "metadata": {},
          "output_type": "display_data"
        }
      ],
      "source": [
        "sol3 = sp.dsolve(ode3)\n",
        "display(sol3)"
      ]
    },
    {
      "cell_type": "markdown",
      "metadata": {
        "id": "A6cVBuBYq1ig"
      },
      "source": [
        "<p align=\"center\">\n",
        "  <img src=\"https://github.com/Al3xCalva/Problemario_MAC_Tema1/blob/main/PROBLEMARIO%20TEMA%201%20MAC/Problemario%20Saul%202/JPEG%20image-82AA85A88DC9-9.jpeg?raw=1\" width=\"500\">\n",
        "</p>\n"
      ]
    },
    {
      "cell_type": "code",
      "execution_count": 690,
      "metadata": {
        "id": "BXzyAZQ1q1ig",
        "outputId": "ae2e2837-0b15-4cc4-b816-157525a441d6"
      },
      "outputs": [
        {
          "data": {
            "text/latex": [
              "$\\displaystyle \\frac{d}{d x} y{\\left(x \\right)} = \\left(y{\\left(x \\right)} - 1\\right)^{2}$"
            ],
            "text/plain": [
              "d                    2\n",
              "──(y(x)) = (y(x) - 1) \n",
              "dx                    "
            ]
          },
          "metadata": {},
          "output_type": "display_data"
        }
      ],
      "source": [
        "#4\n",
        "x = sp.Symbol('x')\n",
        "y = sp.Function('y')(x)\n",
        "ode4 = sp.Eq(sp.diff(y, x), (y-1)**2)\n",
        "display(sp.Eq(sp.Derivative(y, x), (y-1)**2))\n",
        "\n"
      ]
    },
    {
      "cell_type": "code",
      "execution_count": 691,
      "metadata": {
        "id": "Jc7Lz9a7q1ig",
        "outputId": "6a1de68a-f352-488e-9651-aadcb14bae37"
      },
      "outputs": [
        {
          "data": {
            "text/latex": [
              "$\\displaystyle y{\\left(x \\right)} = \\frac{C_{1} - x + 1}{C_{1} - x}$"
            ],
            "text/plain": [
              "       C₁ - x + 1\n",
              "y(x) = ──────────\n",
              "         C₁ - x  "
            ]
          },
          "metadata": {},
          "output_type": "display_data"
        }
      ],
      "source": [
        "sol4 = sp.dsolve(ode4)\n",
        "display(sol4)"
      ]
    },
    {
      "cell_type": "code",
      "execution_count": 692,
      "metadata": {
        "id": "4siTvhn9q1ih",
        "outputId": "b5c3a3c5-ae8e-4421-d8f8-a26f7bfdb6d5"
      },
      "outputs": [
        {
          "data": {
            "text/latex": [
              "$\\displaystyle \\frac{d}{d x} y{\\left(x \\right)} = \\frac{4 y{\\left(x \\right)}}{x}$"
            ],
            "text/plain": [
              "d          4⋅y(x)\n",
              "──(y(x)) = ──────\n",
              "dx           x   "
            ]
          },
          "metadata": {},
          "output_type": "display_data"
        }
      ],
      "source": [
        "#5\n",
        "x = sp.Symbol('x')\n",
        "y = sp.Function('y')(x)\n",
        "ode5 = sp.Eq(sp.diff(y, x), 4*y/x)\n",
        "display(sp.Eq(sp.Derivative(y, x), 4*y/x))\n",
        "\n"
      ]
    },
    {
      "cell_type": "code",
      "execution_count": 693,
      "metadata": {
        "id": "qP_vQWeSq1ih",
        "outputId": "d4b1b118-4d56-42b3-cebd-02a39e52ede9"
      },
      "outputs": [
        {
          "data": {
            "text/latex": [
              "$\\displaystyle y{\\left(x \\right)} = C_{1} x^{4}$"
            ],
            "text/plain": [
              "           4\n",
              "y(x) = C₁⋅x "
            ]
          },
          "metadata": {},
          "output_type": "display_data"
        }
      ],
      "source": [
        "sol5 = sp.dsolve(ode5)\n",
        "display(sol5)"
      ]
    },
    {
      "cell_type": "markdown",
      "metadata": {
        "id": "CWeB1B3zq1ih"
      },
      "source": [
        "<p align=\"center\">\n",
        "  <img src=\"https://github.com/Al3xCalva/Problemario_MAC_Tema1/blob/main/PROBLEMARIO%20TEMA%201%20MAC/Problemario%20Saul%202/JPEG%20image-82AA85A88DC9-10.jpeg?raw=1\" width=\"500\">\n",
        "</p>\n"
      ]
    },
    {
      "cell_type": "code",
      "execution_count": 694,
      "metadata": {
        "id": "MT5Z8VACq1ih",
        "outputId": "a30e022b-3a78-4a3f-844a-20f9acb72a8f"
      },
      "outputs": [
        {
          "data": {
            "text/latex": [
              "$\\displaystyle 2 x y{\\left(x \\right)} + \\frac{d}{d x} y{\\left(x \\right)} = 0$"
            ],
            "text/plain": [
              "           d           \n",
              "2⋅x⋅y(x) + ──(y(x)) = 0\n",
              "           dx          "
            ]
          },
          "metadata": {},
          "output_type": "display_data"
        }
      ],
      "source": [
        "#6\n",
        "x = sp.Symbol('x')\n",
        "y = sp.Function('y')(x)\n",
        "ode6 = sp.Eq(sp.diff(y, x) + 2*x*y, 0)\n",
        "display(sp.Eq(sp.Derivative(y, x) + 2*x*y, 0))\n",
        "\n"
      ]
    },
    {
      "cell_type": "code",
      "execution_count": 695,
      "metadata": {
        "id": "wMhbqzuDq1ih",
        "outputId": "097e46c5-8435-4aef-caa3-f05da8f3c319"
      },
      "outputs": [
        {
          "data": {
            "text/latex": [
              "$\\displaystyle y{\\left(x \\right)} = C_{1} e^{- x^{2}}$"
            ],
            "text/plain": [
              "             2\n",
              "           -x \n",
              "y(x) = C₁⋅ℯ   "
            ]
          },
          "metadata": {},
          "output_type": "display_data"
        }
      ],
      "source": [
        "sol6 = sp.dsolve(ode6)\n",
        "display(sol6)"
      ]
    },
    {
      "cell_type": "code",
      "execution_count": 696,
      "metadata": {
        "id": "V2OdOErRq1ih",
        "outputId": "b7f5135b-84bc-471d-8365-deeb77fcb363"
      },
      "outputs": [
        {
          "data": {
            "text/latex": [
              "$\\displaystyle \\frac{d}{d x} y{\\left(x \\right)} = e^{3 x + 2 y{\\left(x \\right)}}$"
            ],
            "text/plain": [
              "d           3⋅x + 2⋅y(x)\n",
              "──(y(x)) = ℯ            \n",
              "dx                      "
            ]
          },
          "metadata": {},
          "output_type": "display_data"
        }
      ],
      "source": [
        "#7\n",
        "x = sp.Symbol('x')\n",
        "y = sp.Function('y')(x)\n",
        "\n",
        "ode7 = sp.Eq(sp.Derivative(y, x), sp.exp(3*x + 2*y))\n",
        "display(ode7)"
      ]
    },
    {
      "cell_type": "code",
      "execution_count": 697,
      "metadata": {
        "id": "l4qSxON5q1ih",
        "outputId": "60ed56a7-a731-47f3-bd72-dbbf12759878"
      },
      "outputs": [
        {
          "data": {
            "text/latex": [
              "$\\displaystyle \\left[ y{\\left(x \\right)} = \\frac{\\log{\\left(- \\frac{1}{C_{1} + e^{3 x}} \\right)}}{2} - \\log{\\left(2 \\right)} + \\frac{\\log{\\left(6 \\right)}}{2}, \\  y{\\left(x \\right)} = \\log{\\left(- \\sqrt{- \\frac{1}{C_{1} + e^{3 x}}} \\right)} - \\log{\\left(2 \\right)} + \\frac{\\log{\\left(6 \\right)}}{2}\\right]$"
            ],
            "text/plain": [
              "⎡          ⎛   -1    ⎞                                                         ↪\n",
              "⎢       log⎜─────────⎟                                                         ↪\n",
              "⎢          ⎜      3⋅x⎟                              ⎛      ___________⎞        ↪\n",
              "⎢          ⎝C₁ + ℯ   ⎠            log(6)            ⎜     ╱    -1     ⎟        ↪\n",
              "⎢y(x) = ────────────── - log(2) + ──────, y(x) = log⎜-   ╱  ───────── ⎟ - log( ↪\n",
              "⎢             2                     2               ⎜   ╱         3⋅x ⎟        ↪\n",
              "⎣                                                   ⎝ ╲╱    C₁ + ℯ    ⎠        ↪\n",
              "\n",
              "↪            ⎤\n",
              "↪            ⎥\n",
              "↪            ⎥\n",
              "↪      log(6)⎥\n",
              "↪ 2) + ──────⎥\n",
              "↪        2   ⎥\n",
              "↪            ⎦"
            ]
          },
          "metadata": {},
          "output_type": "display_data"
        }
      ],
      "source": [
        "sol7 = sp.dsolve(ode7)\n",
        "display(sol7)"
      ]
    },
    {
      "cell_type": "markdown",
      "metadata": {
        "id": "4tpN1ymXq1ih"
      },
      "source": [
        "<p align=\"center\">\n",
        "  <img src=\"https://github.com/Al3xCalva/Problemario_MAC_Tema1/blob/main/PROBLEMARIO%20TEMA%201%20MAC/Problemario%20Saul%202/JPEG%20image-82AA85A88DC9-11.jpeg?raw=1\" width=\"500\">\n",
        "</p>\n"
      ]
    },
    {
      "cell_type": "code",
      "execution_count": 698,
      "metadata": {
        "id": "hnr3264Sq1ih",
        "outputId": "dd980a0b-a3c2-4eb5-da86-c30f12872a2e"
      },
      "outputs": [
        {
          "data": {
            "text/latex": [
              "$\\displaystyle y e^{x} \\frac{d}{d x} y{\\left(x \\right)} = e^{- 2 x - y} + e^{- y}$"
            ],
            "text/plain": [
              "   x d           -2⋅x - y    -y\n",
              "y⋅ℯ ⋅──(y(x)) = ℯ         + ℯ  \n",
              "     dx                        "
            ]
          },
          "metadata": {},
          "output_type": "display_data"
        }
      ],
      "source": [
        "\n",
        "#8\n",
        "x = sp.Symbol('x')\n",
        "Y = sp.Function('y')(x)\n",
        "y_sym = sp.Symbol('y')\n",
        "\n",
        "display(sp.Eq(sp.exp(x)*y_sym*sp.Derivative(Y, x), sp.exp(-y_sym) + sp.exp(-2*x - y_sym)))\n"
      ]
    },
    {
      "cell_type": "code",
      "execution_count": 699,
      "metadata": {
        "id": "wDz3TSdWq1ih",
        "outputId": "80b6121c-0616-4d0f-fd77-6d48ccecc1c1"
      },
      "outputs": [
        {
          "data": {
            "text/latex": [
              "$\\displaystyle y{\\left(x \\right)} = W\\left(C_{1} - \\frac{e^{- 3 x - 1}}{3} - e^{- x - 1}\\right) + 1$"
            ],
            "text/plain": [
              "        ⎛      -3⋅x - 1          ⎞    \n",
              "        ⎜     ℯ            -x - 1⎟    \n",
              "y(x) = W⎜C₁ - ───────── - ℯ      ⎟ + 1\n",
              "        ⎝         3              ⎠    "
            ]
          },
          "metadata": {},
          "output_type": "display_data"
        }
      ],
      "source": [
        "\n",
        "ode = sp.Eq(sp.exp(x)*Y*sp.Derivative(Y, x), sp.exp(-Y) + sp.exp(-2*x - Y))\n",
        "sol = sp.dsolve(ode)\n",
        "display(sol)\n"
      ]
    },
    {
      "cell_type": "code",
      "execution_count": 700,
      "metadata": {
        "id": "SUqwyU1vq1ih",
        "outputId": "d3758493-c1d9-4775-ce93-5bdc9220d7ad"
      },
      "outputs": [
        {
          "data": {
            "text/latex": [
              "$\\displaystyle y \\log{\\left(x{\\left(y \\right)} \\right)} \\frac{d}{d y} x{\\left(y \\right)} = \\frac{\\left(y + 1\\right)^{2}}{x^{2}{\\left(y \\right)}}$"
            ],
            "text/plain": [
              "                              2\n",
              "            d          (y + 1) \n",
              "y⋅log(x(y))⋅──(x(y)) = ────────\n",
              "            dy           2     \n",
              "                        x (y)  "
            ]
          },
          "metadata": {},
          "output_type": "display_data"
        }
      ],
      "source": [
        "#9\n",
        "y = sp.Symbol('y')\n",
        "x = sp.Function('x')(y)\n",
        "\n",
        "ode9 = sp.Eq(y*sp.log(x)*sp.Derivative(x, y), ((y+1)/x)**2)\n",
        "display(ode9)\n"
      ]
    },
    {
      "cell_type": "code",
      "execution_count": 701,
      "metadata": {
        "id": "tvo4V-bYq1ii",
        "outputId": "d4f29d2f-155f-400d-ab42-0d459b111c87"
      },
      "outputs": [
        {
          "data": {
            "text/latex": [
              "$\\displaystyle x{\\left(y \\right)} = e^{\\frac{W\\left(C_{1} + \\frac{9 y^{2}}{2 e} + \\frac{18 y}{e} + \\frac{9 \\log{\\left(y \\right)}}{e}\\right)}{3} + \\frac{1}{3}}$"
            ],
            "text/plain": [
              "         ⎛        2  -1                          ⎞    \n",
              "         ⎜     9⋅y ⋅ℯ           -1      -1       ⎟    \n",
              "        W⎜C₁ + ──────── + 18⋅y⋅ℯ   + 9⋅ℯ  ⋅log(y)⎟    \n",
              "         ⎝        2                              ⎠   1\n",
              "        ────────────────────────────────────────── + ─\n",
              "                            3                        3\n",
              "x(y) = ℯ                                              "
            ]
          },
          "metadata": {},
          "output_type": "display_data"
        }
      ],
      "source": [
        "sol9 = sp.dsolve(ode9)\n",
        "display(sol9)\n"
      ]
    },
    {
      "cell_type": "markdown",
      "metadata": {
        "id": "jsWCEaZoq1ii"
      },
      "source": [
        "<p align=\"center\">\n",
        "  <img src=\"https://github.com/Al3xCalva/Problemario_MAC_Tema1/blob/main/PROBLEMARIO%20TEMA%201%20MAC/Problemario%20Saul%202/JPEG%20image-82AA85A88DC9-12.jpeg?raw=1\" width=\"500\">\n",
        "</p>\n"
      ]
    },
    {
      "cell_type": "code",
      "execution_count": 702,
      "metadata": {
        "id": "RrCbNeuKq1ii",
        "outputId": "2af5edb5-415c-4b08-eba5-03130132d637"
      },
      "outputs": [
        {
          "data": {
            "text/latex": [
              "$\\displaystyle \\frac{d}{d x} y{\\left(x \\right)} = \\frac{\\left(2 y{\\left(x \\right)} + 3\\right)^{2}}{\\left(4 x + 5\\right)^{2}}$"
            ],
            "text/plain": [
              "                       2\n",
              "d          (2⋅y(x) + 3) \n",
              "──(y(x)) = ─────────────\n",
              "dx                   2  \n",
              "            (4⋅x + 5)   "
            ]
          },
          "metadata": {},
          "output_type": "display_data"
        }
      ],
      "source": [
        "# 10\n",
        "x = sp.Symbol('x'); y = sp.Function('y')(x)\n",
        "ode10 = sp.Eq(sp.Derivative(y, x), ((2*y+3)/(4*x+5))**2)\n",
        "display(ode10)\n"
      ]
    },
    {
      "cell_type": "code",
      "execution_count": 703,
      "metadata": {
        "id": "GdYWRvbDq1ii",
        "outputId": "74294358-834c-45c9-eda2-e383a4fcd340"
      },
      "outputs": [
        {
          "data": {
            "text/latex": [
              "$\\displaystyle \\frac{d}{d x} y{\\left(x \\right)} = \\frac{\\left(2 y{\\left(x \\right)} + 3\\right)^{2}}{\\left(4 x + 5\\right)^{2}}$"
            ],
            "text/plain": [
              "                       2\n",
              "d          (2⋅y(x) + 3) \n",
              "──(y(x)) = ─────────────\n",
              "dx                   2  \n",
              "            (4⋅x + 5)   "
            ]
          },
          "metadata": {},
          "output_type": "display_data"
        },
        {
          "data": {
            "text/latex": [
              "$\\displaystyle y{\\left(x \\right)} = \\frac{- 48 C_{1} x - 60 C_{1} - 8 x - 7}{2 \\left(16 C_{1} x + 20 C_{1} - 1\\right)}$"
            ],
            "text/plain": [
              "       -48⋅C₁⋅x - 60⋅C₁ - 8⋅x - 7\n",
              "y(x) = ──────────────────────────\n",
              "        2⋅(16⋅C₁⋅x + 20⋅C₁ - 1)  "
            ]
          },
          "metadata": {},
          "output_type": "display_data"
        }
      ],
      "source": [
        "#\n",
        "x = sp.Symbol('x'); y = sp.Function('y')(x)\n",
        "ode10 = sp.Eq(sp.Derivative(y, x), ((2*y+3)/(4*x+5))**2); display(ode10)\n",
        "display(sp.dsolve(ode10))\n"
      ]
    },
    {
      "cell_type": "code",
      "execution_count": 704,
      "metadata": {
        "id": "xKbDMNVKq1ii",
        "outputId": "ef6dcc86-6c4d-4cec-d7f3-383d123fe3e6"
      },
      "outputs": [
        {
          "data": {
            "text/latex": [
              "$\\displaystyle \\frac{\\frac{d}{d x} y{\\left(x \\right)}}{\\cos^{2}{\\left(x \\right)}} + \\frac{1}{\\sin{\\left(y{\\left(x \\right)} \\right)}} = 0$"
            ],
            "text/plain": [
              "d                       \n",
              "──(y(x))                \n",
              "dx             1        \n",
              "──────── + ───────── = 0\n",
              "   2       sin(y(x))    \n",
              "cos (x)                 "
            ]
          },
          "metadata": {},
          "output_type": "display_data"
        }
      ],
      "source": [
        "#11\n",
        "x = sp.Symbol('x')\n",
        "y = sp.Function('y')(x)\n",
        "\n",
        "ode11 = sp.Eq((1/sp.cos(x))**2*sp.Derivative(y, x) + 1/sp.sin(y), 0)\n",
        "display(ode11)"
      ]
    },
    {
      "cell_type": "code",
      "execution_count": 705,
      "metadata": {
        "id": "Z7MNlX--q1ii",
        "outputId": "97ec6227-e5f8-4efa-d45b-6c0397ea3de0"
      },
      "outputs": [
        {
          "data": {
            "text/latex": [
              "$\\displaystyle \\left[ y{\\left(x \\right)} = - \\operatorname{acos}{\\left(C_{1} + \\frac{x}{2} + \\frac{\\sin{\\left(2 x \\right)}}{4} \\right)} + 2 \\pi, \\  y{\\left(x \\right)} = \\operatorname{acos}{\\left(C_{1} + \\frac{x}{2} + \\frac{\\sin{\\left(2 x \\right)}}{4} \\right)}\\right]$"
            ],
            "text/plain": [
              "⎡             ⎛     x   sin(2⋅x)⎞                   ⎛     x   sin(2⋅x)⎞⎤\n",
              "⎢y(x) = - acos⎜C₁ + ─ + ────────⎟ + 2⋅π, y(x) = acos⎜C₁ + ─ + ────────⎟⎥\n",
              "⎣             ⎝     2      4    ⎠                   ⎝     2      4    ⎠⎦"
            ]
          },
          "metadata": {},
          "output_type": "display_data"
        }
      ],
      "source": [
        "sol11 = sp.dsolve(ode11)\n",
        "display(sol11)\n"
      ]
    },
    {
      "cell_type": "markdown",
      "metadata": {
        "id": "dkMBaSytq1ii"
      },
      "source": [
        "<p align=\"center\">\n",
        "  <img src=\"https://github.com/Al3xCalva/Problemario_MAC_Tema1/blob/main/PROBLEMARIO%20TEMA%201%20MAC/Problemario%20Saul%202/JPEG%20image-82AA85A88DC9-13.jpeg?raw=1\" width=\"500\">\n",
        "</p>\n"
      ]
    },
    {
      "cell_type": "code",
      "execution_count": 706,
      "metadata": {
        "id": "YVsAtcDDq1ii",
        "outputId": "f9ceebca-3839-42b2-ebca-f6bf32a0e8f9"
      },
      "outputs": [
        {
          "data": {
            "text/latex": [
              "$\\displaystyle 2 y{\\left(x \\right)} \\cos^{3}{\\left(3 x \\right)} \\frac{d}{d x} y{\\left(x \\right)} + \\sin{\\left(3 x \\right)} = 0$"
            ],
            "text/plain": [
              "          3      d                      \n",
              "2⋅y(x)⋅cos (3⋅x)⋅──(y(x)) + sin(3⋅x) = 0\n",
              "                 dx                     "
            ]
          },
          "metadata": {},
          "output_type": "display_data"
        }
      ],
      "source": [
        "#12\n",
        "x = sp.Symbol('x'); y = sp.Function('y')(x)\n",
        "ode12 = sp.Eq(sp.sin(3*x) + 2*y*sp.cos(3*x)**3*sp.Derivative(y, x), 0)\n",
        "display(ode12)\n"
      ]
    },
    {
      "cell_type": "code",
      "execution_count": 707,
      "metadata": {
        "id": "M1fcIRamq1ii",
        "outputId": "0daa6dc6-585b-4e00-98f3-0304dd87153d"
      },
      "outputs": [
        {
          "data": {
            "text/latex": [
              "$\\displaystyle \\left[ y{\\left(x \\right)} = - \\frac{\\sqrt{C_{1} \\cos^{2}{\\left(3 x \\right)} - 6}}{6 \\cos{\\left(3 x \\right)}}, \\  y{\\left(x \\right)} = \\frac{\\sqrt{C_{1} \\cos^{2}{\\left(3 x \\right)} - 6}}{6 \\cos{\\left(3 x \\right)}}\\right]$"
            ],
            "text/plain": [
              "⎡           __________________             __________________⎤\n",
              "⎢          ╱       2                      ╱       2          ⎥\n",
              "⎢       -╲╱  C₁⋅cos (3⋅x) - 6           ╲╱  C₁⋅cos (3⋅x) - 6 ⎥\n",
              "⎢y(x) = ───────────────────────, y(x) = ─────────────────────⎥\n",
              "⎣             6⋅cos(3⋅x)                     6⋅cos(3⋅x)      ⎦"
            ]
          },
          "metadata": {},
          "output_type": "display_data"
        }
      ],
      "source": [
        "display(sp.dsolve(ode12))"
      ]
    },
    {
      "cell_type": "code",
      "execution_count": 708,
      "metadata": {
        "id": "ZQA1kMLaq1ii",
        "outputId": "5e547cf6-d724-458a-c072-3c3e086ed638"
      },
      "outputs": [
        {
          "data": {
            "text/latex": [
              "$\\displaystyle \\left(e^{x} + 1\\right)^{3} e^{- x} \\frac{d}{d x} y{\\left(x \\right)} + \\left(e^{y} + 1\\right)^{2} e^{- y} = 0$"
            ],
            "text/plain": [
              "        3                        2        \n",
              "⎛ x    ⎞   -x d          ⎛ y    ⎞   -y    \n",
              "⎝ℯ  + 1⎠ ⋅ℯ  ⋅──(y(x)) + ⎝ℯ  + 1⎠ ⋅ℯ   = 0\n",
              "              dx                          "
            ]
          },
          "metadata": {},
          "output_type": "display_data"
        }
      ],
      "source": [
        "\n",
        "#13\n",
        "x = sp.Symbol('x')\n",
        "Y = sp.Function('y')(x)\n",
        "y_sym = sp.Symbol('y')\n",
        "\n",
        "ode13_orig = sp.Eq((sp.exp(y_sym)+1)**2*sp.exp(-y_sym)\n",
        "                   + (sp.exp(x)+1)**3*sp.exp(-x)*sp.Derivative(Y, x), 0)\n",
        "display(ode13_orig)\n"
      ]
    },
    {
      "cell_type": "code",
      "execution_count": 709,
      "metadata": {
        "id": "Y0amr1koq1ii",
        "outputId": "5ec4e52a-a638-41b2-b8e8-d36225849d2d"
      },
      "outputs": [
        {
          "data": {
            "text/latex": [
              "$\\displaystyle y{\\left(x \\right)} = \\log{\\left(\\frac{- 2 C_{1} e^{2 x} - 4 C_{1} e^{x} - 2 C_{1} - 2 e^{2 x} - 4 e^{x} - 3}{2 C_{1} e^{2 x} + 4 C_{1} e^{x} + 2 C_{1} + 1} \\right)}$"
            ],
            "text/plain": [
              "          ⎛        2⋅x         x             2⋅x      x    ⎞\n",
              "          ⎜- 2⋅C₁⋅ℯ    - 4⋅C₁⋅ℯ  - 2⋅C₁ - 2⋅ℯ    - 4⋅ℯ  - 3⎟\n",
              "y(x) = log⎜────────────────────────────────────────────────⎟\n",
              "          ⎜               2⋅x         x                    ⎟\n",
              "          ⎝         2⋅C₁⋅ℯ    + 4⋅C₁⋅ℯ  + 2⋅C₁ + 1         ⎠"
            ]
          },
          "metadata": {},
          "output_type": "display_data"
        },
        {
          "data": {
            "text/latex": [
              "$\\displaystyle - \\frac{1}{e^{y{\\left(x \\right)}} + 1} = C + \\frac{1}{2 \\left(e^{x} + 1\\right)^{2}}$"
            ],
            "text/plain": [
              "   -1                1     \n",
              "───────── = C + ───────────\n",
              " y(x)                     2\n",
              "ℯ     + 1         ⎛ x    ⎞ \n",
              "                2⋅⎝ℯ  + 1⎠ "
            ]
          },
          "metadata": {},
          "output_type": "display_data"
        }
      ],
      "source": [
        "ode13 = sp.Eq(sp.Derivative(Y, x),\n",
        "              - (sp.exp(Y)+1)**2*sp.exp(-Y) / ((sp.exp(x)+1)**3*sp.exp(-x)))\n",
        "sol13 = sp.dsolve(ode13)\n",
        "display(sol13)\n",
        "\n",
        "\n",
        "C = sp.Symbol('C')\n",
        "rel13 = sp.Eq(-1/(sp.exp(Y)+1), 1/(2*(sp.exp(x)+1)**2) + C)\n",
        "display(rel13)\n"
      ]
    },
    {
      "cell_type": "markdown",
      "metadata": {
        "id": "xwXAHiJhq1ii"
      },
      "source": [
        "<p align=\"center\">\n",
        "  <img src=\"https://github.com/Al3xCalva/Problemario_MAC_Tema1/blob/main/PROBLEMARIO%20TEMA%201%20MAC/Problemario%20Saul%202/JPEG%20image-82AA85A88DC9-14.jpeg?raw=1\" width=\"500\">\n",
        "</p>\n"
      ]
    },
    {
      "cell_type": "code",
      "execution_count": 710,
      "metadata": {
        "id": "Xl45dq3Yq1ii",
        "outputId": "dab05741-51b6-44a6-d504-fedde660ba54"
      },
      "outputs": [
        {
          "data": {
            "text/latex": [
              "$\\displaystyle y{\\left(x \\right)} \\frac{d}{d x} y{\\left(x \\right)} = \\frac{x \\sqrt{y^{2}{\\left(x \\right)} + 1}}{\\sqrt{x^{2} + 1}}$"
            ],
            "text/plain": [
              "                     ___________\n",
              "                    ╱  2        \n",
              "     d          x⋅╲╱  y (x) + 1 \n",
              "y(x)⋅──(y(x)) = ────────────────\n",
              "     dx              ________   \n",
              "                    ╱  2        \n",
              "                  ╲╱  x  + 1    "
            ]
          },
          "metadata": {},
          "output_type": "display_data"
        }
      ],
      "source": [
        "# 14\n",
        "x = sp.Symbol('x'); y = sp.Function('y')(x)\n",
        "ode14 = sp.Eq(y*sp.Derivative(y, x), x*(1+x**2)**(-sp.Rational(1,2))*(1+y**2)**(sp.Rational(1,2)))\n",
        "display(ode14)\n"
      ]
    },
    {
      "cell_type": "code",
      "execution_count": 711,
      "metadata": {
        "id": "GhRfcR77q1ii",
        "outputId": "bd71e750-9713-47be-a7cb-84657937c75d"
      },
      "outputs": [
        {
          "data": {
            "text/latex": [
              "$\\displaystyle \\left[ y{\\left(x \\right)} = - \\sqrt{C_{1}^{2} + 2 C_{1} \\sqrt{x^{2} + 1} + x^{2}}, \\  y{\\left(x \\right)} = \\sqrt{C_{1}^{2} + 2 C_{1} \\sqrt{x^{2} + 1} + x^{2}}\\right]$"
            ],
            "text/plain": [
              "⎡            _____________________________             _______________________ ↪\n",
              "⎢           ╱               ________                  ╱               ________ ↪\n",
              "⎢          ╱    2          ╱  2         2            ╱    2          ╱  2      ↪\n",
              "⎣y(x) = -╲╱   C₁  + 2⋅C₁⋅╲╱  x  + 1  + x  , y(x) = ╲╱   C₁  + 2⋅C₁⋅╲╱  x  + 1  ↪\n",
              "\n",
              "↪ ______⎤\n",
              "↪       ⎥\n",
              "↪     2 ⎥\n",
              "↪  + x  ⎦"
            ]
          },
          "metadata": {},
          "output_type": "display_data"
        }
      ],
      "source": [
        "display(sp.dsolve(ode14))"
      ]
    },
    {
      "cell_type": "code",
      "execution_count": 712,
      "metadata": {
        "id": "KxdMQNYNq1ii",
        "outputId": "046edc48-5438-4966-a6c4-2b916b2fae85"
      },
      "outputs": [
        {
          "data": {
            "text/latex": [
              "$\\displaystyle \\frac{d}{d r} S{\\left(r \\right)} = k S{\\left(r \\right)}$"
            ],
            "text/plain": [
              "d                \n",
              "──(S(r)) = k⋅S(r)\n",
              "dr               "
            ]
          },
          "metadata": {},
          "output_type": "display_data"
        }
      ],
      "source": [
        "# 15\n",
        "r, k = sp.symbols('r k'); S = sp.Function('S')(r)\n",
        "ode15 = sp.Eq(sp.Derivative(S, r), k*S)\n",
        "display(ode15)\n"
      ]
    },
    {
      "cell_type": "code",
      "execution_count": 713,
      "metadata": {
        "id": "cb9jKEP0q1ii",
        "outputId": "2860e836-d156-41ed-cfde-f717b5b5e393"
      },
      "outputs": [
        {
          "data": {
            "text/latex": [
              "$\\displaystyle S{\\left(r \\right)} = C_{1} e^{k r}$"
            ],
            "text/plain": [
              "           k⋅r\n",
              "S(r) = C₁⋅ℯ   "
            ]
          },
          "metadata": {},
          "output_type": "display_data"
        }
      ],
      "source": [
        "display(sp.dsolve(ode15))"
      ]
    },
    {
      "cell_type": "markdown",
      "metadata": {
        "id": "B4UvCMJBq1ij"
      },
      "source": [
        "<p align=\"center\">\n",
        "  <img src=\"https://github.com/Al3xCalva/Problemario_MAC_Tema1/blob/main/PROBLEMARIO%20TEMA%201%20MAC/Problemario%20Saul%202/JPEG%20image-82AA85A88DC9-15.jpeg?raw=1\" width=\"500\">\n",
        "</p>\n"
      ]
    },
    {
      "cell_type": "code",
      "execution_count": 714,
      "metadata": {
        "id": "y2Tzvviiq1ij",
        "outputId": "26d1a728-584b-4c4e-a709-3b9a84d9bd64"
      },
      "outputs": [
        {
          "data": {
            "text/latex": [
              "$\\displaystyle \\frac{d}{d t} Q{\\left(t \\right)} = k \\left(Q{\\left(t \\right)} - 70\\right)$"
            ],
            "text/plain": [
              "d                       \n",
              "──(Q(t)) = k⋅(Q(t) - 70)\n",
              "dt                      "
            ]
          },
          "metadata": {},
          "output_type": "display_data"
        }
      ],
      "source": [
        "# 16\n",
        "t, k = sp.symbols('t k'); Q = sp.Function('Q')(t)\n",
        "ode16 = sp.Eq(sp.Derivative(Q, t), k*(Q-70))\n",
        "display(ode16)\n"
      ]
    },
    {
      "cell_type": "code",
      "execution_count": 715,
      "metadata": {
        "id": "SZNDYpDqq1ij",
        "outputId": "d5b5fc9a-b0af-40cb-f060-dcc5e19b684f"
      },
      "outputs": [
        {
          "data": {
            "text/latex": [
              "$\\displaystyle Q{\\left(t \\right)} = C_{1} e^{k t} + 70$"
            ],
            "text/plain": [
              "           k⋅t     \n",
              "Q(t) = C₁⋅ℯ    + 70"
            ]
          },
          "metadata": {},
          "output_type": "display_data"
        }
      ],
      "source": [
        "display(sp.dsolve(ode16))"
      ]
    },
    {
      "cell_type": "code",
      "execution_count": 716,
      "metadata": {
        "id": "rRc65BQOq1ij",
        "outputId": "67c47812-5e7b-4fe2-f7c6-f0157e218042"
      },
      "outputs": [
        {
          "data": {
            "text/latex": [
              "$\\displaystyle \\frac{d}{d t} P{\\left(t \\right)} = - P^{2}{\\left(t \\right)} + P{\\left(t \\right)}$"
            ],
            "text/plain": [
              "d             2          \n",
              "──(P(t)) = - P (t) + P(t)\n",
              "dt                       "
            ]
          },
          "metadata": {},
          "output_type": "display_data"
        }
      ],
      "source": [
        "# 17\n",
        "t = sp.Symbol('t'); P = sp.Function('P')(t)\n",
        "ode17 = sp.Eq(sp.Derivative(P, t), P - P**2)\n",
        "display(ode17)\n"
      ]
    },
    {
      "cell_type": "code",
      "execution_count": 717,
      "metadata": {
        "id": "sb7uVJVEq1ij",
        "outputId": "54dc3147-24d2-4180-bfaf-40f95b6b59cf"
      },
      "outputs": [
        {
          "data": {
            "text/latex": [
              "$\\displaystyle P{\\left(t \\right)} = \\frac{1}{C_{1} e^{- t} + 1}$"
            ],
            "text/plain": [
              "           1     \n",
              "P(t) = ──────────\n",
              "           -t    \n",
              "       C₁⋅ℯ   + 1"
            ]
          },
          "metadata": {},
          "output_type": "display_data"
        }
      ],
      "source": [
        "display(sp.dsolve(ode17))"
      ]
    },
    {
      "cell_type": "markdown",
      "metadata": {
        "id": "p-1Hnmv-q1ij"
      },
      "source": [
        "<p align=\"center\">\n",
        "  <img src=\"https://github.com/Al3xCalva/Problemario_MAC_Tema1/blob/main/PROBLEMARIO%20TEMA%201%20MAC/Problemario%20Saul%202/JPEG%20image-82AA85A88DC9-16.jpeg?raw=1\" width=\"500\">\n",
        "</p>\n"
      ]
    },
    {
      "cell_type": "code",
      "execution_count": 718,
      "metadata": {
        "id": "DqBipQIOq1ij",
        "outputId": "68a4a28a-8f93-4fcb-f2fe-d61330c4fb06"
      },
      "outputs": [
        {
          "data": {
            "text/latex": [
              "$\\displaystyle N{\\left(t \\right)} + \\frac{d}{d t} N{\\left(t \\right)} = t N{\\left(t \\right)} e^{t^{2}}$"
            ],
            "text/plain": [
              "                          ⎛ 2⎞\n",
              "       d                  ⎝t ⎠\n",
              "N(t) + ──(N(t)) = t⋅N(t)⋅ℯ    \n",
              "       dt                     "
            ]
          },
          "metadata": {},
          "output_type": "display_data"
        }
      ],
      "source": [
        "# 18\n",
        "t = sp.Symbol('t'); N = sp.Function('N')(t)\n",
        "ode18 = sp.Eq(sp.Derivative(N, t) + N, N*t*sp.exp(t**2))\n",
        "display(ode18)\n"
      ]
    },
    {
      "cell_type": "code",
      "execution_count": 719,
      "metadata": {
        "id": "upzKZ5qvq1ij",
        "outputId": "44ab2761-e8e0-4bd0-c475-1916c7740131"
      },
      "outputs": [
        {
          "data": {
            "text/latex": [
              "$\\displaystyle N{\\left(t \\right)} = C_{1} e^{- t + \\frac{e^{t^{2}}}{2}}$"
            ],
            "text/plain": [
              "                 ⎛ 2⎞\n",
              "                 ⎝t ⎠\n",
              "                ℯ    \n",
              "           -t + ─────\n",
              "                  2  \n",
              "N(t) = C₁⋅ℯ          "
            ]
          },
          "metadata": {},
          "output_type": "display_data"
        }
      ],
      "source": [
        "display(sp.dsolve(ode18))"
      ]
    },
    {
      "cell_type": "code",
      "execution_count": 720,
      "metadata": {
        "id": "YMyiDHBmq1ij",
        "outputId": "c51fdb7d-b3d6-48b0-fff2-b5c2ed3982b2"
      },
      "outputs": [
        {
          "data": {
            "text/latex": [
              "$\\displaystyle \\frac{d}{d x} y{\\left(x \\right)} = \\frac{x y{\\left(x \\right)} + 3 x - y{\\left(x \\right)} - 3}{x y{\\left(x \\right)} - 2 x + 4 y{\\left(x \\right)} - 8}$"
            ],
            "text/plain": [
              "d           x⋅y(x) + 3⋅x - y(x) - 3 \n",
              "──(y(x)) = ─────────────────────────\n",
              "dx         x⋅y(x) - 2⋅x + 4⋅y(x) - 8"
            ]
          },
          "metadata": {},
          "output_type": "display_data"
        }
      ],
      "source": [
        "#19\n",
        "x = sp.Symbol('x')\n",
        "y = sp.Function('y')(x)\n",
        "\n",
        "ode19 = sp.Eq(sp.Derivative(y, x), (x*y + 3*x - y - 3)/(x*y - 2*x + 4*y - 8))\n",
        "display(ode19)"
      ]
    },
    {
      "cell_type": "code",
      "execution_count": 721,
      "metadata": {
        "id": "idkrS11xq1ij",
        "outputId": "68fdc247-1006-4b8a-b475-fa28608b0fb0"
      },
      "outputs": [
        {
          "data": {
            "text/latex": [
              "$\\displaystyle y{\\left(x \\right)} - 5 \\log{\\left(\\left|{y{\\left(x \\right)} + 3}\\right| \\right)} = C + x - 5 \\log{\\left(\\left|{x + 4}\\right| \\right)}$"
            ],
            "text/plain": [
              "y(x) - 5⋅log(│y(x) + 3│) = C + x - 5⋅log(│x + 4│)"
            ]
          },
          "metadata": {},
          "output_type": "display_data"
        }
      ],
      "source": [
        "C = sp.Symbol('C')\n",
        "sol19_impl = sp.Eq(y - 5*sp.log(sp.Abs(y + 3)), x - 5*sp.log(sp.Abs(x + 4)) + C)\n",
        "display(sol19_impl)"
      ]
    },
    {
      "cell_type": "markdown",
      "metadata": {
        "id": "bbjOHpFLq1ij"
      },
      "source": [
        "<p align=\"center\">\n",
        "  <img src=\"https://github.com/Al3xCalva/Problemario_MAC_Tema1/blob/main/PROBLEMARIO%20TEMA%201%20MAC/Problemario%20Saul%202/JPEG%20image-82AA85A88DC9-17.jpeg?raw=1\" width=\"500\">\n",
        "</p>\n"
      ]
    },
    {
      "cell_type": "code",
      "execution_count": 722,
      "metadata": {
        "id": "jRqXHnYBq1ij",
        "outputId": "d25dc7f2-3766-4049-9476-dc98eb15b602"
      },
      "outputs": [
        {
          "data": {
            "text/latex": [
              "$\\displaystyle \\frac{d}{d x} y{\\left(x \\right)} = \\frac{x y{\\left(x \\right)} - x + 2 y{\\left(x \\right)} - 2}{x y{\\left(x \\right)} + x - 3 y{\\left(x \\right)} - 3}$"
            ],
            "text/plain": [
              "d          x⋅y(x) - x + 2⋅y(x) - 2\n",
              "──(y(x)) = ───────────────────────\n",
              "dx         x⋅y(x) + x - 3⋅y(x) - 3"
            ]
          },
          "metadata": {},
          "output_type": "display_data"
        }
      ],
      "source": [
        "#20\n",
        "x = sp.Symbol('x')\n",
        "y = sp.Function('y')(x)\n",
        "\n",
        "ode20 = sp.Eq(sp.Derivative(y, x), (x*y + 2*y - x - 2)/(x*y - 3*y + x - 3))\n",
        "display(ode20)"
      ]
    },
    {
      "cell_type": "code",
      "execution_count": 723,
      "metadata": {
        "id": "9_llsglIq1ij",
        "outputId": "9df624fa-005d-4734-f97e-724c0ddf888e"
      },
      "outputs": [
        {
          "data": {
            "text/latex": [
              "$\\displaystyle y{\\left(x \\right)} + 2 \\log{\\left(\\left|{y{\\left(x \\right)} - 1}\\right| \\right)} = C + x + 5 \\log{\\left(\\left|{x - 3}\\right| \\right)}$"
            ],
            "text/plain": [
              "y(x) + 2⋅log(│y(x) - 1│) = C + x + 5⋅log(│x - 3│)"
            ]
          },
          "metadata": {},
          "output_type": "display_data"
        }
      ],
      "source": [
        "C = sp.Symbol('C')\n",
        "sol20_impl = sp.Eq(y + 2*sp.log(sp.Abs(y - 1)), x + 5*sp.log(sp.Abs(x - 3)) + C)\n",
        "display(sol20_impl)\n"
      ]
    },
    {
      "cell_type": "code",
      "execution_count": 724,
      "metadata": {
        "id": "Wdy8jc9pq1ij",
        "outputId": "ff01e0fc-eb13-4354-fd5d-5e2f0efd6559"
      },
      "outputs": [
        {
          "data": {
            "text/latex": [
              "$\\displaystyle \\frac{d}{d x} y{\\left(x \\right)} = x \\sqrt{1 - y^{2}{\\left(x \\right)}}$"
            ],
            "text/plain": [
              "                ___________\n",
              "d              ╱      2    \n",
              "──(y(x)) = x⋅╲╱  1 - y (x) \n",
              "dx                         "
            ]
          },
          "metadata": {},
          "output_type": "display_data"
        }
      ],
      "source": [
        "# 21\n",
        "x = sp.Symbol('x'); y = sp.Function('y')(x)\n",
        "ode21 = sp.Eq(sp.Derivative(y, x), x*sp.sqrt(1 - y**2))\n",
        "display(ode21)\n"
      ]
    },
    {
      "cell_type": "code",
      "execution_count": 725,
      "metadata": {
        "id": "3ewxPYwmq1ij",
        "outputId": "7af8d2e5-c382-4f07-a13d-09e80c3e7219"
      },
      "outputs": [
        {
          "data": {
            "text/latex": [
              "$\\displaystyle y{\\left(x \\right)} = \\sin{\\left(C_{1} + \\frac{x^{2}}{2} \\right)}$"
            ],
            "text/plain": [
              "          ⎛      2⎞\n",
              "          ⎜     x ⎟\n",
              "y(x) = sin⎜C₁ + ──⎟\n",
              "          ⎝     2 ⎠"
            ]
          },
          "metadata": {},
          "output_type": "display_data"
        }
      ],
      "source": [
        "display(sp.dsolve(ode21))"
      ]
    },
    {
      "cell_type": "markdown",
      "metadata": {
        "id": "bCWQOLTxq1ij"
      },
      "source": [
        "<p align=\"center\">\n",
        "  <img src=\"https://github.com/Al3xCalva/Problemario_MAC_Tema1/blob/main/PROBLEMARIO%20TEMA%201%20MAC/Problemario%20Saul%202/JPEG%20image-82AA85A88DC9-18.jpeg?raw=1\" width=\"500\">\n",
        "</p>\n"
      ]
    },
    {
      "cell_type": "code",
      "execution_count": 726,
      "metadata": {
        "id": "yGYTDYXVq1ij",
        "outputId": "45a0a27a-1f42-472f-efcd-c437a9dc4e2c"
      },
      "outputs": [
        {
          "data": {
            "text/latex": [
              "$\\displaystyle \\left(e^{x} + e^{- x}\\right) \\frac{d}{d x} y{\\left(x \\right)} = y^{2}{\\left(x \\right)}$"
            ],
            "text/plain": [
              "⎛ x    -x⎞ d           2   \n",
              "⎝ℯ  + ℯ  ⎠⋅──(y(x)) = y (x)\n",
              "           dx              "
            ]
          },
          "metadata": {},
          "output_type": "display_data"
        }
      ],
      "source": [
        "# 22\n",
        "x = sp.Symbol('x'); y = sp.Function('y')(x)\n",
        "ode22 = sp.Eq((sp.exp(x) + sp.exp(-x))*sp.Derivative(y, x), y**2)\n",
        "display(ode22)\n"
      ]
    },
    {
      "cell_type": "code",
      "execution_count": 727,
      "metadata": {
        "id": "rMeqUe7Kq1ik",
        "outputId": "04fe8462-8504-41e4-a142-29631a04daa8"
      },
      "outputs": [
        {
          "data": {
            "text/latex": [
              "$\\displaystyle y{\\left(x \\right)} = - \\frac{1}{C_{1} + \\operatorname{atan}{\\left(\\tanh{\\left(\\frac{x}{2} \\right)} \\right)}}$"
            ],
            "text/plain": [
              "              -1         \n",
              "y(x) = ──────────────────\n",
              "                ⎛    ⎛x⎞⎞\n",
              "       C₁ + atan⎜tanh⎜─⎟⎟\n",
              "                ⎝    ⎝2⎠⎠"
            ]
          },
          "metadata": {},
          "output_type": "display_data"
        }
      ],
      "source": [
        "display(sp.dsolve(ode22))"
      ]
    },
    {
      "cell_type": "markdown",
      "metadata": {
        "id": "HAa2q7jRq1ik"
      },
      "source": [
        "# Seccion 2 : Problemas de valor inicial"
      ]
    },
    {
      "cell_type": "markdown",
      "metadata": {
        "id": "SN4wMRQPq1ik"
      },
      "source": [
        "<p align=\"center\">\n",
        "  <img src=\"https://github.com/Al3xCalva/Problemario_MAC_Tema1/blob/main/PROBLEMARIO%20TEMA%201%20MAC/Problemario%20Saul%202/JPEG%20image-82AA85A88DC9-19.jpeg?raw=1\" width=\"500\">\n",
        "</p>\n"
      ]
    },
    {
      "cell_type": "code",
      "execution_count": 728,
      "metadata": {
        "id": "eUaJYXhUq1ik",
        "outputId": "2fa39d3b-ada2-4fd4-a5b2-b3f0960873cb"
      },
      "outputs": [
        {
          "data": {
            "text/latex": [
              "$\\displaystyle \\frac{d}{d t} x{\\left(t \\right)} = 4 x^{2}{\\left(t \\right)} + 4$"
            ],
            "text/plain": [
              "d             2       \n",
              "──(x(t)) = 4⋅x (t) + 4\n",
              "dt                    "
            ]
          },
          "metadata": {},
          "output_type": "display_data"
        }
      ],
      "source": [
        "#23\n",
        "t = sp.Symbol('t'); x = sp.Function('x')(t)\n",
        "ode23 = sp.Eq(sp.Derivative(x, t), 4*(x**2 + 1))\n",
        "display(ode23)\n"
      ]
    },
    {
      "cell_type": "code",
      "execution_count": 729,
      "metadata": {
        "id": "feD8Bycuq1ik",
        "outputId": "c61b5d59-141f-40fa-a81c-d7a547bea94c"
      },
      "outputs": [
        {
          "data": {
            "text/latex": [
              "$\\displaystyle x{\\left(t \\right)} = \\tan{\\left(4 t + \\frac{\\pi}{4} \\right)}$"
            ],
            "text/plain": [
              "          ⎛      π⎞\n",
              "x(t) = tan⎜4⋅t + ─⎟\n",
              "          ⎝      4⎠"
            ]
          },
          "metadata": {},
          "output_type": "display_data"
        }
      ],
      "source": [
        "display(sp.dsolve(ode23, ics={x.subs(t, sp.pi/4): 1}))"
      ]
    },
    {
      "cell_type": "code",
      "execution_count": 730,
      "metadata": {
        "id": "T02aKKgmq1ik",
        "outputId": "92bfeb78-7577-45a4-fde5-9f4997fe1317"
      },
      "outputs": [
        {
          "data": {
            "text/latex": [
              "$\\displaystyle \\frac{d}{d x} y{\\left(x \\right)} = \\frac{y^{2}{\\left(x \\right)} - 1}{x^{2} - 1}$"
            ],
            "text/plain": [
              "            2       \n",
              "d          y (x) - 1\n",
              "──(y(x)) = ─────────\n",
              "dx           2      \n",
              "            x  - 1  "
            ]
          },
          "metadata": {},
          "output_type": "display_data"
        }
      ],
      "source": [
        "#24\n",
        "x = sp.Symbol('x'); y = sp.Function('y')(x)\n",
        "ode24 = sp.Eq(sp.Derivative(y, x), (y**2 - 1)/(x**2 - 1))\n",
        "display(ode24)\n"
      ]
    },
    {
      "cell_type": "code",
      "execution_count": 731,
      "metadata": {
        "id": "IFgUh8kLq1ik",
        "outputId": "48c131de-3805-4adb-ee99-383c20650e40"
      },
      "outputs": [
        {
          "data": {
            "text/latex": [
              "$\\displaystyle y{\\left(x \\right)} = x$"
            ],
            "text/plain": [
              "y(x) = x"
            ]
          },
          "metadata": {},
          "output_type": "display_data"
        }
      ],
      "source": [
        "display(sp.dsolve(ode24, ics={y.subs(x, 2): 2}))"
      ]
    },
    {
      "cell_type": "markdown",
      "metadata": {
        "id": "rcmLM3iUq1ik"
      },
      "source": [
        "<p align=\"center\">\n",
        "  <img src=\"https://github.com/Al3xCalva/Problemario_MAC_Tema1/blob/main/PROBLEMARIO%20TEMA%201%20MAC/Problemario%20Saul%202/JPEG%20image-82AA85A88DC9-20.jpeg?raw=1\" width=\"500\">\n",
        "</p>\n"
      ]
    },
    {
      "cell_type": "code",
      "execution_count": 732,
      "metadata": {
        "id": "HGczAqvLq1ik",
        "outputId": "9d84321f-8ab9-436a-a550-d4654e423160"
      },
      "outputs": [
        {
          "data": {
            "text/latex": [
              "$\\displaystyle x^{2} \\frac{d}{d x} y{\\left(x \\right)} = - x y{\\left(x \\right)} + y{\\left(x \\right)}$"
            ],
            "text/plain": [
              " 2 d                        \n",
              "x ⋅──(y(x)) = -x⋅y(x) + y(x)\n",
              "   dx                       "
            ]
          },
          "metadata": {},
          "output_type": "display_data"
        }
      ],
      "source": [
        "#25\n",
        "x = sp.Symbol('x'); y = sp.Function('y')(x)\n",
        "ode25 = sp.Eq(x**2*sp.Derivative(y, x), y - x*y)\n",
        "display(ode25)\n"
      ]
    },
    {
      "cell_type": "code",
      "execution_count": 733,
      "metadata": {
        "id": "20okWU23q1ik",
        "outputId": "e7628eeb-1973-4fb8-cf8d-8d564a70a0b6"
      },
      "outputs": [
        {
          "data": {
            "text/latex": [
              "$\\displaystyle y{\\left(x \\right)} = \\frac{e^{- \\frac{1}{x}}}{e x}$"
            ],
            "text/plain": [
              "            -1 \n",
              "            ───\n",
              "        -1   x \n",
              "       ℯ  ⋅ℯ   \n",
              "y(x) = ────────\n",
              "          x    "
            ]
          },
          "metadata": {},
          "output_type": "display_data"
        }
      ],
      "source": [
        "display(sp.dsolve(ode25, ics={y.subs(x, -1): -1}))"
      ]
    },
    {
      "cell_type": "code",
      "execution_count": 734,
      "metadata": {
        "id": "_ckBVgaIq1ik",
        "outputId": "7e674997-1c40-4e65-ed39-b13fca989d2f"
      },
      "outputs": [
        {
          "data": {
            "text/latex": [
              "$\\displaystyle 2 y{\\left(t \\right)} + \\frac{d}{d t} y{\\left(t \\right)} = 1$"
            ],
            "text/plain": [
              "         d           \n",
              "2⋅y(t) + ──(y(t)) = 1\n",
              "         dt          "
            ]
          },
          "metadata": {},
          "output_type": "display_data"
        }
      ],
      "source": [
        "#26\n",
        "t = sp.Symbol('t'); y = sp.Function('y')(t)\n",
        "ode26 = sp.Eq(sp.Derivative(y, t) + 2*y, 1)\n",
        "display(ode26)\n"
      ]
    },
    {
      "cell_type": "code",
      "execution_count": 735,
      "metadata": {
        "id": "-reqywNdq1ik",
        "outputId": "cdf9fe2c-df12-46d8-8319-d4f6f5f51c82"
      },
      "outputs": [
        {
          "data": {
            "text/latex": [
              "$\\displaystyle y{\\left(t \\right)} = \\frac{1}{2} + \\frac{3 e^{- 2 t}}{14}$"
            ],
            "text/plain": [
              "              -2⋅t\n",
              "       1   3⋅ℯ    \n",
              "y(t) = ─ + ───────\n",
              "       2     14   "
            ]
          },
          "metadata": {},
          "output_type": "display_data"
        }
      ],
      "source": [
        "display(sp.dsolve(ode26, ics={y.subs(t, 0): sp.Rational(5,7)}))"
      ]
    },
    {
      "cell_type": "markdown",
      "metadata": {
        "id": "AdfflunOq6Uz"
      },
      "source": [
        "### Referencias Bibliograficas\n",
        "\n",
        "\n",
        "[1] W. E. Boyce y R. C. DiPrima, Ecuaciones diferenciales y problemas en la frontera, 4ª ed. México: Ed. Limusa, 2013.\n",
        "\n",
        "[2] D. G. Zill, Ecuaciones diferenciales con aplicaciones de modelado, 7ª ed. Boston: Ed. Thomson Learning, 2016.\n",
        "\n",
        "[3] M. Aldeatdo, \"Clasificación de las ecuaciones diferenciales,\" [En línea]. Disponible en: https://mialdeatdo.com/topic1-2-clasificacion-de-las-ecuaciones-diferenciales/. [Accedido: 19-sep-2025].\n",
        "\n",
        "[4] Differential Equations. (n.d.). Lamar.edu. Retrieved September 19, 2025, from https://tutorial.math.lamar.edu/classes/de/de.aspx\n",
        "\n",
        "[5] 1.2. CLASIFICACIÓN DE LAS ECUACIONES DIFERENCIALES. (n.d.). Mialdeatdo.com. Retrieved September 12,\n",
        "2025, from https://mialdeatdo.com/topic/1-2-clasificacion-de-las-ecuaciones-diferenciales/\n"
      ]
    }
  ],
  "metadata": {
    "colab": {
      "provenance": []
    },
    "kernelspec": {
      "display_name": "Python 3",
      "language": "python",
      "name": "python3"
    },
    "language_info": {
      "codemirror_mode": {
        "name": "ipython",
        "version": 3
      },
      "file_extension": ".py",
      "mimetype": "text/x-python",
      "name": "python",
      "nbconvert_exporter": "python",
      "pygments_lexer": "ipython3",
      "version": "3.12.8"
    }
  },
  "nbformat": 4,
  "nbformat_minor": 0
}
